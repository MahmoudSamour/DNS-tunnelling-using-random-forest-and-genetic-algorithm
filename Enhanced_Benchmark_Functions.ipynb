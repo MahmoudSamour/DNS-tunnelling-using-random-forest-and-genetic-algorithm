{
 "cells": [
  {
   "cell_type": "code",
   "execution_count": null,
   "id": "2b7fa3cb",
   "metadata": {},
   "outputs": [],
   "source": [
    "# Install required libraries\n",
    "# ! pip install deap plotly pandas scipy pyswarm kaleido"
   ]
  },
  {
   "cell_type": "code",
   "execution_count": 18,
   "id": "cc98d094",
   "metadata": {},
   "outputs": [],
   "source": [
    "# ! pip install torch torchvision torchaudio"
   ]
  },
  {
   "cell_type": "code",
   "execution_count": null,
   "id": "e67d7c1c",
   "metadata": {},
   "outputs": [
    {
     "name": "stdout",
     "output_type": "stream",
     "text": [
      "🧪 Running experiments for Sphere...\n",
      "  -> Algorithm: GA\n",
      "  -> Algorithm: PPS-GA\n",
      "  -> Algorithm: RLCGWO\n",
      "  -> Algorithm: EnhancedRLGWO\n",
      "  -> Algorithm: DE\n",
      "  -> Algorithm: PSO\n",
      "Stopping search: Swarm best objective change less than 1e-08\n",
      "Stopping search: Swarm best objective change less than 1e-08\n",
      "Stopping search: Swarm best objective change less than 1e-08\n",
      "Stopping search: maximum iterations reached --> 100\n",
      "Stopping search: maximum iterations reached --> 100\n",
      "🧪 Running experiments for Rastrigin...\n",
      "  -> Algorithm: GA\n",
      "  -> Algorithm: PPS-GA\n",
      "  -> Algorithm: RLCGWO\n",
      "  -> Algorithm: EnhancedRLGWO\n",
      "  -> Algorithm: DE\n",
      "  -> Algorithm: PSO\n",
      "Stopping search: maximum iterations reached --> 100\n",
      "Stopping search: maximum iterations reached --> 100\n",
      "Stopping search: maximum iterations reached --> 100\n",
      "Stopping search: maximum iterations reached --> 100\n",
      "Stopping search: Swarm best objective change less than 1e-08\n",
      "🧪 Running experiments for Rosenbrock...\n",
      "  -> Algorithm: GA\n",
      "  -> Algorithm: PPS-GA\n",
      "  -> Algorithm: RLCGWO\n",
      "  -> Algorithm: EnhancedRLGWO\n",
      "  -> Algorithm: DE\n",
      "  -> Algorithm: PSO\n",
      "Stopping search: maximum iterations reached --> 100\n",
      "Stopping search: maximum iterations reached --> 100\n",
      "Stopping search: maximum iterations reached --> 100\n",
      "Stopping search: maximum iterations reached --> 100\n",
      "Stopping search: maximum iterations reached --> 100\n",
      "🧪 Running experiments for Ackley...\n",
      "  -> Algorithm: GA\n",
      "  -> Algorithm: PPS-GA\n",
      "  -> Algorithm: RLCGWO\n",
      "  -> Algorithm: EnhancedRLGWO\n",
      "  -> Algorithm: DE\n",
      "  -> Algorithm: PSO\n",
      "Stopping search: Swarm best objective change less than 1e-08\n",
      "Stopping search: maximum iterations reached --> 100\n",
      "Stopping search: maximum iterations reached --> 100\n",
      "Stopping search: maximum iterations reached --> 100\n",
      "Stopping search: Swarm best objective change less than 1e-08\n",
      "🧪 Running experiments for Griewank...\n",
      "  -> Algorithm: GA\n",
      "  -> Algorithm: PPS-GA\n",
      "  -> Algorithm: RLCGWO\n",
      "  -> Algorithm: EnhancedRLGWO\n",
      "  -> Algorithm: DE\n",
      "  -> Algorithm: PSO\n",
      "Stopping search: maximum iterations reached --> 100\n",
      "Stopping search: Swarm best objective change less than 1e-08\n",
      "Stopping search: maximum iterations reached --> 100\n",
      "Stopping search: Swarm best objective change less than 1e-08\n",
      "Stopping search: maximum iterations reached --> 100\n",
      "🧪 Running experiments for Michalewicz...\n",
      "  -> Algorithm: GA\n",
      "  -> Algorithm: PPS-GA\n",
      "  -> Algorithm: RLCGWO\n",
      "  -> Algorithm: EnhancedRLGWO\n",
      "  -> Algorithm: DE\n",
      "  -> Algorithm: PSO\n",
      "Stopping search: Swarm best objective change less than 1e-08\n",
      "Stopping search: Swarm best objective change less than 1e-08\n",
      "Stopping search: maximum iterations reached --> 100\n",
      "Stopping search: maximum iterations reached --> 100\n",
      "Stopping search: maximum iterations reached --> 100\n"
     ]
    },
    {
     "data": {
      "application/vnd.plotly.v1+json": {
       "config": {
        "plotlyServerURL": "https://plot.ly"
       },
       "data": [
        {
         "mode": "lines",
         "name": "GA",
         "type": "scatter",
         "x": [
          0,
          1,
          2,
          3,
          4,
          5,
          6,
          7,
          8,
          9,
          10,
          11,
          12,
          13,
          14,
          15,
          16,
          17,
          18,
          19,
          20,
          21,
          22,
          23,
          24,
          25,
          26,
          27,
          28,
          29,
          30,
          31,
          32,
          33,
          34,
          35,
          36,
          37,
          38,
          39,
          40,
          41,
          42,
          43,
          44,
          45,
          46,
          47,
          48,
          49,
          50,
          51,
          52,
          53,
          54,
          55,
          56,
          57,
          58,
          59,
          60,
          61,
          62,
          63,
          64,
          65,
          66,
          67,
          68,
          69,
          70,
          71,
          72,
          73,
          74,
          75,
          76,
          77,
          78,
          79,
          80,
          81,
          82,
          83,
          84,
          85,
          86,
          87,
          88,
          89,
          90,
          91,
          92,
          93,
          94,
          95,
          96,
          97,
          98,
          99,
          100
         ],
         "y": {
          "bdata": "5m8+nxcCYEDKIeCaqUpcQJPdiTpCT1pAfphiOZJJUEB9B6coErxLQKawiIZJuURASMgTEPPhQkDe6WMLrko5QMvBOVAf9y9AYF7ARC40L0ACYzxTw+AmQCyCXUSn4SJACKL7ShMWH0C+1mibepgWQH5nafZbxBJARg6K7UKYC0AKdEUls34HQBF3BMsckQNAjmddlDjd/T+aAPqhsz/7P6iD2YOexvk/zmgRhBU/8D8+tVwZ1F7tP5Kkqf1JX+M/a22nzEOw4z+7+Y97jureP3EW9P++E9g/W/e9vSkY2D96PNDz5fHUP723x0iOE9E/B+lpJJUy0D8C7zcVxNbIP3CLLVrv0MQ/MMuYPCmNwD+73FTjidTAPzawrLYTSb0/SOub7DbKuT+S+LcASBK3P2PR93vXlrU/eJNYlmplsz9Go21XFoGxP6hIttDD9bA/UF+8OGFwrT9zXt8qftWqP8TlO6UR+aY/AvlMFEyQpT/wz8o8JkKkP4AL0MRcO6I/p+ntsKaZoD8zrGidIfWeP7IdtNbNNJ0/KoQEAdHtnj/Q1wDfaFGbPx5VJwh/aJc/v7k5cM+ilj9wHR/G+ICUPxd5oJTLeJM/Wt3FT1+lkj+QdElisIOQPzJWeqB0+Y4/zqB3qmw7gz+hFGhutBeAP7ssxiRHPX8/c1UAjHn7ez9NXxrQMDx7P3gokWU6dXo/eadL08IueD/XIj9Yzzp3P8IWB9PumHc/8vfzOnJadj8Na4x+D0R2PzppZBJNwnU/VwgyW983dT9qQtSTj/90PwgvGzkE9HQ/Uo1S/IpGdD/PUM0h7pxzP6qLskgQm3M/SjzznPd2cz9aLW2Mo+dyP6LZyEmquXI/wEMR48CRcj9W3whoAmdyPyEe90AOMXI/MmwcGcwAcj/a25zb3stxPw5zBWG+sHE/3PntRghVcT9h0u5K+P9wP66X9ilhIXA/dke5kJTUbj/jBmPcI4VqP/h5jw/K1Gg/K7Cnb0sVbD+KJd0JnvRrP+tcQhfM1WY/Qk/9N3iGZT9QQXizohFlP4HThcOuD2Q/BqlJfeUzYz/kxSeGhyFjPw==",
          "dtype": "f8"
         }
        },
        {
         "mode": "lines",
         "name": "PPS-GA",
         "type": "scatter",
         "x": [
          0,
          1,
          2,
          3,
          4,
          5,
          6,
          7,
          8,
          9,
          10,
          11,
          12,
          13,
          14,
          15,
          16,
          17,
          18,
          19,
          20,
          21,
          22,
          23,
          24,
          25,
          26,
          27,
          28,
          29,
          30,
          31,
          32,
          33,
          34,
          35,
          36,
          37,
          38,
          39,
          40,
          41,
          42,
          43,
          44,
          45,
          46,
          47,
          48,
          49,
          50,
          51,
          52,
          53,
          54,
          55,
          56,
          57,
          58,
          59,
          60,
          61,
          62,
          63,
          64,
          65,
          66,
          67,
          68,
          69,
          70,
          71,
          72,
          73,
          74,
          75,
          76,
          77,
          78,
          79,
          80,
          81,
          82,
          83,
          84,
          85,
          86,
          87,
          88,
          89,
          90,
          91,
          92,
          93,
          94,
          95,
          96,
          97,
          98,
          99,
          100
         ],
         "y": {
          "bdata": "00XrGgErQEB4GrQUHRU/QFqKVomNdjhAYqKo5l7XMUBsaDA5XKUwQN86+M9oDChACA7aOicsJUC54YaKRA8hQP1EAYLUeBtAOpzXJ3MZGkCtl1QiYocUQKthfeDcyBNAP+s/gMtJEEDVP5AXxNoNQMTOWc6TLwdAfRpojMayBEDSG9aI76sBQHpwFmt7Av4/TUg0oTOw+T8UGqInF8D0P/rldUvUJPA/dl0LklvU6j/01WPcB0fnP6ZtS30Ik+Q/4ws6k77L4j+DsEnJ+MDgPzBcwGVPfNs/6dvf4dCu2D8VALrL4rfWPxhcLdtA/dU/r6GftaeG0j8W7BwscV7PP8oocMiVyM0/lfICDFXyyj+m9VMzZKHHPyLf7ZNIC8Q/Nc88K0m5wz9LGEPeC37CP7UWow42F8E/tRajDjYXwT8nnNApS9jAP/O8i0VqdMA/vQEdyxEAwD+joqB+sdO9P4ZU3o1OMLw/6n0y32L7tj9KXoLbYFq2P5wJcDCP6rU/ehezkCOOtD9xvJjNZGqzP+6UFVyiSbM/KER6Zjf2sj9woX4Cu2qyP+KI4nomGbI/Y53zaRTHsT+Wuc9/xZqxP6NhLLQTgbE/7m9EaFE2sT84y1y6dwuxP+6njBQqCLE/lTmHuqvIsD9cRoM3Gp6wP6wU0lmUirA/WLf6GSZgrT9bEUvNYGirP/5pZT/tA6w/WEATjQ3Yqj/NgVRdBIGqP4JWj0y5T6o/jRhHfZhMqj/AAnwGVgiqP+2uYhwH2Kc/dHowfo6Zpz+hWo/eKoqnP8HC/6IsyaY/c5X2jMa5pT/5/+EMxiakP77EVZlmA6Q/ZocC6Ru0oz9i7Auk/jWjP1UusBnCB6M/hH74Tm78oj/qmkOw1eeiP5+S0BfV05g/loilZLKpoj+xGdKEx6GiP/7pZedGmKI/WyRSZOuFoj+z8ohDNneiP8GSLy2U46E/lsjIK+zHoT8iI24+Op6hP5mHMeC/epM/GmhNPpd4kz8SzC9QQzaTP3nlziKSCJI/iUblZecTkj/obOUw2QKSPx/z7mfba5E/jum6UkJEjz/m0yYJz4eOPw==",
          "dtype": "f8"
         }
        },
        {
         "mode": "lines",
         "name": "RLCGWO",
         "type": "scatter",
         "x": [
          0,
          1,
          2,
          3,
          4,
          5,
          6,
          7,
          8,
          9,
          10,
          11,
          12,
          13,
          14,
          15,
          16,
          17,
          18,
          19,
          20,
          21,
          22,
          23,
          24,
          25,
          26,
          27,
          28,
          29,
          30,
          31,
          32,
          33,
          34,
          35,
          36,
          37,
          38,
          39,
          40,
          41,
          42,
          43,
          44,
          45,
          46,
          47,
          48,
          49,
          50,
          51,
          52,
          53,
          54,
          55,
          56,
          57,
          58,
          59,
          60,
          61,
          62,
          63,
          64,
          65,
          66,
          67,
          68,
          69,
          70,
          71,
          72,
          73,
          74,
          75,
          76,
          77,
          78,
          79,
          80,
          81,
          82,
          83,
          84,
          85,
          86,
          87,
          88,
          89,
          90,
          91,
          92,
          93,
          94,
          95,
          96,
          97,
          98,
          99,
          100
         ],
         "y": {
          "bdata": "smyTQlsNQUBTd6mruA0rQI6fOvMDZRVAKBq+utOoBkBy8b52jVbzP5YyTulM7+I/cr/1RHxR1j/YF4VHx57BP4vdCvDjULI/6y985HRApT9R3fPAO9qQPyz3tO1g64E/RpJub+tLdj9OBQxf/qlnPw5+JK8p4lw/EAEHJyQtUj+FzuGiEQRPP0Pz3SWlfkY/4rsQUkn4QT/SVw+KcKA1P7021MJBiSs/NjieetQGJD9eDTvcLVEdPzGYLjkQLBg/sgU9wpLIEz+qJ2El/iIQP8t6wCgtgAY/ttEbfi/vAj/8IGWbFQMAP7NpqcZnrfs+mw/yiMVC+D4VHCGvkE/zPjr6fNLHj/A+kKwO9nQy6z5gtaR6exPlPoVRyeUYY+E+i1j9dmGS3z5b57aIDQnbPnx3Oa2Q29c+SqIGd6WA1D5aqmooaWrRPp1upNL2i84+DsWp6AFqyD5qrqu6w+XFPk0KnlpW48I+zc//thFWvz4TzIo0c5O7PpKcK3uFC7c+TmdZW800sz6xK7DDmy2xPvgJnzzmCK4+xBt765J8qD65dFmpvq6kPjkxGGW7yaE+syX596AKnj6TFUvxPnqVPj9mAf6QnJI+L2zZBLJ3kD4m8QZTfs2MPgnbN/1qF4k+rlsyK/9hgj6WZ4idIwh/PoBF8EOsmnk+LZAQ7sbicj4mbdgPcExuPnjVgM0C72s+4oAkP7DbaD4exBE3IUNgPrYFUwCJYVo+k2Ty6eKxVj6ROUqPhyBUPtZj96Iqu1E+dmb7+o+KTj4K2I0A8KBJPhqsKk2g+UU+1V9A5nfGQj4iEULzpqNAPpW/BnemQj0+NVQgF6dfOj6esPMS6GE3Pla19OeuQDU+ECohlkpcMj64iY/zj2UwPm4qAm3nuis+kktiR49iKD6+6O5aq2AlPgROfeBy4CI+WdT0smHtID4A2d330PIcPi6GSIARoRg+9oZALacqFj4gIJtJIN0RPjXA2vsPPA0+uY/+T8wpCT5gEq8Mq8oFPniRAW/VYwM+NOd+hfeHAD4eZsCkvSD8PeDizr0sdPg9e5yV4IKE9D3Gz7zghRfzPQ==",
          "dtype": "f8"
         }
        },
        {
         "mode": "lines",
         "name": "EnhancedRLGWO",
         "type": "scatter",
         "x": [
          0,
          1,
          2,
          3,
          4,
          5,
          6,
          7,
          8,
          9,
          10,
          11,
          12,
          13,
          14,
          15,
          16,
          17,
          18,
          19,
          20,
          21,
          22,
          23,
          24,
          25,
          26,
          27,
          28,
          29,
          30,
          31,
          32,
          33,
          34,
          35,
          36,
          37,
          38,
          39,
          40,
          41,
          42,
          43,
          44,
          45,
          46,
          47,
          48,
          49,
          50,
          51,
          52,
          53,
          54,
          55,
          56,
          57,
          58,
          59,
          60,
          61,
          62,
          63,
          64,
          65,
          66,
          67,
          68,
          69,
          70,
          71,
          72,
          73,
          74,
          75,
          76,
          77,
          78,
          79,
          80,
          81,
          82,
          83,
          84,
          85,
          86,
          87,
          88,
          89,
          90,
          91,
          92,
          93,
          94,
          95,
          96,
          97,
          98,
          99,
          100
         ],
         "y": {
          "bdata": "yJLMpgE6QEBU6n0PhkU3QFJT2ju/lRFAeI4NARvGAUCQI8/q1bn3P7DpqCQgMvQ/WjZT4gjI8z/gbj07d2DIP9qQb8iwv7E/hGmsyv3BoD8eFzXDRAmWP211PMa2qI4/UBdnFfaoiD+iDHbbTIqGP5DTkCtfsGo/nbTLySfNYj8nO36H5js5P/WfX7ggIjY/471pPTp4Gj8FeWIdNtgPPwoyIuY9wwU/CrMQkorz+T63kcGTZ7T4Psi++++b0sY+/nJqweVdwT6fd+U/p3eyPvzdV8/RfbE+7kjpVK71sD4+qNdo8c53PmBiXwHa0WQ+W2oNPGPvWD64lY3bZlNWPpY8bo82xUQ+eMH8x6MpDj6ahTxK+5oFPuJA8K5IgQU+PmbGYjiBBT6UAcFt6O61PcruMaYcpq89mk/I5jylrD39l6M1XgqEPSNCWH1N84M97plimtXqgz2wlle56glGPTGNhV/QmTY9HpxqmIIdNT0mbaF+3GAVPWKtUBu63QU9NgHJA3k++TxDDNAjbTz4PCsFVg8nB8I8Egyqp3GXvjw+d0vXYn+8PHh5OKkztLo8eJNSKChcmjwMwpTUrw6XPHogEtIdo4o8wXshMNyggzzdXEaiHbGCPMautIjDWkg89Xr8O8H1RTyG0b6CwGUbPLiGGbASOw48ZBUwxFzZBTzKo2Auwyr4O9Ufe7Hh//E7goMeJWyQ5TumcWIR1X/lO0N7zKTsjME7U8OEhjS+rzvDj9f3rqubOxcUUdn0tZY70uNYLz2MizuBtv8z2diDO5QmENdPjoM7Dpa0rsSDgzun2WjwDEpGO3jT/m3ozEU7rhpsTbQcDzvqtLpiYMALO/q0E8YHzQk7Df9ONHpxzzrAoYkAGFvNOr5Ofgbmmcg6/PBxpvYhqToCcDXwTjSmOjEZwq+cI6Q6vbwbuayBajr+cNqYhM5TOichANjRWVA6Xl3ggc3rQjp121C9c+A1Ojja4mGvKDU6LhoH/TIXCDo4ADZmOAr6ORmGX4OEy/A5a5Nw3O8U5DkglX4ZPc/eOclQ+AcpD9g5oXugWG2q1zkkeveQ+ZzXOQ==",
          "dtype": "f8"
         }
        }
       ],
       "layout": {
        "legend": {
         "title": {
          "text": "Algorithm"
         }
        },
        "template": {
         "data": {
          "bar": [
           {
            "error_x": {
             "color": "#2a3f5f"
            },
            "error_y": {
             "color": "#2a3f5f"
            },
            "marker": {
             "line": {
              "color": "white",
              "width": 0.5
             },
             "pattern": {
              "fillmode": "overlay",
              "size": 10,
              "solidity": 0.2
             }
            },
            "type": "bar"
           }
          ],
          "barpolar": [
           {
            "marker": {
             "line": {
              "color": "white",
              "width": 0.5
             },
             "pattern": {
              "fillmode": "overlay",
              "size": 10,
              "solidity": 0.2
             }
            },
            "type": "barpolar"
           }
          ],
          "carpet": [
           {
            "aaxis": {
             "endlinecolor": "#2a3f5f",
             "gridcolor": "#C8D4E3",
             "linecolor": "#C8D4E3",
             "minorgridcolor": "#C8D4E3",
             "startlinecolor": "#2a3f5f"
            },
            "baxis": {
             "endlinecolor": "#2a3f5f",
             "gridcolor": "#C8D4E3",
             "linecolor": "#C8D4E3",
             "minorgridcolor": "#C8D4E3",
             "startlinecolor": "#2a3f5f"
            },
            "type": "carpet"
           }
          ],
          "choropleth": [
           {
            "colorbar": {
             "outlinewidth": 0,
             "ticks": ""
            },
            "type": "choropleth"
           }
          ],
          "contour": [
           {
            "colorbar": {
             "outlinewidth": 0,
             "ticks": ""
            },
            "colorscale": [
             [
              0,
              "#0d0887"
             ],
             [
              0.1111111111111111,
              "#46039f"
             ],
             [
              0.2222222222222222,
              "#7201a8"
             ],
             [
              0.3333333333333333,
              "#9c179e"
             ],
             [
              0.4444444444444444,
              "#bd3786"
             ],
             [
              0.5555555555555556,
              "#d8576b"
             ],
             [
              0.6666666666666666,
              "#ed7953"
             ],
             [
              0.7777777777777778,
              "#fb9f3a"
             ],
             [
              0.8888888888888888,
              "#fdca26"
             ],
             [
              1,
              "#f0f921"
             ]
            ],
            "type": "contour"
           }
          ],
          "contourcarpet": [
           {
            "colorbar": {
             "outlinewidth": 0,
             "ticks": ""
            },
            "type": "contourcarpet"
           }
          ],
          "heatmap": [
           {
            "colorbar": {
             "outlinewidth": 0,
             "ticks": ""
            },
            "colorscale": [
             [
              0,
              "#0d0887"
             ],
             [
              0.1111111111111111,
              "#46039f"
             ],
             [
              0.2222222222222222,
              "#7201a8"
             ],
             [
              0.3333333333333333,
              "#9c179e"
             ],
             [
              0.4444444444444444,
              "#bd3786"
             ],
             [
              0.5555555555555556,
              "#d8576b"
             ],
             [
              0.6666666666666666,
              "#ed7953"
             ],
             [
              0.7777777777777778,
              "#fb9f3a"
             ],
             [
              0.8888888888888888,
              "#fdca26"
             ],
             [
              1,
              "#f0f921"
             ]
            ],
            "type": "heatmap"
           }
          ],
          "histogram": [
           {
            "marker": {
             "pattern": {
              "fillmode": "overlay",
              "size": 10,
              "solidity": 0.2
             }
            },
            "type": "histogram"
           }
          ],
          "histogram2d": [
           {
            "colorbar": {
             "outlinewidth": 0,
             "ticks": ""
            },
            "colorscale": [
             [
              0,
              "#0d0887"
             ],
             [
              0.1111111111111111,
              "#46039f"
             ],
             [
              0.2222222222222222,
              "#7201a8"
             ],
             [
              0.3333333333333333,
              "#9c179e"
             ],
             [
              0.4444444444444444,
              "#bd3786"
             ],
             [
              0.5555555555555556,
              "#d8576b"
             ],
             [
              0.6666666666666666,
              "#ed7953"
             ],
             [
              0.7777777777777778,
              "#fb9f3a"
             ],
             [
              0.8888888888888888,
              "#fdca26"
             ],
             [
              1,
              "#f0f921"
             ]
            ],
            "type": "histogram2d"
           }
          ],
          "histogram2dcontour": [
           {
            "colorbar": {
             "outlinewidth": 0,
             "ticks": ""
            },
            "colorscale": [
             [
              0,
              "#0d0887"
             ],
             [
              0.1111111111111111,
              "#46039f"
             ],
             [
              0.2222222222222222,
              "#7201a8"
             ],
             [
              0.3333333333333333,
              "#9c179e"
             ],
             [
              0.4444444444444444,
              "#bd3786"
             ],
             [
              0.5555555555555556,
              "#d8576b"
             ],
             [
              0.6666666666666666,
              "#ed7953"
             ],
             [
              0.7777777777777778,
              "#fb9f3a"
             ],
             [
              0.8888888888888888,
              "#fdca26"
             ],
             [
              1,
              "#f0f921"
             ]
            ],
            "type": "histogram2dcontour"
           }
          ],
          "mesh3d": [
           {
            "colorbar": {
             "outlinewidth": 0,
             "ticks": ""
            },
            "type": "mesh3d"
           }
          ],
          "parcoords": [
           {
            "line": {
             "colorbar": {
              "outlinewidth": 0,
              "ticks": ""
             }
            },
            "type": "parcoords"
           }
          ],
          "pie": [
           {
            "automargin": true,
            "type": "pie"
           }
          ],
          "scatter": [
           {
            "fillpattern": {
             "fillmode": "overlay",
             "size": 10,
             "solidity": 0.2
            },
            "type": "scatter"
           }
          ],
          "scatter3d": [
           {
            "line": {
             "colorbar": {
              "outlinewidth": 0,
              "ticks": ""
             }
            },
            "marker": {
             "colorbar": {
              "outlinewidth": 0,
              "ticks": ""
             }
            },
            "type": "scatter3d"
           }
          ],
          "scattercarpet": [
           {
            "marker": {
             "colorbar": {
              "outlinewidth": 0,
              "ticks": ""
             }
            },
            "type": "scattercarpet"
           }
          ],
          "scattergeo": [
           {
            "marker": {
             "colorbar": {
              "outlinewidth": 0,
              "ticks": ""
             }
            },
            "type": "scattergeo"
           }
          ],
          "scattergl": [
           {
            "marker": {
             "colorbar": {
              "outlinewidth": 0,
              "ticks": ""
             }
            },
            "type": "scattergl"
           }
          ],
          "scattermap": [
           {
            "marker": {
             "colorbar": {
              "outlinewidth": 0,
              "ticks": ""
             }
            },
            "type": "scattermap"
           }
          ],
          "scattermapbox": [
           {
            "marker": {
             "colorbar": {
              "outlinewidth": 0,
              "ticks": ""
             }
            },
            "type": "scattermapbox"
           }
          ],
          "scatterpolar": [
           {
            "marker": {
             "colorbar": {
              "outlinewidth": 0,
              "ticks": ""
             }
            },
            "type": "scatterpolar"
           }
          ],
          "scatterpolargl": [
           {
            "marker": {
             "colorbar": {
              "outlinewidth": 0,
              "ticks": ""
             }
            },
            "type": "scatterpolargl"
           }
          ],
          "scatterternary": [
           {
            "marker": {
             "colorbar": {
              "outlinewidth": 0,
              "ticks": ""
             }
            },
            "type": "scatterternary"
           }
          ],
          "surface": [
           {
            "colorbar": {
             "outlinewidth": 0,
             "ticks": ""
            },
            "colorscale": [
             [
              0,
              "#0d0887"
             ],
             [
              0.1111111111111111,
              "#46039f"
             ],
             [
              0.2222222222222222,
              "#7201a8"
             ],
             [
              0.3333333333333333,
              "#9c179e"
             ],
             [
              0.4444444444444444,
              "#bd3786"
             ],
             [
              0.5555555555555556,
              "#d8576b"
             ],
             [
              0.6666666666666666,
              "#ed7953"
             ],
             [
              0.7777777777777778,
              "#fb9f3a"
             ],
             [
              0.8888888888888888,
              "#fdca26"
             ],
             [
              1,
              "#f0f921"
             ]
            ],
            "type": "surface"
           }
          ],
          "table": [
           {
            "cells": {
             "fill": {
              "color": "#EBF0F8"
             },
             "line": {
              "color": "white"
             }
            },
            "header": {
             "fill": {
              "color": "#C8D4E3"
             },
             "line": {
              "color": "white"
             }
            },
            "type": "table"
           }
          ]
         },
         "layout": {
          "annotationdefaults": {
           "arrowcolor": "#2a3f5f",
           "arrowhead": 0,
           "arrowwidth": 1
          },
          "autotypenumbers": "strict",
          "coloraxis": {
           "colorbar": {
            "outlinewidth": 0,
            "ticks": ""
           }
          },
          "colorscale": {
           "diverging": [
            [
             0,
             "#8e0152"
            ],
            [
             0.1,
             "#c51b7d"
            ],
            [
             0.2,
             "#de77ae"
            ],
            [
             0.3,
             "#f1b6da"
            ],
            [
             0.4,
             "#fde0ef"
            ],
            [
             0.5,
             "#f7f7f7"
            ],
            [
             0.6,
             "#e6f5d0"
            ],
            [
             0.7,
             "#b8e186"
            ],
            [
             0.8,
             "#7fbc41"
            ],
            [
             0.9,
             "#4d9221"
            ],
            [
             1,
             "#276419"
            ]
           ],
           "sequential": [
            [
             0,
             "#0d0887"
            ],
            [
             0.1111111111111111,
             "#46039f"
            ],
            [
             0.2222222222222222,
             "#7201a8"
            ],
            [
             0.3333333333333333,
             "#9c179e"
            ],
            [
             0.4444444444444444,
             "#bd3786"
            ],
            [
             0.5555555555555556,
             "#d8576b"
            ],
            [
             0.6666666666666666,
             "#ed7953"
            ],
            [
             0.7777777777777778,
             "#fb9f3a"
            ],
            [
             0.8888888888888888,
             "#fdca26"
            ],
            [
             1,
             "#f0f921"
            ]
           ],
           "sequentialminus": [
            [
             0,
             "#0d0887"
            ],
            [
             0.1111111111111111,
             "#46039f"
            ],
            [
             0.2222222222222222,
             "#7201a8"
            ],
            [
             0.3333333333333333,
             "#9c179e"
            ],
            [
             0.4444444444444444,
             "#bd3786"
            ],
            [
             0.5555555555555556,
             "#d8576b"
            ],
            [
             0.6666666666666666,
             "#ed7953"
            ],
            [
             0.7777777777777778,
             "#fb9f3a"
            ],
            [
             0.8888888888888888,
             "#fdca26"
            ],
            [
             1,
             "#f0f921"
            ]
           ]
          },
          "colorway": [
           "#636efa",
           "#EF553B",
           "#00cc96",
           "#ab63fa",
           "#FFA15A",
           "#19d3f3",
           "#FF6692",
           "#B6E880",
           "#FF97FF",
           "#FECB52"
          ],
          "font": {
           "color": "#2a3f5f"
          },
          "geo": {
           "bgcolor": "white",
           "lakecolor": "white",
           "landcolor": "white",
           "showlakes": true,
           "showland": true,
           "subunitcolor": "#C8D4E3"
          },
          "hoverlabel": {
           "align": "left"
          },
          "hovermode": "closest",
          "mapbox": {
           "style": "light"
          },
          "paper_bgcolor": "white",
          "plot_bgcolor": "white",
          "polar": {
           "angularaxis": {
            "gridcolor": "#EBF0F8",
            "linecolor": "#EBF0F8",
            "ticks": ""
           },
           "bgcolor": "white",
           "radialaxis": {
            "gridcolor": "#EBF0F8",
            "linecolor": "#EBF0F8",
            "ticks": ""
           }
          },
          "scene": {
           "xaxis": {
            "backgroundcolor": "white",
            "gridcolor": "#DFE8F3",
            "gridwidth": 2,
            "linecolor": "#EBF0F8",
            "showbackground": true,
            "ticks": "",
            "zerolinecolor": "#EBF0F8"
           },
           "yaxis": {
            "backgroundcolor": "white",
            "gridcolor": "#DFE8F3",
            "gridwidth": 2,
            "linecolor": "#EBF0F8",
            "showbackground": true,
            "ticks": "",
            "zerolinecolor": "#EBF0F8"
           },
           "zaxis": {
            "backgroundcolor": "white",
            "gridcolor": "#DFE8F3",
            "gridwidth": 2,
            "linecolor": "#EBF0F8",
            "showbackground": true,
            "ticks": "",
            "zerolinecolor": "#EBF0F8"
           }
          },
          "shapedefaults": {
           "line": {
            "color": "#2a3f5f"
           }
          },
          "ternary": {
           "aaxis": {
            "gridcolor": "#DFE8F3",
            "linecolor": "#A2B1C6",
            "ticks": ""
           },
           "baxis": {
            "gridcolor": "#DFE8F3",
            "linecolor": "#A2B1C6",
            "ticks": ""
           },
           "bgcolor": "white",
           "caxis": {
            "gridcolor": "#DFE8F3",
            "linecolor": "#A2B1C6",
            "ticks": ""
           }
          },
          "title": {
           "x": 0.05
          },
          "xaxis": {
           "automargin": true,
           "gridcolor": "#EBF0F8",
           "linecolor": "#EBF0F8",
           "ticks": "",
           "title": {
            "standoff": 15
           },
           "zerolinecolor": "#EBF0F8",
           "zerolinewidth": 2
          },
          "yaxis": {
           "automargin": true,
           "gridcolor": "#EBF0F8",
           "linecolor": "#EBF0F8",
           "ticks": "",
           "title": {
            "standoff": 15
           },
           "zerolinecolor": "#EBF0F8",
           "zerolinewidth": 2
          }
         }
        },
        "title": {
         "text": "<b>Average Convergence Plot for Sphere</b>"
        },
        "xaxis": {
         "title": {
          "text": "Generation"
         }
        },
        "yaxis": {
         "title": {
          "text": "Average Best Fitness (Lower is Better)"
         }
        }
       }
      }
     },
     "metadata": {},
     "output_type": "display_data"
    },
    {
     "data": {
      "application/vnd.plotly.v1+json": {
       "config": {
        "plotlyServerURL": "https://plot.ly"
       },
       "data": [
        {
         "mode": "lines",
         "name": "GA",
         "type": "scatter",
         "x": [
          0,
          1,
          2,
          3,
          4,
          5,
          6,
          7,
          8,
          9,
          10,
          11,
          12,
          13,
          14,
          15,
          16,
          17,
          18,
          19,
          20,
          21,
          22,
          23,
          24,
          25,
          26,
          27,
          28,
          29,
          30,
          31,
          32,
          33,
          34,
          35,
          36,
          37,
          38,
          39,
          40,
          41,
          42,
          43,
          44,
          45,
          46,
          47,
          48,
          49,
          50,
          51,
          52,
          53,
          54,
          55,
          56,
          57,
          58,
          59,
          60,
          61,
          62,
          63,
          64,
          65,
          66,
          67,
          68,
          69,
          70,
          71,
          72,
          73,
          74,
          75,
          76,
          77,
          78,
          79,
          80,
          81,
          82,
          83,
          84,
          85,
          86,
          87,
          88,
          89,
          90,
          91,
          92,
          93,
          94,
          95,
          96,
          97,
          98,
          99,
          100
         ],
         "y": {
          "bdata": "olnsymt7bUBK3++AaORqQKUeelEmeGZANz2KqC5EZEDSZGUlaMRgQNMrT5Zz119AsKsrjMUiXEBDR0bTL41XQIsCZhQ2KldAaCrfX+R0VEAFOXwiyVNTQANxkdKTOlJAFs1DFUPeUUCKpbDdZrhRQKNDY8mmVU9AGzWFaL6bTkBcwRFRgilQQN4Ylo3NnExANp4kdxcKTECQkMVoA0NIQIraWpbOyUdAmEj6WZHpRUDwHsrqyaRFQM4G/2ngfkNAViGBOUliQ0CwszFfdoFCQHBML3MVMEFAfSyp7m8dQEC6RyNpSso8QNaeL1GNvTxA6vtnZfz/OkBSmieTw5c6QKgabbDMCTlA1sQsSZ7GOUAM9oRUBdE3QEBgknIfRDhAFy8zAyihN0A8eNNhV5I3QAyZ+V5iAzdAFuABdeL/NkDVxWO710M2QKGh60GaTDZAHjV7vGdDNkCSXKt5kAM2QB4ne4VkaDVA4dbheSEYNUDc+h7gA540QBcN8aLFCzRA+HlvJCs1NEDjzFybRj0zQCxsPOHoLzNAlH2v75f8MkD+i04yejwzQNybKJpa0jJAsl177hf9MkD0b+bvLPExQP6CAKJ+HTJAsaQA+Dh6MUAhnfIvc9EwQLHNFPA9szBAVBg08KSrMECfrnF6XpowQNviX4vtNTBAxr860vAZMECfSEwg73YwQCMwxkuN4i9A6jwrBrEfLkD6fOBwkBMuQHuw5tR9vC9AJcsjhBPoLkBLmuzCyZ0vQGo6BJMraC9AZsE/Kf0PLkCiEYLkGgcuQC6Bc4NHby1Ac/WaZoG0LkCAZTwXFk8uQKIcQK4bwS1AkCKJXC61LUD6e0m2h8ktQKWuVKXu2CpAi/KiELkHKEBdj6eKONMoQMVZeIjX4ShA7UgePsMaKECV89ygcrsoQJMOWI/5dCdA7SQ0pER4JkAmUqHuiRclQMaFIZL02yRAyEXnmtdsJkCOVV1yfXcmQNZAodq+dSZAijMpOHZrJUCQL9jdG08mQHDNRI7YSyZAom1QL5hLJkCg102NyAUmQL4XbxOiAiZAZq/7YzoBJkAyHxWT/rQlQA==",
          "dtype": "f8"
         }
        },
        {
         "mode": "lines",
         "name": "PPS-GA",
         "type": "scatter",
         "x": [
          0,
          1,
          2,
          3,
          4,
          5,
          6,
          7,
          8,
          9,
          10,
          11,
          12,
          13,
          14,
          15,
          16,
          17,
          18,
          19,
          20,
          21,
          22,
          23,
          24,
          25,
          26,
          27,
          28,
          29,
          30,
          31,
          32,
          33,
          34,
          35,
          36,
          37,
          38,
          39,
          40,
          41,
          42,
          43,
          44,
          45,
          46,
          47,
          48,
          49,
          50,
          51,
          52,
          53,
          54,
          55,
          56,
          57,
          58,
          59,
          60,
          61,
          62,
          63,
          64,
          65,
          66,
          67,
          68,
          69,
          70,
          71,
          72,
          73,
          74,
          75,
          76,
          77,
          78,
          79,
          80,
          81,
          82,
          83,
          84,
          85,
          86,
          87,
          88,
          89,
          90,
          91,
          92,
          93,
          94,
          95,
          96,
          97,
          98,
          99,
          100
         ],
         "y": {
          "bdata": "rp3asdZ1XkDVe0+/OrdaQGM6WJm1W1hAukIYj6TiV0B3AIzYDBhVQKPmHwVsjlJAip9QF051UkAwfPHEVTxSQCDR+gJY91BAa62zrCVXTkB1QwEV9FNOQBsKDrMT/kxAKH6c5tyzS0AgBZ9l8KBLQHgvz/i+2khAOGu0vsJ/SEA4a7S+wn9IQBVEU93KUEdAtT+M/N+eRkAQIq9hywlGQB0Eysj2/kRAZsvxs8yIREBtAyNcOtJDQMedclqCwUNAVuT6W/lxQ0Bm9A0LFzlDQCgth3hUIkNAkmRNiJ8JQ0CdflWd7YxCQA8ZaOtqu0JAl2KNvsHBQUCONRK+s5NBQFC/8bp9HEFA1lKJnPrJQEA4TVDQWsFAQGI/sIHqlEBAfd1pJHfNP0AqBS6thcQ/QG5upKflZz9Ao2GnYkTvPkCAAz05ldM+QBqejPxOfD5AArCmxafkPEBl80VFU6Q8QNAN6lMx/jpA48mYqDpkOkAD23ippVw6QG2YoZnUMTpA+TJStz4yOUD0Jz+zkik5QAYMYAHQ/DhA0h2K3Y/6OEAT6cx0esI4QOP57J+l/TdAWiJ5lKfzN0DumVJovOk3QLz91sWrqTdAenuDxoqRN0DZqXMK+DY3QDZ25/FwTTdAVgpjqNYPN0BonXXVjlM2QJcaar4sfTVAEmQZHfyHNED6Sqh0fmw0QDiUFXaKwzNARneXqTANM0Cw2NLABJ0yQFVzRYxs4TFAytRslW04MUCKYmiD7YAwQJW3S6Rbxy9An6Wri+5yMEBLLr5j8HEvQPOJcZL26S1ABbXUEavDLUBYGHUyQ5wtQNgc01mnhC1A/g42O/zrLEAeeQujZdssQCuZwFnhcCxAeFDzT5noK0BoUhvlKPErQMWXSZxBkitAtao/euKQK0AbSLJ7vJArQBW9CLXyjCtAFgPtefs1KkAriyk3hfoqQH0UY9SC+ipAQoLeWxViKUD2905YAfAoQJNA8kHEXylAintpWH1YJ0ALyvdcnVQnQMaK7sjDPydAhuW4KnE+J0Dor+3AGSwnQN5n1voAFyZAu377gJ0WJUDCiJsrTtwkQA==",
          "dtype": "f8"
         }
        },
        {
         "mode": "lines",
         "name": "RLCGWO",
         "type": "scatter",
         "x": [
          0,
          1,
          2,
          3,
          4,
          5,
          6,
          7,
          8,
          9,
          10,
          11,
          12,
          13,
          14,
          15,
          16,
          17,
          18,
          19,
          20,
          21,
          22,
          23,
          24,
          25,
          26,
          27,
          28,
          29,
          30,
          31,
          32,
          33,
          34,
          35,
          36,
          37,
          38,
          39,
          40,
          41,
          42,
          43,
          44,
          45,
          46,
          47,
          48,
          49,
          50,
          51,
          52,
          53,
          54,
          55,
          56,
          57,
          58,
          59,
          60,
          61,
          62,
          63,
          64,
          65,
          66,
          67,
          68,
          69,
          70,
          71,
          72,
          73,
          74,
          75,
          76,
          77,
          78,
          79,
          80,
          81,
          82,
          83,
          84,
          85,
          86,
          87,
          88,
          89,
          90,
          91,
          92,
          93,
          94,
          95,
          96,
          97,
          98,
          99,
          100
         ],
         "y": {
          "bdata": "ViIJ84TlXUDI1d8QY6hWQKRW6eBx0FFAZm1FTzuuUUBLXAzSSAhRQIZupmvAg05A4TDfghQsSEC4RQff6IhHQCbrTRfhlEtArY1tTPFeRUDdWV1Yw1tBQIChVuwWiz5AOCIRMn7dPUDdcEKPHGE9QLGv+h9KoDhAhOIGaV87OEAtMdVxIYI3QEza3CuFdDdAzaKr6pLIMEC6a3VwL58xQNLLKEy2nDNAWm762LUgMUAwVgECegQsQDKKB5PUkyZAivW6/3E0LUBGPUiRMqwvQFOixRDSgCZAwAr3g+UpK0CjAuLppmMqQOoLWud+pCpA6gZdjArKIEBLtA+N6toiQEK59Ep6jSFA9mJjnhwhIUB9LXPhoO0oQI2jfQB3QyJALXhG9KxyJUBwcf5L0mYlQDNOaXDagSNALSPpAl8dJUCTxzzubH4gQNMQHw/gwRlA0O4bkWTqEEDtAmmflWUgQENMwRho8hpAoMdgdUuvF0DttXpF01kaQGMzV8WzdxRAFqKHw3VcFkD9iHuEbOQUQF0UsnOmShpAM76ptSk9DEAjBXUfMxQXQJCxHUWFghNA0x7z7OyvEkAtBnjM13ITQCqB9yijhxVAY5pEdUWxGEAzTPJWWQMSQHPV2dhHJhVA2oF4m3i/EkDG28h1hmYIQK1ujgaP8gpAUAi6BW1pF0AmG2gPA/UMQK0z+yOOMwpAM3a9HlUIEUC6+hpCq6oSQDYmYEauwxFATWWuFrfiFkB9c1BhhSYSQGDdNSzZoQ5ALQlLHX3+CUC6TRjzlCULQM3EdwfjfQdARmLokF7sBEAgKJ62x8sQQFMzn01fBQBAbdvyBlJlB0BgOofQq2sDQCBZBcNoIQRAmuydr6sXAUDazAPB2ngBQA0DrrIZ9AJAwMPQ7zXH/D8aUAFdYqoDQLMCvKKWKAlAADwnm9+8AEAG9WkcaMoDQIBQjKbaXABATYVj5G1DBEDmmeZZsLwAQJq9Jtc4PfU/c9AsqqT/9j+azrA9tP/2Pw3QQ58uS/I/Juy1FW7I9D8t8TgxkkUEQPNKN9rQcgVA81VVCavs/j/mzKr4On4GQA==",
          "dtype": "f8"
         }
        },
        {
         "mode": "lines",
         "name": "EnhancedRLGWO",
         "type": "scatter",
         "x": [
          0,
          1,
          2,
          3,
          4,
          5,
          6,
          7,
          8,
          9,
          10,
          11,
          12,
          13,
          14,
          15,
          16,
          17,
          18,
          19,
          20,
          21,
          22,
          23,
          24,
          25,
          26,
          27,
          28,
          29,
          30,
          31,
          32,
          33,
          34,
          35,
          36,
          37,
          38,
          39,
          40,
          41,
          42,
          43,
          44,
          45,
          46,
          47,
          48,
          49,
          50,
          51,
          52,
          53,
          54,
          55,
          56,
          57,
          58,
          59,
          60,
          61,
          62,
          63,
          64,
          65,
          66,
          67,
          68,
          69,
          70,
          71,
          72,
          73,
          74,
          75,
          76,
          77,
          78,
          79,
          80,
          81,
          82,
          83,
          84,
          85,
          86,
          87,
          88,
          89,
          90,
          91,
          92,
          93,
          94,
          95,
          96,
          97,
          98,
          99,
          100
         ],
         "y": {
          "bdata": "FlAPEAmGXkCm2vIoE69ZQDoH8KRBNlJA1rYRb7cqSUDIaOU1pGhIQG2H07JxJzxA9hvMYkEMO0DkJLguInYyQMCasWTcaStAYIsA6jAmKUAAVyZ6n6kXQKBrL6b+TxRADc2LHMEMFkDiQVjZ0GIhQGDQroWSJh9AxvPNJodWC0Cz5vYVCFkDQOZNKNhfcAJAAB4RsIDR8z/AhyOzoF7zP80xp3sCTvM/gC2sy+5F8z+adT2j+vfyP4Cs+eRT8fI/M0Mf1BMdoj8AMIZ7ANqbPzOTo/ljY4s/AIBG0plRhD8AYHFF80mEP83MIFrPclU/MzOuBxdlVT8zMyOkdxITPwAAgGmmePs+AACA1Cr68T4AAACmoQDgPmZmZqwrBM0+ZmZm0KX6wD5mZmZCFhe0PjMzM8O3qJ0+MzMzM23mhj4AAACgxtqGPs3MzMyMj1k+MzMzM9DEUz4zMzMzM0wkPjMzMzPzHhY+AAAAAACO9z3NzMzMzJPhPc3MzMzMl989MzMzMzMpwT1mZmZmZvK/PWZmZmZmtqQ9zczMzMz0oD3NzMzMzEx4Pc3MzMzMzGA9ZmZmZmZmUT0zMzMzMzNPPc3MzMzMzEI9zczMzMzMQD2amZmZmZk9PZqZmZmZmfk8mpmZmZmZ6TwAAAAAAAAAAAAAAAAAAAAAAAAAAAAAAAAAAAAAAAAAAAAAAAAAAAAAAAAAAAAAAAAAAAAAAAAAAAAAAAAAAAAAAAAAAAAAAAAAAAAAAAAAAAAAAAAAAAAAAAAAAAAAAAAAAAAAAAAAAAAAAAAAAAAAAAAAAAAAAAAAAAAAAAAAAAAAAAAAAAAAAAAAAAAAAAAAAAAAAAAAAAAAAAAAAAAAAAAAAAAAAAAAAAAAAAAAAAAAAAAAAAAAAAAAAAAAAAAAAAAAAAAAAAAAAAAAAAAAAAAAAAAAAAAAAAAAAAAAAAAAAAAAAAAAAAAAAAAAAAAAAAAAAAAAAAAAAAAAAAAAAAAAAAAAAAAAAAAAAAAAAAAAAAAAAAAAAAAAAAAAAAAAAAAAAAAAAAAAAAAAAAAAAAAAAAAAAAAAAAAAAAAAAA==",
          "dtype": "f8"
         }
        }
       ],
       "layout": {
        "legend": {
         "title": {
          "text": "Algorithm"
         }
        },
        "template": {
         "data": {
          "bar": [
           {
            "error_x": {
             "color": "#2a3f5f"
            },
            "error_y": {
             "color": "#2a3f5f"
            },
            "marker": {
             "line": {
              "color": "white",
              "width": 0.5
             },
             "pattern": {
              "fillmode": "overlay",
              "size": 10,
              "solidity": 0.2
             }
            },
            "type": "bar"
           }
          ],
          "barpolar": [
           {
            "marker": {
             "line": {
              "color": "white",
              "width": 0.5
             },
             "pattern": {
              "fillmode": "overlay",
              "size": 10,
              "solidity": 0.2
             }
            },
            "type": "barpolar"
           }
          ],
          "carpet": [
           {
            "aaxis": {
             "endlinecolor": "#2a3f5f",
             "gridcolor": "#C8D4E3",
             "linecolor": "#C8D4E3",
             "minorgridcolor": "#C8D4E3",
             "startlinecolor": "#2a3f5f"
            },
            "baxis": {
             "endlinecolor": "#2a3f5f",
             "gridcolor": "#C8D4E3",
             "linecolor": "#C8D4E3",
             "minorgridcolor": "#C8D4E3",
             "startlinecolor": "#2a3f5f"
            },
            "type": "carpet"
           }
          ],
          "choropleth": [
           {
            "colorbar": {
             "outlinewidth": 0,
             "ticks": ""
            },
            "type": "choropleth"
           }
          ],
          "contour": [
           {
            "colorbar": {
             "outlinewidth": 0,
             "ticks": ""
            },
            "colorscale": [
             [
              0,
              "#0d0887"
             ],
             [
              0.1111111111111111,
              "#46039f"
             ],
             [
              0.2222222222222222,
              "#7201a8"
             ],
             [
              0.3333333333333333,
              "#9c179e"
             ],
             [
              0.4444444444444444,
              "#bd3786"
             ],
             [
              0.5555555555555556,
              "#d8576b"
             ],
             [
              0.6666666666666666,
              "#ed7953"
             ],
             [
              0.7777777777777778,
              "#fb9f3a"
             ],
             [
              0.8888888888888888,
              "#fdca26"
             ],
             [
              1,
              "#f0f921"
             ]
            ],
            "type": "contour"
           }
          ],
          "contourcarpet": [
           {
            "colorbar": {
             "outlinewidth": 0,
             "ticks": ""
            },
            "type": "contourcarpet"
           }
          ],
          "heatmap": [
           {
            "colorbar": {
             "outlinewidth": 0,
             "ticks": ""
            },
            "colorscale": [
             [
              0,
              "#0d0887"
             ],
             [
              0.1111111111111111,
              "#46039f"
             ],
             [
              0.2222222222222222,
              "#7201a8"
             ],
             [
              0.3333333333333333,
              "#9c179e"
             ],
             [
              0.4444444444444444,
              "#bd3786"
             ],
             [
              0.5555555555555556,
              "#d8576b"
             ],
             [
              0.6666666666666666,
              "#ed7953"
             ],
             [
              0.7777777777777778,
              "#fb9f3a"
             ],
             [
              0.8888888888888888,
              "#fdca26"
             ],
             [
              1,
              "#f0f921"
             ]
            ],
            "type": "heatmap"
           }
          ],
          "histogram": [
           {
            "marker": {
             "pattern": {
              "fillmode": "overlay",
              "size": 10,
              "solidity": 0.2
             }
            },
            "type": "histogram"
           }
          ],
          "histogram2d": [
           {
            "colorbar": {
             "outlinewidth": 0,
             "ticks": ""
            },
            "colorscale": [
             [
              0,
              "#0d0887"
             ],
             [
              0.1111111111111111,
              "#46039f"
             ],
             [
              0.2222222222222222,
              "#7201a8"
             ],
             [
              0.3333333333333333,
              "#9c179e"
             ],
             [
              0.4444444444444444,
              "#bd3786"
             ],
             [
              0.5555555555555556,
              "#d8576b"
             ],
             [
              0.6666666666666666,
              "#ed7953"
             ],
             [
              0.7777777777777778,
              "#fb9f3a"
             ],
             [
              0.8888888888888888,
              "#fdca26"
             ],
             [
              1,
              "#f0f921"
             ]
            ],
            "type": "histogram2d"
           }
          ],
          "histogram2dcontour": [
           {
            "colorbar": {
             "outlinewidth": 0,
             "ticks": ""
            },
            "colorscale": [
             [
              0,
              "#0d0887"
             ],
             [
              0.1111111111111111,
              "#46039f"
             ],
             [
              0.2222222222222222,
              "#7201a8"
             ],
             [
              0.3333333333333333,
              "#9c179e"
             ],
             [
              0.4444444444444444,
              "#bd3786"
             ],
             [
              0.5555555555555556,
              "#d8576b"
             ],
             [
              0.6666666666666666,
              "#ed7953"
             ],
             [
              0.7777777777777778,
              "#fb9f3a"
             ],
             [
              0.8888888888888888,
              "#fdca26"
             ],
             [
              1,
              "#f0f921"
             ]
            ],
            "type": "histogram2dcontour"
           }
          ],
          "mesh3d": [
           {
            "colorbar": {
             "outlinewidth": 0,
             "ticks": ""
            },
            "type": "mesh3d"
           }
          ],
          "parcoords": [
           {
            "line": {
             "colorbar": {
              "outlinewidth": 0,
              "ticks": ""
             }
            },
            "type": "parcoords"
           }
          ],
          "pie": [
           {
            "automargin": true,
            "type": "pie"
           }
          ],
          "scatter": [
           {
            "fillpattern": {
             "fillmode": "overlay",
             "size": 10,
             "solidity": 0.2
            },
            "type": "scatter"
           }
          ],
          "scatter3d": [
           {
            "line": {
             "colorbar": {
              "outlinewidth": 0,
              "ticks": ""
             }
            },
            "marker": {
             "colorbar": {
              "outlinewidth": 0,
              "ticks": ""
             }
            },
            "type": "scatter3d"
           }
          ],
          "scattercarpet": [
           {
            "marker": {
             "colorbar": {
              "outlinewidth": 0,
              "ticks": ""
             }
            },
            "type": "scattercarpet"
           }
          ],
          "scattergeo": [
           {
            "marker": {
             "colorbar": {
              "outlinewidth": 0,
              "ticks": ""
             }
            },
            "type": "scattergeo"
           }
          ],
          "scattergl": [
           {
            "marker": {
             "colorbar": {
              "outlinewidth": 0,
              "ticks": ""
             }
            },
            "type": "scattergl"
           }
          ],
          "scattermap": [
           {
            "marker": {
             "colorbar": {
              "outlinewidth": 0,
              "ticks": ""
             }
            },
            "type": "scattermap"
           }
          ],
          "scattermapbox": [
           {
            "marker": {
             "colorbar": {
              "outlinewidth": 0,
              "ticks": ""
             }
            },
            "type": "scattermapbox"
           }
          ],
          "scatterpolar": [
           {
            "marker": {
             "colorbar": {
              "outlinewidth": 0,
              "ticks": ""
             }
            },
            "type": "scatterpolar"
           }
          ],
          "scatterpolargl": [
           {
            "marker": {
             "colorbar": {
              "outlinewidth": 0,
              "ticks": ""
             }
            },
            "type": "scatterpolargl"
           }
          ],
          "scatterternary": [
           {
            "marker": {
             "colorbar": {
              "outlinewidth": 0,
              "ticks": ""
             }
            },
            "type": "scatterternary"
           }
          ],
          "surface": [
           {
            "colorbar": {
             "outlinewidth": 0,
             "ticks": ""
            },
            "colorscale": [
             [
              0,
              "#0d0887"
             ],
             [
              0.1111111111111111,
              "#46039f"
             ],
             [
              0.2222222222222222,
              "#7201a8"
             ],
             [
              0.3333333333333333,
              "#9c179e"
             ],
             [
              0.4444444444444444,
              "#bd3786"
             ],
             [
              0.5555555555555556,
              "#d8576b"
             ],
             [
              0.6666666666666666,
              "#ed7953"
             ],
             [
              0.7777777777777778,
              "#fb9f3a"
             ],
             [
              0.8888888888888888,
              "#fdca26"
             ],
             [
              1,
              "#f0f921"
             ]
            ],
            "type": "surface"
           }
          ],
          "table": [
           {
            "cells": {
             "fill": {
              "color": "#EBF0F8"
             },
             "line": {
              "color": "white"
             }
            },
            "header": {
             "fill": {
              "color": "#C8D4E3"
             },
             "line": {
              "color": "white"
             }
            },
            "type": "table"
           }
          ]
         },
         "layout": {
          "annotationdefaults": {
           "arrowcolor": "#2a3f5f",
           "arrowhead": 0,
           "arrowwidth": 1
          },
          "autotypenumbers": "strict",
          "coloraxis": {
           "colorbar": {
            "outlinewidth": 0,
            "ticks": ""
           }
          },
          "colorscale": {
           "diverging": [
            [
             0,
             "#8e0152"
            ],
            [
             0.1,
             "#c51b7d"
            ],
            [
             0.2,
             "#de77ae"
            ],
            [
             0.3,
             "#f1b6da"
            ],
            [
             0.4,
             "#fde0ef"
            ],
            [
             0.5,
             "#f7f7f7"
            ],
            [
             0.6,
             "#e6f5d0"
            ],
            [
             0.7,
             "#b8e186"
            ],
            [
             0.8,
             "#7fbc41"
            ],
            [
             0.9,
             "#4d9221"
            ],
            [
             1,
             "#276419"
            ]
           ],
           "sequential": [
            [
             0,
             "#0d0887"
            ],
            [
             0.1111111111111111,
             "#46039f"
            ],
            [
             0.2222222222222222,
             "#7201a8"
            ],
            [
             0.3333333333333333,
             "#9c179e"
            ],
            [
             0.4444444444444444,
             "#bd3786"
            ],
            [
             0.5555555555555556,
             "#d8576b"
            ],
            [
             0.6666666666666666,
             "#ed7953"
            ],
            [
             0.7777777777777778,
             "#fb9f3a"
            ],
            [
             0.8888888888888888,
             "#fdca26"
            ],
            [
             1,
             "#f0f921"
            ]
           ],
           "sequentialminus": [
            [
             0,
             "#0d0887"
            ],
            [
             0.1111111111111111,
             "#46039f"
            ],
            [
             0.2222222222222222,
             "#7201a8"
            ],
            [
             0.3333333333333333,
             "#9c179e"
            ],
            [
             0.4444444444444444,
             "#bd3786"
            ],
            [
             0.5555555555555556,
             "#d8576b"
            ],
            [
             0.6666666666666666,
             "#ed7953"
            ],
            [
             0.7777777777777778,
             "#fb9f3a"
            ],
            [
             0.8888888888888888,
             "#fdca26"
            ],
            [
             1,
             "#f0f921"
            ]
           ]
          },
          "colorway": [
           "#636efa",
           "#EF553B",
           "#00cc96",
           "#ab63fa",
           "#FFA15A",
           "#19d3f3",
           "#FF6692",
           "#B6E880",
           "#FF97FF",
           "#FECB52"
          ],
          "font": {
           "color": "#2a3f5f"
          },
          "geo": {
           "bgcolor": "white",
           "lakecolor": "white",
           "landcolor": "white",
           "showlakes": true,
           "showland": true,
           "subunitcolor": "#C8D4E3"
          },
          "hoverlabel": {
           "align": "left"
          },
          "hovermode": "closest",
          "mapbox": {
           "style": "light"
          },
          "paper_bgcolor": "white",
          "plot_bgcolor": "white",
          "polar": {
           "angularaxis": {
            "gridcolor": "#EBF0F8",
            "linecolor": "#EBF0F8",
            "ticks": ""
           },
           "bgcolor": "white",
           "radialaxis": {
            "gridcolor": "#EBF0F8",
            "linecolor": "#EBF0F8",
            "ticks": ""
           }
          },
          "scene": {
           "xaxis": {
            "backgroundcolor": "white",
            "gridcolor": "#DFE8F3",
            "gridwidth": 2,
            "linecolor": "#EBF0F8",
            "showbackground": true,
            "ticks": "",
            "zerolinecolor": "#EBF0F8"
           },
           "yaxis": {
            "backgroundcolor": "white",
            "gridcolor": "#DFE8F3",
            "gridwidth": 2,
            "linecolor": "#EBF0F8",
            "showbackground": true,
            "ticks": "",
            "zerolinecolor": "#EBF0F8"
           },
           "zaxis": {
            "backgroundcolor": "white",
            "gridcolor": "#DFE8F3",
            "gridwidth": 2,
            "linecolor": "#EBF0F8",
            "showbackground": true,
            "ticks": "",
            "zerolinecolor": "#EBF0F8"
           }
          },
          "shapedefaults": {
           "line": {
            "color": "#2a3f5f"
           }
          },
          "ternary": {
           "aaxis": {
            "gridcolor": "#DFE8F3",
            "linecolor": "#A2B1C6",
            "ticks": ""
           },
           "baxis": {
            "gridcolor": "#DFE8F3",
            "linecolor": "#A2B1C6",
            "ticks": ""
           },
           "bgcolor": "white",
           "caxis": {
            "gridcolor": "#DFE8F3",
            "linecolor": "#A2B1C6",
            "ticks": ""
           }
          },
          "title": {
           "x": 0.05
          },
          "xaxis": {
           "automargin": true,
           "gridcolor": "#EBF0F8",
           "linecolor": "#EBF0F8",
           "ticks": "",
           "title": {
            "standoff": 15
           },
           "zerolinecolor": "#EBF0F8",
           "zerolinewidth": 2
          },
          "yaxis": {
           "automargin": true,
           "gridcolor": "#EBF0F8",
           "linecolor": "#EBF0F8",
           "ticks": "",
           "title": {
            "standoff": 15
           },
           "zerolinecolor": "#EBF0F8",
           "zerolinewidth": 2
          }
         }
        },
        "title": {
         "text": "<b>Average Convergence Plot for Rastrigin</b>"
        },
        "xaxis": {
         "title": {
          "text": "Generation"
         }
        },
        "yaxis": {
         "title": {
          "text": "Average Best Fitness (Lower is Better)"
         }
        }
       }
      }
     },
     "metadata": {},
     "output_type": "display_data"
    },
    {
     "data": {
      "application/vnd.plotly.v1+json": {
       "config": {
        "plotlyServerURL": "https://plot.ly"
       },
       "data": [
        {
         "mode": "lines",
         "name": "GA",
         "type": "scatter",
         "x": [
          0,
          1,
          2,
          3,
          4,
          5,
          6,
          7,
          8,
          9,
          10,
          11,
          12,
          13,
          14,
          15,
          16,
          17,
          18,
          19,
          20,
          21,
          22,
          23,
          24,
          25,
          26,
          27,
          28,
          29,
          30,
          31,
          32,
          33,
          34,
          35,
          36,
          37,
          38,
          39,
          40,
          41,
          42,
          43,
          44,
          45,
          46,
          47,
          48,
          49,
          50,
          51,
          52,
          53,
          54,
          55,
          56,
          57,
          58,
          59,
          60,
          61,
          62,
          63,
          64,
          65,
          66,
          67,
          68,
          69,
          70,
          71,
          72,
          73,
          74,
          75,
          76,
          77,
          78,
          79,
          80,
          81,
          82,
          83,
          84,
          85,
          86,
          87,
          88,
          89,
          90,
          91,
          92,
          93,
          94,
          95,
          96,
          97,
          98,
          99,
          100
         ],
         "y": {
          "bdata": "xuEZoh1FFEEoMOO6xukMQboGFAuN+/ZA4Apv1HC46ECyHT2gzTnhQC5YRY1H9dRAHC7e+zte1ECQzPRlrBXEQN1+zZrlj7dAnsoJrQyftEBm3mZ0KkOzQMUQPFA3EahAbvMmVKcTnUDJ+TnDzJKXQE6F98eZdZBA6J135tFXiECAfg9QUISFQB6aOgWSe39AOyR3douEeUBmy1jxUw91QJFrnM8iGnFAQkebAc+McEDGV0fpnWZtQMTdergoPWZAbPaS0034Y0AAYDbF9X1gQPNk2Rzzc11AkJMtrefCWkBasaP04WBcQKKNG2yd6VhAJEK35k9OWUCuBUZt8k1WQKUWw4PU8FVAUe88dCAVVUDLy4/q/JBUQMRo4QGEOVRAH9ualO76U0Axf73iatFSQOJ8/DaW71JAC8OK5c0eU0A7Bh/8ikdSQNuNH5HGElJAcL3qBH3OUUAHJ+lK71BRQM5PQ/VlSFFAbPmyGZ0NUUBACPF+lpZQQMrK+Je5ZlBAVrlawdmBUECthzn2KSdQQK0b1xGNj09ALYR+oHFmT0BzlqzZenlPQAJd0jEhQE9AzvCm+SMcT0AaI3iWAudOQJJtv4WlyE5ASNqEMHCuTkAAwL2Sa4tOQEPFF7kAUE5AhQH8CDYpTkCDTtRoaQ5OQAKmdJzwCE5Acpb4E++fTEC4NiVPuZZMQII/1+jDd0xAo7xjf393TED6tkzCCpZNQEWsZTFFYk1AiF6BLQdUTUAGYHTNbDZNQF3yHfG4IE1AnhHss3gJTUA2AvpRiw9NQOqg5dxXBE1A6l84YlfzTEADEXBAqvJMQG5AMlC93ExAs6yMkdS4TEB+L16hYbBMQLIEbO2OqUxA9p2ZXDWqTEB2vHpRR5xMQA7N25y7OUxA6nf4pjP6S0DKV23wq6FLQOWXYyNXkktAqFjlaIuJS0BjX/E3sa9LQIsalm+nlEtAbXZYbWV4S0CyeuxloHVLQCVVTMEZbktAhofrHfw8S0B4CzD+DQZLQAtwLNGoAEtA/RhOhPLzSkD4NoS8XuBKQBNcKrHvx0pAE+gvbUPBSkDuxqjLMrRKQA==",
          "dtype": "f8"
         }
        },
        {
         "mode": "lines",
         "name": "PPS-GA",
         "type": "scatter",
         "x": [
          0,
          1,
          2,
          3,
          4,
          5,
          6,
          7,
          8,
          9,
          10,
          11,
          12,
          13,
          14,
          15,
          16,
          17,
          18,
          19,
          20,
          21,
          22,
          23,
          24,
          25,
          26,
          27,
          28,
          29,
          30,
          31,
          32,
          33,
          34,
          35,
          36,
          37,
          38,
          39,
          40,
          41,
          42,
          43,
          44,
          45,
          46,
          47,
          48,
          49,
          50,
          51,
          52,
          53,
          54,
          55,
          56,
          57,
          58,
          59,
          60,
          61,
          62,
          63,
          64,
          65,
          66,
          67,
          68,
          69,
          70,
          71,
          72,
          73,
          74,
          75,
          76,
          77,
          78,
          79,
          80,
          81,
          82,
          83,
          84,
          85,
          86,
          87,
          88,
          89,
          90,
          91,
          92,
          93,
          94,
          95,
          96,
          97,
          98,
          99,
          100
         ],
         "y": {
          "bdata": "UO9FmRE3+0AV5Zt93l7+QOGATHlPqvJATrCV8W2h6EBp3YT8UZXjQMITdf8rutNA/oShOBxk0kD3oWfz6hrDQGvYzrZF/75A7ahtPyVKu0Dmb3PNR8ewQLZNFofN5qRA5mn5pM4sokBD0PiV/7KjQChmn0Gch5pAdoYHCcAXmEBAj1BAj3CSQL4tKL/6TZJAoAhqqoo3ikCn7b1yz8yHQDE9PurkSIVA7DDVhz67hEAircw6n5yEQKL5SbCVdYJAy8pNdToZgEBmw9ec+EN/QF7aB9erO3xAj/33oCY4eUBTRodboFp4QMtnGRxFJ3dAS47IxtxRdECAowOEIQdzQK4T/xdE93FAAjCQWqTgcUBoVzib5IJwQHoDr/we729A5nn3lah/b0DTxdYvYjpuQCM5c4apvW1A7hXT8VG2a0Ar2GC5BtRqQEYq1AJCDGpAdSLAtEK4aUAg4sheNkhpQL46Mn3T82hAQQ6LCzisaEDNDhRtJ29oQF5rc3DiSmhAhvY+BJLPZ0DYUJrLg7BmQHaJ+nNin2ZAkIRWC+KEZkD6R4pvT2pmQNCp4jPM22RAcPM1h1ggZEDecLG/cJ1kQNXtciM+H2RAMwz8CHcEZECeGAH8X59jQFI40AYceWNAsZ5rXvg/Y0AGMDjmJVJiQBg/suWbq2FAbmUSC14qYUC3VR1gvRlgQAY6YFohn19AfkdtzrkPX0AAlGgxeQxfQFu9snlYK11APV+r/xnMXUCId/KXOfhcQGACK/ID3FxAfU2/q1G+XECqNH3NFrdcQBUZdhWCwFtAo5rlwQ6xW0BGwtvGglZaQO6IM9dfSlpAI6f01vYVWkDSVPYQbg1ZQFKs1wTGBllAZpv/fPFlWEBwQZvR3BhYQNqo2PBrElhAWAw52Ub6V0AFZN7hheFXQI6D6fXxoFZAW+QwZEwuVkB7HlRtU/ZVQEaxDfBdyFVANpEdK+a+VUBKxlbQ0qNVQO4X8sGxolVATZmVRxqTVUCLxNwUHIRVQEXiormSW1VARnBHX9NYVUD9+LRpqCZVQK0G1xKyGVVAbC+PaqX/VEBa70F7CeZUQA==",
          "dtype": "f8"
         }
        },
        {
         "mode": "lines",
         "name": "RLCGWO",
         "type": "scatter",
         "x": [
          0,
          1,
          2,
          3,
          4,
          5,
          6,
          7,
          8,
          9,
          10,
          11,
          12,
          13,
          14,
          15,
          16,
          17,
          18,
          19,
          20,
          21,
          22,
          23,
          24,
          25,
          26,
          27,
          28,
          29,
          30,
          31,
          32,
          33,
          34,
          35,
          36,
          37,
          38,
          39,
          40,
          41,
          42,
          43,
          44,
          45,
          46,
          47,
          48,
          49,
          50,
          51,
          52,
          53,
          54,
          55,
          56,
          57,
          58,
          59,
          60,
          61,
          62,
          63,
          64,
          65,
          66,
          67,
          68,
          69,
          70,
          71,
          72,
          73,
          74,
          75,
          76,
          77,
          78,
          79,
          80,
          81,
          82,
          83,
          84,
          85,
          86,
          87,
          88,
          89,
          90,
          91,
          92,
          93,
          94,
          95,
          96,
          97,
          98,
          99,
          100
         ],
         "y": {
          "bdata": "3lpHOw7e/EBO2r1FEsvTQDpaMMutEbFA92OmuwWekkDDRg4KEFZ/QMYWcvA7TG1A1sRBH0G3YkAjaN5w74xTQF1he51DL05A1XRIdxlEQkAtm0b1NTA6QJosyySuZTNAI/Y0f2yDLEBrHV5Wx/InQB1hiGFEdiVAwF58d4npI0BCLDTkU0sjQOSHtbDJcCJA/79jchh1IkAiQrxyvR4iQG8B8uFD6CFAJsTIndW6IUBaQRnVDlIhQO70k6XNSCFAJsaXkVDOIECfuIFH+7YgQJBPAmsNmSBAjp6inPyIIEDiWRQZBzcgQB5HDw7aVyBAClAg9YIzIEBeWIwQ3gkgQB3s1Klosx9AUOe3DTWHH0Bwr9kYgtgfQC4YNeWO0R9AtTZViLC9H0D6q/aXRcEfQNunQY3qVx9AsGLCWOCCH0BTJaAU7SofQN3L4iMoQB9A3hX/egx+H0AljVnrNR8fQDgxS4tHBx9AmGLtdLZCH0AD2CbXAwsfQEZV+JKTPx9AznxLGmARH0CL7u8C+64eQMuPNEClox5Aq3n437+xHkAa4oDhRq0eQM6dnxvvyR5AOwNygLaTHkC9HtHtEM8eQAiMjb6RSB5AfbCtTrtMHkA4pMrZ3SYeQO4WWXN5JB5AC/e5hx+YHkCmwDbzqHIeQAYGDUh5Fx5Ai0lbcSVaHkBt74dLYmIeQB2Hj2NDER5A0mcrYcgIHkBDrQrEbAoeQAazsqtaKB9ATjdjXDK5HUBQ72Ybm8IdQJLkT5F79x1AYBsNgHbjHUDC3/R6URQeQPay3sdsth1Agrgk/O54HUAKD0MPMfAdQGuRmbA4kh1AwjwLOUefHUAVIJYhsOMdQB0hrd4riR1A0HyXkuz8HUBgFfY4WX8eQHY/O61Z2x1AXhCBPnAEHkDSSVF77bAdQHa+1C8Gwx1AA9O/fHQpHkC2qT3kDZ4dQOhvWcBCuR1A4M9Us+JWHkDGnSRcS1geQH5ehigBCh5AHRH5vaUyHkDFzia1r7EeQH1dRXndDx5A6z9gVBf+HUAbKsBXJtMdQFtHEExhBR5AqlngALnOHUCKdf/IHAseQA==",
          "dtype": "f8"
         }
        },
        {
         "mode": "lines",
         "name": "EnhancedRLGWO",
         "type": "scatter",
         "x": [
          0,
          1,
          2,
          3,
          4,
          5,
          6,
          7,
          8,
          9,
          10,
          11,
          12,
          13,
          14,
          15,
          16,
          17,
          18,
          19,
          20,
          21,
          22,
          23,
          24,
          25,
          26,
          27,
          28,
          29,
          30,
          31,
          32,
          33,
          34,
          35,
          36,
          37,
          38,
          39,
          40,
          41,
          42,
          43,
          44,
          45,
          46,
          47,
          48,
          49,
          50,
          51,
          52,
          53,
          54,
          55,
          56,
          57,
          58,
          59,
          60,
          61,
          62,
          63,
          64,
          65,
          66,
          67,
          68,
          69,
          70,
          71,
          72,
          73,
          74,
          75,
          76,
          77,
          78,
          79,
          80,
          81,
          82,
          83,
          84,
          85,
          86,
          87,
          88,
          89,
          90,
          91,
          92,
          93,
          94,
          95,
          96,
          97,
          98,
          99,
          100
         ],
         "y": {
          "bdata": "su3uSaQi+EDIipi82ezQQO40dzK5KMdAup0A1xBXnED6gXVGIqKSQCbG2gzidoZA7dadbU9Df0DCejnn5X5zQBqt53oeZW5A+iFQ32F9ZkDeiIkY8GhiQFawKrsx+mFAy7UfkqL1XEBtl9SdhHRcQDtokC0uJVhA/eSEyzFFV0BTIRl1iUlRQPq07lvtuE5ApWN3RBHSS0AoMCHbea9LQCu+bE/aDE1A2O6ilplGR0AWrqo/rTtGQMqbKWdqEkZA12sgamTxQkDQOlIeYQtCQBIZAJoUGEFAvoxWJ9RiQkBFWk8b7VZCQE11nzpwKz9A8GFgWSQlREALsfZ5ryQ+QIY85lfPkj1AC+2ouDQ4PUCuNfCRxcFBQCqbn3v9ezlAxoWZVe8gN0BGFiYRQu82QMVFC/TijzZAWlP6eKC7N0BG3HGBsK43QPCPh87QwzZAd9KUCWM8NUDvNiEKeHk0QGWonZt9aTRAffHPURppNEBK3Xqv0Gc0QHRodJV0AjRAn9G0Kq6QM0DbkbMQTiAzQLSC9Ji4/jJAmhGs+eS8MkBz0WILdbgyQKo7AmP8MzNAtP0v+JkvM0D1eEZuOCszQG8gcBhyojFAJiZ91P4tMEDgMFVFRKMuQIpTgLF9XSxA85mV4+6gKUCCmFnMcD4oQFuPhY4dVCdAksd3dWNSJ0A+HFJojbYlQDqKx8ctyiRAJjaZQ3bAJEB4xyiCTjckQGZJAzk21CJABjRBHEkIIkDa2WwL8tohQD+9w18XiSFAAmJDva1uIUCxo5PKM2ghQC9PkCEgSCFA1s0alPk2IUAIvhiHjTYhQHg8cBV7ISFALJVY4UUYIUDycJGARwshQLOQ3+kN+yBAru8tYKXtIEDOQshV5NYgQL4i0YkDzyBADUl/NQ69IEBqzxtnq7ggQJg+eGDAsyBABo1qY+CnIEC+3xJsu54gQPIoZwkgniBAwGMlg8qaIEB909dmAZMgQIYM+whDlCBAzUSzmUeKIEAZTnjxD4cgQFvSnxLufyBAHrLHP1GBIEBIiJyIX20gQLexN3fzZyBAbVnahVRKIEDVCcTUwTwgQA==",
          "dtype": "f8"
         }
        }
       ],
       "layout": {
        "legend": {
         "title": {
          "text": "Algorithm"
         }
        },
        "template": {
         "data": {
          "bar": [
           {
            "error_x": {
             "color": "#2a3f5f"
            },
            "error_y": {
             "color": "#2a3f5f"
            },
            "marker": {
             "line": {
              "color": "white",
              "width": 0.5
             },
             "pattern": {
              "fillmode": "overlay",
              "size": 10,
              "solidity": 0.2
             }
            },
            "type": "bar"
           }
          ],
          "barpolar": [
           {
            "marker": {
             "line": {
              "color": "white",
              "width": 0.5
             },
             "pattern": {
              "fillmode": "overlay",
              "size": 10,
              "solidity": 0.2
             }
            },
            "type": "barpolar"
           }
          ],
          "carpet": [
           {
            "aaxis": {
             "endlinecolor": "#2a3f5f",
             "gridcolor": "#C8D4E3",
             "linecolor": "#C8D4E3",
             "minorgridcolor": "#C8D4E3",
             "startlinecolor": "#2a3f5f"
            },
            "baxis": {
             "endlinecolor": "#2a3f5f",
             "gridcolor": "#C8D4E3",
             "linecolor": "#C8D4E3",
             "minorgridcolor": "#C8D4E3",
             "startlinecolor": "#2a3f5f"
            },
            "type": "carpet"
           }
          ],
          "choropleth": [
           {
            "colorbar": {
             "outlinewidth": 0,
             "ticks": ""
            },
            "type": "choropleth"
           }
          ],
          "contour": [
           {
            "colorbar": {
             "outlinewidth": 0,
             "ticks": ""
            },
            "colorscale": [
             [
              0,
              "#0d0887"
             ],
             [
              0.1111111111111111,
              "#46039f"
             ],
             [
              0.2222222222222222,
              "#7201a8"
             ],
             [
              0.3333333333333333,
              "#9c179e"
             ],
             [
              0.4444444444444444,
              "#bd3786"
             ],
             [
              0.5555555555555556,
              "#d8576b"
             ],
             [
              0.6666666666666666,
              "#ed7953"
             ],
             [
              0.7777777777777778,
              "#fb9f3a"
             ],
             [
              0.8888888888888888,
              "#fdca26"
             ],
             [
              1,
              "#f0f921"
             ]
            ],
            "type": "contour"
           }
          ],
          "contourcarpet": [
           {
            "colorbar": {
             "outlinewidth": 0,
             "ticks": ""
            },
            "type": "contourcarpet"
           }
          ],
          "heatmap": [
           {
            "colorbar": {
             "outlinewidth": 0,
             "ticks": ""
            },
            "colorscale": [
             [
              0,
              "#0d0887"
             ],
             [
              0.1111111111111111,
              "#46039f"
             ],
             [
              0.2222222222222222,
              "#7201a8"
             ],
             [
              0.3333333333333333,
              "#9c179e"
             ],
             [
              0.4444444444444444,
              "#bd3786"
             ],
             [
              0.5555555555555556,
              "#d8576b"
             ],
             [
              0.6666666666666666,
              "#ed7953"
             ],
             [
              0.7777777777777778,
              "#fb9f3a"
             ],
             [
              0.8888888888888888,
              "#fdca26"
             ],
             [
              1,
              "#f0f921"
             ]
            ],
            "type": "heatmap"
           }
          ],
          "histogram": [
           {
            "marker": {
             "pattern": {
              "fillmode": "overlay",
              "size": 10,
              "solidity": 0.2
             }
            },
            "type": "histogram"
           }
          ],
          "histogram2d": [
           {
            "colorbar": {
             "outlinewidth": 0,
             "ticks": ""
            },
            "colorscale": [
             [
              0,
              "#0d0887"
             ],
             [
              0.1111111111111111,
              "#46039f"
             ],
             [
              0.2222222222222222,
              "#7201a8"
             ],
             [
              0.3333333333333333,
              "#9c179e"
             ],
             [
              0.4444444444444444,
              "#bd3786"
             ],
             [
              0.5555555555555556,
              "#d8576b"
             ],
             [
              0.6666666666666666,
              "#ed7953"
             ],
             [
              0.7777777777777778,
              "#fb9f3a"
             ],
             [
              0.8888888888888888,
              "#fdca26"
             ],
             [
              1,
              "#f0f921"
             ]
            ],
            "type": "histogram2d"
           }
          ],
          "histogram2dcontour": [
           {
            "colorbar": {
             "outlinewidth": 0,
             "ticks": ""
            },
            "colorscale": [
             [
              0,
              "#0d0887"
             ],
             [
              0.1111111111111111,
              "#46039f"
             ],
             [
              0.2222222222222222,
              "#7201a8"
             ],
             [
              0.3333333333333333,
              "#9c179e"
             ],
             [
              0.4444444444444444,
              "#bd3786"
             ],
             [
              0.5555555555555556,
              "#d8576b"
             ],
             [
              0.6666666666666666,
              "#ed7953"
             ],
             [
              0.7777777777777778,
              "#fb9f3a"
             ],
             [
              0.8888888888888888,
              "#fdca26"
             ],
             [
              1,
              "#f0f921"
             ]
            ],
            "type": "histogram2dcontour"
           }
          ],
          "mesh3d": [
           {
            "colorbar": {
             "outlinewidth": 0,
             "ticks": ""
            },
            "type": "mesh3d"
           }
          ],
          "parcoords": [
           {
            "line": {
             "colorbar": {
              "outlinewidth": 0,
              "ticks": ""
             }
            },
            "type": "parcoords"
           }
          ],
          "pie": [
           {
            "automargin": true,
            "type": "pie"
           }
          ],
          "scatter": [
           {
            "fillpattern": {
             "fillmode": "overlay",
             "size": 10,
             "solidity": 0.2
            },
            "type": "scatter"
           }
          ],
          "scatter3d": [
           {
            "line": {
             "colorbar": {
              "outlinewidth": 0,
              "ticks": ""
             }
            },
            "marker": {
             "colorbar": {
              "outlinewidth": 0,
              "ticks": ""
             }
            },
            "type": "scatter3d"
           }
          ],
          "scattercarpet": [
           {
            "marker": {
             "colorbar": {
              "outlinewidth": 0,
              "ticks": ""
             }
            },
            "type": "scattercarpet"
           }
          ],
          "scattergeo": [
           {
            "marker": {
             "colorbar": {
              "outlinewidth": 0,
              "ticks": ""
             }
            },
            "type": "scattergeo"
           }
          ],
          "scattergl": [
           {
            "marker": {
             "colorbar": {
              "outlinewidth": 0,
              "ticks": ""
             }
            },
            "type": "scattergl"
           }
          ],
          "scattermap": [
           {
            "marker": {
             "colorbar": {
              "outlinewidth": 0,
              "ticks": ""
             }
            },
            "type": "scattermap"
           }
          ],
          "scattermapbox": [
           {
            "marker": {
             "colorbar": {
              "outlinewidth": 0,
              "ticks": ""
             }
            },
            "type": "scattermapbox"
           }
          ],
          "scatterpolar": [
           {
            "marker": {
             "colorbar": {
              "outlinewidth": 0,
              "ticks": ""
             }
            },
            "type": "scatterpolar"
           }
          ],
          "scatterpolargl": [
           {
            "marker": {
             "colorbar": {
              "outlinewidth": 0,
              "ticks": ""
             }
            },
            "type": "scatterpolargl"
           }
          ],
          "scatterternary": [
           {
            "marker": {
             "colorbar": {
              "outlinewidth": 0,
              "ticks": ""
             }
            },
            "type": "scatterternary"
           }
          ],
          "surface": [
           {
            "colorbar": {
             "outlinewidth": 0,
             "ticks": ""
            },
            "colorscale": [
             [
              0,
              "#0d0887"
             ],
             [
              0.1111111111111111,
              "#46039f"
             ],
             [
              0.2222222222222222,
              "#7201a8"
             ],
             [
              0.3333333333333333,
              "#9c179e"
             ],
             [
              0.4444444444444444,
              "#bd3786"
             ],
             [
              0.5555555555555556,
              "#d8576b"
             ],
             [
              0.6666666666666666,
              "#ed7953"
             ],
             [
              0.7777777777777778,
              "#fb9f3a"
             ],
             [
              0.8888888888888888,
              "#fdca26"
             ],
             [
              1,
              "#f0f921"
             ]
            ],
            "type": "surface"
           }
          ],
          "table": [
           {
            "cells": {
             "fill": {
              "color": "#EBF0F8"
             },
             "line": {
              "color": "white"
             }
            },
            "header": {
             "fill": {
              "color": "#C8D4E3"
             },
             "line": {
              "color": "white"
             }
            },
            "type": "table"
           }
          ]
         },
         "layout": {
          "annotationdefaults": {
           "arrowcolor": "#2a3f5f",
           "arrowhead": 0,
           "arrowwidth": 1
          },
          "autotypenumbers": "strict",
          "coloraxis": {
           "colorbar": {
            "outlinewidth": 0,
            "ticks": ""
           }
          },
          "colorscale": {
           "diverging": [
            [
             0,
             "#8e0152"
            ],
            [
             0.1,
             "#c51b7d"
            ],
            [
             0.2,
             "#de77ae"
            ],
            [
             0.3,
             "#f1b6da"
            ],
            [
             0.4,
             "#fde0ef"
            ],
            [
             0.5,
             "#f7f7f7"
            ],
            [
             0.6,
             "#e6f5d0"
            ],
            [
             0.7,
             "#b8e186"
            ],
            [
             0.8,
             "#7fbc41"
            ],
            [
             0.9,
             "#4d9221"
            ],
            [
             1,
             "#276419"
            ]
           ],
           "sequential": [
            [
             0,
             "#0d0887"
            ],
            [
             0.1111111111111111,
             "#46039f"
            ],
            [
             0.2222222222222222,
             "#7201a8"
            ],
            [
             0.3333333333333333,
             "#9c179e"
            ],
            [
             0.4444444444444444,
             "#bd3786"
            ],
            [
             0.5555555555555556,
             "#d8576b"
            ],
            [
             0.6666666666666666,
             "#ed7953"
            ],
            [
             0.7777777777777778,
             "#fb9f3a"
            ],
            [
             0.8888888888888888,
             "#fdca26"
            ],
            [
             1,
             "#f0f921"
            ]
           ],
           "sequentialminus": [
            [
             0,
             "#0d0887"
            ],
            [
             0.1111111111111111,
             "#46039f"
            ],
            [
             0.2222222222222222,
             "#7201a8"
            ],
            [
             0.3333333333333333,
             "#9c179e"
            ],
            [
             0.4444444444444444,
             "#bd3786"
            ],
            [
             0.5555555555555556,
             "#d8576b"
            ],
            [
             0.6666666666666666,
             "#ed7953"
            ],
            [
             0.7777777777777778,
             "#fb9f3a"
            ],
            [
             0.8888888888888888,
             "#fdca26"
            ],
            [
             1,
             "#f0f921"
            ]
           ]
          },
          "colorway": [
           "#636efa",
           "#EF553B",
           "#00cc96",
           "#ab63fa",
           "#FFA15A",
           "#19d3f3",
           "#FF6692",
           "#B6E880",
           "#FF97FF",
           "#FECB52"
          ],
          "font": {
           "color": "#2a3f5f"
          },
          "geo": {
           "bgcolor": "white",
           "lakecolor": "white",
           "landcolor": "white",
           "showlakes": true,
           "showland": true,
           "subunitcolor": "#C8D4E3"
          },
          "hoverlabel": {
           "align": "left"
          },
          "hovermode": "closest",
          "mapbox": {
           "style": "light"
          },
          "paper_bgcolor": "white",
          "plot_bgcolor": "white",
          "polar": {
           "angularaxis": {
            "gridcolor": "#EBF0F8",
            "linecolor": "#EBF0F8",
            "ticks": ""
           },
           "bgcolor": "white",
           "radialaxis": {
            "gridcolor": "#EBF0F8",
            "linecolor": "#EBF0F8",
            "ticks": ""
           }
          },
          "scene": {
           "xaxis": {
            "backgroundcolor": "white",
            "gridcolor": "#DFE8F3",
            "gridwidth": 2,
            "linecolor": "#EBF0F8",
            "showbackground": true,
            "ticks": "",
            "zerolinecolor": "#EBF0F8"
           },
           "yaxis": {
            "backgroundcolor": "white",
            "gridcolor": "#DFE8F3",
            "gridwidth": 2,
            "linecolor": "#EBF0F8",
            "showbackground": true,
            "ticks": "",
            "zerolinecolor": "#EBF0F8"
           },
           "zaxis": {
            "backgroundcolor": "white",
            "gridcolor": "#DFE8F3",
            "gridwidth": 2,
            "linecolor": "#EBF0F8",
            "showbackground": true,
            "ticks": "",
            "zerolinecolor": "#EBF0F8"
           }
          },
          "shapedefaults": {
           "line": {
            "color": "#2a3f5f"
           }
          },
          "ternary": {
           "aaxis": {
            "gridcolor": "#DFE8F3",
            "linecolor": "#A2B1C6",
            "ticks": ""
           },
           "baxis": {
            "gridcolor": "#DFE8F3",
            "linecolor": "#A2B1C6",
            "ticks": ""
           },
           "bgcolor": "white",
           "caxis": {
            "gridcolor": "#DFE8F3",
            "linecolor": "#A2B1C6",
            "ticks": ""
           }
          },
          "title": {
           "x": 0.05
          },
          "xaxis": {
           "automargin": true,
           "gridcolor": "#EBF0F8",
           "linecolor": "#EBF0F8",
           "ticks": "",
           "title": {
            "standoff": 15
           },
           "zerolinecolor": "#EBF0F8",
           "zerolinewidth": 2
          },
          "yaxis": {
           "automargin": true,
           "gridcolor": "#EBF0F8",
           "linecolor": "#EBF0F8",
           "ticks": "",
           "title": {
            "standoff": 15
           },
           "zerolinecolor": "#EBF0F8",
           "zerolinewidth": 2
          }
         }
        },
        "title": {
         "text": "<b>Average Convergence Plot for Rosenbrock</b>"
        },
        "xaxis": {
         "title": {
          "text": "Generation"
         }
        },
        "yaxis": {
         "title": {
          "text": "Average Best Fitness (Lower is Better)"
         }
        }
       }
      }
     },
     "metadata": {},
     "output_type": "display_data"
    },
    {
     "data": {
      "application/vnd.plotly.v1+json": {
       "config": {
        "plotlyServerURL": "https://plot.ly"
       },
       "data": [
        {
         "mode": "lines",
         "name": "GA",
         "type": "scatter",
         "x": [
          0,
          1,
          2,
          3,
          4,
          5,
          6,
          7,
          8,
          9,
          10,
          11,
          12,
          13,
          14,
          15,
          16,
          17,
          18,
          19,
          20,
          21,
          22,
          23,
          24,
          25,
          26,
          27,
          28,
          29,
          30,
          31,
          32,
          33,
          34,
          35,
          36,
          37,
          38,
          39,
          40,
          41,
          42,
          43,
          44,
          45,
          46,
          47,
          48,
          49,
          50,
          51,
          52,
          53,
          54,
          55,
          56,
          57,
          58,
          59,
          60,
          61,
          62,
          63,
          64,
          65,
          66,
          67,
          68,
          69,
          70,
          71,
          72,
          73,
          74,
          75,
          76,
          77,
          78,
          79,
          80,
          81,
          82,
          83,
          84,
          85,
          86,
          87,
          88,
          89,
          90,
          91,
          92,
          93,
          94,
          95,
          96,
          97,
          98,
          99,
          100
         ],
         "y": {
          "bdata": "Edk+vpSPKECSlKntSt0mQNecbVRjVyNAczXwGGDkIUB4W2gk10shQO3OoFcB0R9AelaAQ247HEDaAkKdtB0bQPYUougBeBhALNDYFMAvGEAqS541VaEVQC0ap1xo6hNAx5KSt4wNE0C+m6FElykSQKc/UW2yyxFAkkbwuBRZEEDrFlEQXWQOQFAlONnSsQ1AOslSvFT8CkD5wl8lLdkIQJmPB82ZPQhARIh/Dq3jB0ABx5ryIjEGQEps1LBlKgVAWgpOaDOBA0CM6MelBdkBQF+zIyzKuQFAorbO6z/W/j9FFPXwddn9P0tDux8SFf4/+1SoQmKg+D8i79lve770PxuYzI0pXfQ/yAVA9pJZ8z/jLiU5xnXvP9BqJ6eoEu8/fZ2gqF3a6j83EwTOWBToPySQzPytn+M/XualfofM4j9egSOCqGLgP+4Go2zGdN8/SJf4+Tzp3D87jG3kdmjbP1UbSetMDNo/Ve61lqLh1D8qfL36l+XPP92Jj3aB/cw/Q60pWk91wz9dVMm6CRvEP5Dr3BM5TMM/uulhOFuquD/tiOUZ9am5PyDqNN7zmLg/umO3J9Tetj9TelEuMfi1P+0qwEsqobM/usFTAtjcsj+Gih8wa/exP7p0WcmkmbE/uk15OrM7sT/t8cjvIQuwP9p7qGKfGqw/2tHvjD4eqj/aGflPAkKpP3NVX2huQKg/DcuSP5KWpz9zAZLAPOmmP0As6Q/2z6U/DclzsmUIpT9zk8VeKymlP0AQ34YQFaQ/DX0vSDsBpD/aj/WtyGyjP6ZEgl4hpaI/pggeF+Beoj9AkvNLIC6iPw0x2AGRU6E/DaMqP48KoT9zac9xuqugP7OHokg19Z8/c6X6nf0zoD+zx0BH5USfP7OTy3lTHp4/s6NQ1C/CnT+AaGp/6AKdP+aKeHd20pw/gMC0ywGUnD9NLYm7L0icP+Z6mC9gfJk/gGB9juTtmD+z4/lcaqSYP7NT9rtXaJg/gKTjM2olmD+z63nBQemXP02xcKFuXZc/Glpc+FdAlz9NaVG3ar6WP4Bg4vKoX5Y/sycvHgIFlj+z0/OBd9OVPw==",
          "dtype": "f8"
         }
        },
        {
         "mode": "lines",
         "name": "PPS-GA",
         "type": "scatter",
         "x": [
          0,
          1,
          2,
          3,
          4,
          5,
          6,
          7,
          8,
          9,
          10,
          11,
          12,
          13,
          14,
          15,
          16,
          17,
          18,
          19,
          20,
          21,
          22,
          23,
          24,
          25,
          26,
          27,
          28,
          29,
          30,
          31,
          32,
          33,
          34,
          35,
          36,
          37,
          38,
          39,
          40,
          41,
          42,
          43,
          44,
          45,
          46,
          47,
          48,
          49,
          50,
          51,
          52,
          53,
          54,
          55,
          56,
          57,
          58,
          59,
          60,
          61,
          62,
          63,
          64,
          65,
          66,
          67,
          68,
          69,
          70,
          71,
          72,
          73,
          74,
          75,
          76,
          77,
          78,
          79,
          80,
          81,
          82,
          83,
          84,
          85,
          86,
          87,
          88,
          89,
          90,
          91,
          92,
          93,
          94,
          95,
          96,
          97,
          98,
          99,
          100
         ],
         "y": {
          "bdata": "XWkjqkS5M0ByYrNvIb4zQD5sCOspBjNAWDd7IC7FMkBbHqH9P2UyQC5pjamdgDBAGV2t0fsOMEC7v5ckueMuQO2nWcHPjy1AmoWW8n21KkDytqDZ7lcpQOIdYsSxOSdAmmAUAwFZJkAOQv27dy8lQJoFk5wRAiRAp8OnidNmIkATzq+oilEhQJAh3kriFyFAvsIk1yQsIECeQQG+L4seQMt1Vh5Vyh1AZsSaG+zvG0DTgsyZWtQZQNVCWwIdRhlAkbFtQMXxF0ArmZrxOOoVQMaB04QboxRAglwdJEHUE0AYFMWEvNcSQK/nhed60RFAQSQZFq4fEUAm19XhYXkPQHguJio/8w1AwHNx/6rdCkBNv3CJyqMJQLLAHlJG+whAt0lP9IZlCEDUXUXnY0kGQKfXNSZaagNA1G4RrwJGA0Bnjx7lkTUCQNx1beMNpQFAH0sTyEMPAUCeIdkNs60AQJK3RgJkfQBAglO4i4Q4/j9IumAXfDz9P/t06qehePw//u6QrH8p+j9uWa8uDY/3P3shzYNI1fY/CNwyuApk9T+VfMcTRaTzP+6SiGWdPPM/klfnmQJz8j/lz9BPO1HyP6rbGJT1rO0/dvsrJXVL7T8w2mqNq3XqPzaLbpgQ++k/sZrtgAeP6T+KGfDf/mPpPzGBhFiLVug/vmpC4f6B5j9E38XDBOrnP/co+aZ23ec/hDAwtRas5j/3wYcUMJzmP7cIbYx2XOU/1x4o0PbH5D8xcsXRWLLkPwRLPc0ueeQ/xIKg90Z45D9upEnR8RHZP8iyO/vJptk/u1rZ6dfi1D9I2FybKk7UP8jUJuFtC9A/KmVIs8V+xj+QGssBvqzDPyoKmYOW4cA/INEfnmF2vT+Gml4Feru9P4bO4jV68bk/U+j51Tm0uT+6SgBIXrW4P+3sLlZYgLg/hievzZj3tz8gRTIIlBW3P7pSexyQpbY/7XFlJHMjtj8gj5/JrYu1PyDi4R+fh7U/hsafXQ14tT+GmkN3nHG1P+2zZPMFY7U/7SbB+DBQtT+GMO7JV0m1P+3W8RQoN7U/huWkY04stT/trFN/BSW1Pw==",
          "dtype": "f8"
         }
        },
        {
         "mode": "lines",
         "name": "RLCGWO",
         "type": "scatter",
         "x": [
          0,
          1,
          2,
          3,
          4,
          5,
          6,
          7,
          8,
          9,
          10,
          11,
          12,
          13,
          14,
          15,
          16,
          17,
          18,
          19,
          20,
          21,
          22,
          23,
          24,
          25,
          26,
          27,
          28,
          29,
          30,
          31,
          32,
          33,
          34,
          35,
          36,
          37,
          38,
          39,
          40,
          41,
          42,
          43,
          44,
          45,
          46,
          47,
          48,
          49,
          50,
          51,
          52,
          53,
          54,
          55,
          56,
          57,
          58,
          59,
          60,
          61,
          62,
          63,
          64,
          65,
          66,
          67,
          68,
          69,
          70,
          71,
          72,
          73,
          74,
          75,
          76,
          77,
          78,
          79,
          80,
          81,
          82,
          83,
          84,
          85,
          86,
          87,
          88,
          89,
          90,
          91,
          92,
          93,
          94,
          95,
          96,
          97,
          98,
          99,
          100
         ],
         "y": {
          "bdata": "yvkOg+0sM0CacZf5v9QwQFZ1vUwj0ypAv9/Zktm6JkBa6n3UgxUiQOCLlEimZBpAPOb4dnEHFkDNGNYkSKMRQPKgMuNlKQ1AZNZLeSUgBkCqb+H1v5kCQJtSkVP8hfo/+zglojmX8D9KhZvRhDrlPy6Fs0m/otc/3Ul1OWAPzj/2pG6XxO3AP+0npHZ2wLo/7ZULGILwsD+m5Emd+KWoP3PpyXAXdaE/sxenCQLcmj+AELSXwwmVP+ZGTD19rpA/muIUJED8iT9mrzKulNODP80NAnaqVoA/Zmi5XIKmeD8AMtFv2VNyP2Zq0kuilW0/mr1SSwb5aT+aPcBDS49jP82Qb8woL2A/AMhWfsCGXD9mbjlcJoRWP80UaF/tzFI/AJAyF8dMTj9mdj/3npVKPzNDQZcVu0U/zVzrCRNtQj9mhhF7vY09P2aGEIFDhjo/M1M+o13ENT/N7Gl7R90yP2aGCP86VTE/ZqYyUTavLT+a2TPwEPonP80Mvfi/5yQ/AEBej8kzIj8zs1dLnMgeP5oZongXSBs/zUzJoO1tGD8AgHhqavwUPwCAlBhF8RE/zUy1uV4XED8zM1QzZuQMP2Zmf8uF8wg/ZmYnnQdeBj+amYqpdz0DPwAAmT2oeQA/zcwOdFvC+z4zM/U3d6b4PjMzZS3UM/U+AADyvcsh8z4AAOJ8Cx3xPgAAhFNkRe8+mpm9axdN7D6amX3fHPrpPjMzd4BXi+c+AADEEtaJ4z6amR1M0pzhPs3MUOd0EuA+mpkh3aAv3j5mZq6QL97bPgAAyHkdwdk+AACIoM8A1j6amaF0RzXUPgAASH4zwNI+AACIURU90T4AAMhzaYDQPs3MXHngR84+AACQBVv2yz4zM0NCJJTKPs3M3Le1LMg+mpmpk2maxT4zM0PEb37EPjMzw0gVEMM+AACQgiinwD5mZoY3MRi+PpqZuYkKNb0+MzNTkLJmuz4AACCR+KW5PpqZuc8D27c+AAAgOEultj7NzOxRmMq0PpqZuQ/O/bI+AAAgPvHnsT4AACDbUY+wPmZmpgDjI6w+zcwMI9GfqD7NzAw3//2lPg==",
          "dtype": "f8"
         }
        },
        {
         "mode": "lines",
         "name": "EnhancedRLGWO",
         "type": "scatter",
         "x": [
          0,
          1,
          2,
          3,
          4,
          5,
          6,
          7,
          8,
          9,
          10,
          11,
          12,
          13,
          14,
          15,
          16,
          17,
          18,
          19,
          20,
          21,
          22,
          23,
          24,
          25,
          26,
          27,
          28,
          29,
          30,
          31,
          32,
          33,
          34,
          35,
          36,
          37,
          38,
          39,
          40,
          41,
          42,
          43,
          44,
          45,
          46,
          47,
          48,
          49,
          50,
          51,
          52,
          53,
          54,
          55,
          56,
          57,
          58,
          59,
          60,
          61,
          62,
          63,
          64,
          65,
          66,
          67,
          68,
          69,
          70,
          71,
          72,
          73,
          74,
          75,
          76,
          77,
          78,
          79,
          80,
          81,
          82,
          83,
          84,
          85,
          86,
          87,
          88,
          89,
          90,
          91,
          92,
          93,
          94,
          95,
          96,
          97,
          98,
          99,
          100
         ],
         "y": {
          "bdata": "nlKf2u/LM0Da2hkuHBswQFN8G8cDFy5AjgdRbSesI0DPwx+geXkhQHZn0RaIThpAsvZj0HZeFkD7y7Lye9gQQCjrmPl3mAlAF9ijBiM3A0CI8/JeXEH2PxVMeqbpLfE/47dQevFC7z8wpynbzsjrP95+ebcsMOk/u9KDXX6d1j/D1YlOmdDKP93HQxt8XsM/uiheexXjvj9T25OpGtu1P3NzsrvA9a8/QEbUYZ5Voj/afTfBvy6hP02VcPvEH5k/5vbcG5LPkT+AvP+6736QP+aGADW/SZA/zW6+kq6Ncj/NECOX67NoP81wz1PdDmY/M3eurI2mYj+a/bzUQrFhP2b2fjL7RUg/ZobhocfmOj8zU6TIHYoxP83s/3jpCjA/M7ML4xt3Gj/NTPVkmmsUP83MDaQ//AU/mpmycak0BD/NzM7madf1PjMzlZwX3fM+ZmYuWRYu3z7NzJSQK9bQPjMzQ36xIs8+ZmaGwYRcuj7NzOzqHC66PpqZ2Z/ryqA+ZmbmXisUlD7NzEyF7AiRPjMzM0WGNH8+zczMHh0bfj6amZmdq0NjPjMzM/vR/Vw+zczMFKFdUz7NzMxcA1xPPpqZmSn2FEw+MzMzQ6BuQz4zMzNTIp41PmZmZoZKkjQ+ZmZmplY6KD4zMzOz2/sXPmZmZua+dRE+mpmZmTpgDz7NzMzMDWAKPjMzMzNENQc+zczMzGXpBT5mZmZmN7ABPjMzMzO1t/c9mpmZmRtr8j3NzMzMzljyPTMzMzMFYPE9zczMzNT01z2amZmZqfPJPc3MzMxcRcY9MzMzM0Pewz0zMzMzQ6/APWZmZmamGqk9MzMzM7Pbmz1mZmZm5nqUPTMzMzOzw5A9MzMzMzPUiz1mZmZmZneHPZqZmZmZi389ZmZmZmbYeT3NzMzMzK54PTMzMzMzxXc9ZmZmZmYuWT0AAAAAAAhXPZqZmZmZIVU9mpmZmZkhUD0AAAAAAJBJPTMzMzMzQ0I9AAAAAAAQQT3NzMzMzAwpPTMzMzMzcyE9mpmZmZkZHj1mZmZmZuYaPQAAAAAAgBg9mpmZmZkZFj2amZmZmRkSPQ==",
          "dtype": "f8"
         }
        }
       ],
       "layout": {
        "legend": {
         "title": {
          "text": "Algorithm"
         }
        },
        "template": {
         "data": {
          "bar": [
           {
            "error_x": {
             "color": "#2a3f5f"
            },
            "error_y": {
             "color": "#2a3f5f"
            },
            "marker": {
             "line": {
              "color": "white",
              "width": 0.5
             },
             "pattern": {
              "fillmode": "overlay",
              "size": 10,
              "solidity": 0.2
             }
            },
            "type": "bar"
           }
          ],
          "barpolar": [
           {
            "marker": {
             "line": {
              "color": "white",
              "width": 0.5
             },
             "pattern": {
              "fillmode": "overlay",
              "size": 10,
              "solidity": 0.2
             }
            },
            "type": "barpolar"
           }
          ],
          "carpet": [
           {
            "aaxis": {
             "endlinecolor": "#2a3f5f",
             "gridcolor": "#C8D4E3",
             "linecolor": "#C8D4E3",
             "minorgridcolor": "#C8D4E3",
             "startlinecolor": "#2a3f5f"
            },
            "baxis": {
             "endlinecolor": "#2a3f5f",
             "gridcolor": "#C8D4E3",
             "linecolor": "#C8D4E3",
             "minorgridcolor": "#C8D4E3",
             "startlinecolor": "#2a3f5f"
            },
            "type": "carpet"
           }
          ],
          "choropleth": [
           {
            "colorbar": {
             "outlinewidth": 0,
             "ticks": ""
            },
            "type": "choropleth"
           }
          ],
          "contour": [
           {
            "colorbar": {
             "outlinewidth": 0,
             "ticks": ""
            },
            "colorscale": [
             [
              0,
              "#0d0887"
             ],
             [
              0.1111111111111111,
              "#46039f"
             ],
             [
              0.2222222222222222,
              "#7201a8"
             ],
             [
              0.3333333333333333,
              "#9c179e"
             ],
             [
              0.4444444444444444,
              "#bd3786"
             ],
             [
              0.5555555555555556,
              "#d8576b"
             ],
             [
              0.6666666666666666,
              "#ed7953"
             ],
             [
              0.7777777777777778,
              "#fb9f3a"
             ],
             [
              0.8888888888888888,
              "#fdca26"
             ],
             [
              1,
              "#f0f921"
             ]
            ],
            "type": "contour"
           }
          ],
          "contourcarpet": [
           {
            "colorbar": {
             "outlinewidth": 0,
             "ticks": ""
            },
            "type": "contourcarpet"
           }
          ],
          "heatmap": [
           {
            "colorbar": {
             "outlinewidth": 0,
             "ticks": ""
            },
            "colorscale": [
             [
              0,
              "#0d0887"
             ],
             [
              0.1111111111111111,
              "#46039f"
             ],
             [
              0.2222222222222222,
              "#7201a8"
             ],
             [
              0.3333333333333333,
              "#9c179e"
             ],
             [
              0.4444444444444444,
              "#bd3786"
             ],
             [
              0.5555555555555556,
              "#d8576b"
             ],
             [
              0.6666666666666666,
              "#ed7953"
             ],
             [
              0.7777777777777778,
              "#fb9f3a"
             ],
             [
              0.8888888888888888,
              "#fdca26"
             ],
             [
              1,
              "#f0f921"
             ]
            ],
            "type": "heatmap"
           }
          ],
          "histogram": [
           {
            "marker": {
             "pattern": {
              "fillmode": "overlay",
              "size": 10,
              "solidity": 0.2
             }
            },
            "type": "histogram"
           }
          ],
          "histogram2d": [
           {
            "colorbar": {
             "outlinewidth": 0,
             "ticks": ""
            },
            "colorscale": [
             [
              0,
              "#0d0887"
             ],
             [
              0.1111111111111111,
              "#46039f"
             ],
             [
              0.2222222222222222,
              "#7201a8"
             ],
             [
              0.3333333333333333,
              "#9c179e"
             ],
             [
              0.4444444444444444,
              "#bd3786"
             ],
             [
              0.5555555555555556,
              "#d8576b"
             ],
             [
              0.6666666666666666,
              "#ed7953"
             ],
             [
              0.7777777777777778,
              "#fb9f3a"
             ],
             [
              0.8888888888888888,
              "#fdca26"
             ],
             [
              1,
              "#f0f921"
             ]
            ],
            "type": "histogram2d"
           }
          ],
          "histogram2dcontour": [
           {
            "colorbar": {
             "outlinewidth": 0,
             "ticks": ""
            },
            "colorscale": [
             [
              0,
              "#0d0887"
             ],
             [
              0.1111111111111111,
              "#46039f"
             ],
             [
              0.2222222222222222,
              "#7201a8"
             ],
             [
              0.3333333333333333,
              "#9c179e"
             ],
             [
              0.4444444444444444,
              "#bd3786"
             ],
             [
              0.5555555555555556,
              "#d8576b"
             ],
             [
              0.6666666666666666,
              "#ed7953"
             ],
             [
              0.7777777777777778,
              "#fb9f3a"
             ],
             [
              0.8888888888888888,
              "#fdca26"
             ],
             [
              1,
              "#f0f921"
             ]
            ],
            "type": "histogram2dcontour"
           }
          ],
          "mesh3d": [
           {
            "colorbar": {
             "outlinewidth": 0,
             "ticks": ""
            },
            "type": "mesh3d"
           }
          ],
          "parcoords": [
           {
            "line": {
             "colorbar": {
              "outlinewidth": 0,
              "ticks": ""
             }
            },
            "type": "parcoords"
           }
          ],
          "pie": [
           {
            "automargin": true,
            "type": "pie"
           }
          ],
          "scatter": [
           {
            "fillpattern": {
             "fillmode": "overlay",
             "size": 10,
             "solidity": 0.2
            },
            "type": "scatter"
           }
          ],
          "scatter3d": [
           {
            "line": {
             "colorbar": {
              "outlinewidth": 0,
              "ticks": ""
             }
            },
            "marker": {
             "colorbar": {
              "outlinewidth": 0,
              "ticks": ""
             }
            },
            "type": "scatter3d"
           }
          ],
          "scattercarpet": [
           {
            "marker": {
             "colorbar": {
              "outlinewidth": 0,
              "ticks": ""
             }
            },
            "type": "scattercarpet"
           }
          ],
          "scattergeo": [
           {
            "marker": {
             "colorbar": {
              "outlinewidth": 0,
              "ticks": ""
             }
            },
            "type": "scattergeo"
           }
          ],
          "scattergl": [
           {
            "marker": {
             "colorbar": {
              "outlinewidth": 0,
              "ticks": ""
             }
            },
            "type": "scattergl"
           }
          ],
          "scattermap": [
           {
            "marker": {
             "colorbar": {
              "outlinewidth": 0,
              "ticks": ""
             }
            },
            "type": "scattermap"
           }
          ],
          "scattermapbox": [
           {
            "marker": {
             "colorbar": {
              "outlinewidth": 0,
              "ticks": ""
             }
            },
            "type": "scattermapbox"
           }
          ],
          "scatterpolar": [
           {
            "marker": {
             "colorbar": {
              "outlinewidth": 0,
              "ticks": ""
             }
            },
            "type": "scatterpolar"
           }
          ],
          "scatterpolargl": [
           {
            "marker": {
             "colorbar": {
              "outlinewidth": 0,
              "ticks": ""
             }
            },
            "type": "scatterpolargl"
           }
          ],
          "scatterternary": [
           {
            "marker": {
             "colorbar": {
              "outlinewidth": 0,
              "ticks": ""
             }
            },
            "type": "scatterternary"
           }
          ],
          "surface": [
           {
            "colorbar": {
             "outlinewidth": 0,
             "ticks": ""
            },
            "colorscale": [
             [
              0,
              "#0d0887"
             ],
             [
              0.1111111111111111,
              "#46039f"
             ],
             [
              0.2222222222222222,
              "#7201a8"
             ],
             [
              0.3333333333333333,
              "#9c179e"
             ],
             [
              0.4444444444444444,
              "#bd3786"
             ],
             [
              0.5555555555555556,
              "#d8576b"
             ],
             [
              0.6666666666666666,
              "#ed7953"
             ],
             [
              0.7777777777777778,
              "#fb9f3a"
             ],
             [
              0.8888888888888888,
              "#fdca26"
             ],
             [
              1,
              "#f0f921"
             ]
            ],
            "type": "surface"
           }
          ],
          "table": [
           {
            "cells": {
             "fill": {
              "color": "#EBF0F8"
             },
             "line": {
              "color": "white"
             }
            },
            "header": {
             "fill": {
              "color": "#C8D4E3"
             },
             "line": {
              "color": "white"
             }
            },
            "type": "table"
           }
          ]
         },
         "layout": {
          "annotationdefaults": {
           "arrowcolor": "#2a3f5f",
           "arrowhead": 0,
           "arrowwidth": 1
          },
          "autotypenumbers": "strict",
          "coloraxis": {
           "colorbar": {
            "outlinewidth": 0,
            "ticks": ""
           }
          },
          "colorscale": {
           "diverging": [
            [
             0,
             "#8e0152"
            ],
            [
             0.1,
             "#c51b7d"
            ],
            [
             0.2,
             "#de77ae"
            ],
            [
             0.3,
             "#f1b6da"
            ],
            [
             0.4,
             "#fde0ef"
            ],
            [
             0.5,
             "#f7f7f7"
            ],
            [
             0.6,
             "#e6f5d0"
            ],
            [
             0.7,
             "#b8e186"
            ],
            [
             0.8,
             "#7fbc41"
            ],
            [
             0.9,
             "#4d9221"
            ],
            [
             1,
             "#276419"
            ]
           ],
           "sequential": [
            [
             0,
             "#0d0887"
            ],
            [
             0.1111111111111111,
             "#46039f"
            ],
            [
             0.2222222222222222,
             "#7201a8"
            ],
            [
             0.3333333333333333,
             "#9c179e"
            ],
            [
             0.4444444444444444,
             "#bd3786"
            ],
            [
             0.5555555555555556,
             "#d8576b"
            ],
            [
             0.6666666666666666,
             "#ed7953"
            ],
            [
             0.7777777777777778,
             "#fb9f3a"
            ],
            [
             0.8888888888888888,
             "#fdca26"
            ],
            [
             1,
             "#f0f921"
            ]
           ],
           "sequentialminus": [
            [
             0,
             "#0d0887"
            ],
            [
             0.1111111111111111,
             "#46039f"
            ],
            [
             0.2222222222222222,
             "#7201a8"
            ],
            [
             0.3333333333333333,
             "#9c179e"
            ],
            [
             0.4444444444444444,
             "#bd3786"
            ],
            [
             0.5555555555555556,
             "#d8576b"
            ],
            [
             0.6666666666666666,
             "#ed7953"
            ],
            [
             0.7777777777777778,
             "#fb9f3a"
            ],
            [
             0.8888888888888888,
             "#fdca26"
            ],
            [
             1,
             "#f0f921"
            ]
           ]
          },
          "colorway": [
           "#636efa",
           "#EF553B",
           "#00cc96",
           "#ab63fa",
           "#FFA15A",
           "#19d3f3",
           "#FF6692",
           "#B6E880",
           "#FF97FF",
           "#FECB52"
          ],
          "font": {
           "color": "#2a3f5f"
          },
          "geo": {
           "bgcolor": "white",
           "lakecolor": "white",
           "landcolor": "white",
           "showlakes": true,
           "showland": true,
           "subunitcolor": "#C8D4E3"
          },
          "hoverlabel": {
           "align": "left"
          },
          "hovermode": "closest",
          "mapbox": {
           "style": "light"
          },
          "paper_bgcolor": "white",
          "plot_bgcolor": "white",
          "polar": {
           "angularaxis": {
            "gridcolor": "#EBF0F8",
            "linecolor": "#EBF0F8",
            "ticks": ""
           },
           "bgcolor": "white",
           "radialaxis": {
            "gridcolor": "#EBF0F8",
            "linecolor": "#EBF0F8",
            "ticks": ""
           }
          },
          "scene": {
           "xaxis": {
            "backgroundcolor": "white",
            "gridcolor": "#DFE8F3",
            "gridwidth": 2,
            "linecolor": "#EBF0F8",
            "showbackground": true,
            "ticks": "",
            "zerolinecolor": "#EBF0F8"
           },
           "yaxis": {
            "backgroundcolor": "white",
            "gridcolor": "#DFE8F3",
            "gridwidth": 2,
            "linecolor": "#EBF0F8",
            "showbackground": true,
            "ticks": "",
            "zerolinecolor": "#EBF0F8"
           },
           "zaxis": {
            "backgroundcolor": "white",
            "gridcolor": "#DFE8F3",
            "gridwidth": 2,
            "linecolor": "#EBF0F8",
            "showbackground": true,
            "ticks": "",
            "zerolinecolor": "#EBF0F8"
           }
          },
          "shapedefaults": {
           "line": {
            "color": "#2a3f5f"
           }
          },
          "ternary": {
           "aaxis": {
            "gridcolor": "#DFE8F3",
            "linecolor": "#A2B1C6",
            "ticks": ""
           },
           "baxis": {
            "gridcolor": "#DFE8F3",
            "linecolor": "#A2B1C6",
            "ticks": ""
           },
           "bgcolor": "white",
           "caxis": {
            "gridcolor": "#DFE8F3",
            "linecolor": "#A2B1C6",
            "ticks": ""
           }
          },
          "title": {
           "x": 0.05
          },
          "xaxis": {
           "automargin": true,
           "gridcolor": "#EBF0F8",
           "linecolor": "#EBF0F8",
           "ticks": "",
           "title": {
            "standoff": 15
           },
           "zerolinecolor": "#EBF0F8",
           "zerolinewidth": 2
          },
          "yaxis": {
           "automargin": true,
           "gridcolor": "#EBF0F8",
           "linecolor": "#EBF0F8",
           "ticks": "",
           "title": {
            "standoff": 15
           },
           "zerolinecolor": "#EBF0F8",
           "zerolinewidth": 2
          }
         }
        },
        "title": {
         "text": "<b>Average Convergence Plot for Ackley</b>"
        },
        "xaxis": {
         "title": {
          "text": "Generation"
         }
        },
        "yaxis": {
         "title": {
          "text": "Average Best Fitness (Lower is Better)"
         }
        }
       }
      }
     },
     "metadata": {},
     "output_type": "display_data"
    },
    {
     "data": {
      "application/vnd.plotly.v1+json": {
       "config": {
        "plotlyServerURL": "https://plot.ly"
       },
       "data": [
        {
         "mode": "lines",
         "name": "GA",
         "type": "scatter",
         "x": [
          0,
          1,
          2,
          3,
          4,
          5,
          6,
          7,
          8,
          9,
          10,
          11,
          12,
          13,
          14,
          15,
          16,
          17,
          18,
          19,
          20,
          21,
          22,
          23,
          24,
          25,
          26,
          27,
          28,
          29,
          30,
          31,
          32,
          33,
          34,
          35,
          36,
          37,
          38,
          39,
          40,
          41,
          42,
          43,
          44,
          45,
          46,
          47,
          48,
          49,
          50,
          51,
          52,
          53,
          54,
          55,
          56,
          57,
          58,
          59,
          60,
          61,
          62,
          63,
          64,
          65,
          66,
          67,
          68,
          69,
          70,
          71,
          72,
          73,
          74,
          75,
          76,
          77,
          78,
          79,
          80,
          81,
          82,
          83,
          84,
          85,
          86,
          87,
          88,
          89,
          90,
          91,
          92,
          93,
          94,
          95,
          96,
          97,
          98,
          99,
          100
         ],
         "y": {
          "bdata": "yva+Bkwb7z8qoNcC4MztP6oIInd2se0/CpwW9fQL7j/uKnMWbrrrPyMGBKxJBOw/Xh1YbZFg6z/zlrUUxyHqP4EzKzXED+g/q75tSgUB5z+KTMrKRVPmPxq4V+xCdeQ/iiqU1VoV4j8i/cFzVH/hPxpVx90wTt8/eCpwzpEO3j8DzyHp1lfbP07u4AxsZ9k/LR81Z2YB1T/tajVo2zbTPzrYLHgvadQ/246ZL87N0D9DRF0BnvjPP2r0yyBz8c0/NiBPKjJyzD+5We2MXinJP496zxhsk8Y/vM03rA+LxT8OE5HgdHLAP9n1lznQG8E//a5F31+7vD/ipcrZTdO7P0NiSKR1P7k/2kd2TiOItz/o+4uD53G0PzVmQmfALbI/pZQrNhL4sD+GE8VqsmOvPwbINfptPK0/enAwivSerD99xCpgUH6qPwMTPOgqtqg/hhsbdhLspz9mi/SDbWGnP33vkuOwAKc/U9amkQbApj9mVTo6NROmPxBsI7s/GaY/9kvuPuHHpT/j+aTFaHOlP2a7Q2FdcaU/E55S/7lUpT86WovRtCClP7AAFyltDqU/ujbkcRDLpD/q0id5O6SkP0MAackxkKQ/86En2fh/pD9Gu61sOWakP/Nc5b/FbKQ/s2JPwMlepD+6iXkSYU+kP5omNaevGaQ/Xcqux6XNoz+6F5xG4cmjPzbwUpRuxKM/cE2kj+2Poz86lzjDtHujP205K316cqM/OgHFwiVxoz+dCZGG32+jPwYHDPYwbaM/VgoZQ7Bdoz99SBsS9VSjP+P4RD7eUqM/Rpf3Vb7Hoj+QQjdSjceiP5BEVAWcwKI/nUkVkP/Goj8Q4gb4XsGiP5Y29+eLvqI/ME/ZbHS9oj99oxuHOLuiPyZuVAt9uaI/Ld4EwcW4oj/qui4u6LWiPwBCsPnmsqI/BrSI14Cyoj8m2JaCM7KiP5Y5KNgwsqI/1pJIi+uxoj/jp6o9tLGiP/rQfsN1saI/w82gzECxoj862LKKMLGiP11Bnp4UsaI/neciEPOwoj/A5VUtxLCiPybpjKyksKI/prMyiX2woj8QAUxDS7CiPw==",
          "dtype": "f8"
         }
        },
        {
         "mode": "lines",
         "name": "PPS-GA",
         "type": "scatter",
         "x": [
          0,
          1,
          2,
          3,
          4,
          5,
          6,
          7,
          8,
          9,
          10,
          11,
          12,
          13,
          14,
          15,
          16,
          17,
          18,
          19,
          20,
          21,
          22,
          23,
          24,
          25,
          26,
          27,
          28,
          29,
          30,
          31,
          32,
          33,
          34,
          35,
          36,
          37,
          38,
          39,
          40,
          41,
          42,
          43,
          44,
          45,
          46,
          47,
          48,
          49,
          50,
          51,
          52,
          53,
          54,
          55,
          56,
          57,
          58,
          59,
          60,
          61,
          62,
          63,
          64,
          65,
          66,
          67,
          68,
          69,
          70,
          71,
          72,
          73,
          74,
          75,
          76,
          77,
          78,
          79,
          80,
          81,
          82,
          83,
          84,
          85,
          86,
          87,
          88,
          89,
          90,
          91,
          92,
          93,
          94,
          95,
          96,
          97,
          98,
          99,
          100
         ],
         "y": {
          "bdata": "M1rUgcZdXkBz/YSqNDVbQHOZLr4RflhA7g1XRB0RUkCDnzgakjVLQCxZaG0LlERA3GX+7WtxQkAdZd6iuB8+QBiviPfcLDhAoebvTSyVM0B61L2Yn6szQF06XVZ58yxAiesVUB82JUBatrRIQ+0gQEZgGRIJ3h1A/u5Yg72VHEAtKJa4TEoaQBd4El17OhdA8l3XOGIkF0AK9EBvBpcUQI2jg+4pXxNA6bIKoM4GE0Bt7DCmmIkRQLdbhog+ZxFAp6FW1ZZFEUDt8YGoQykQQEqzA0iH+Q5AU+82qz27DkC4GcMqLFoOQIbmaip58Q1AJU43Y+tSDUBKYLNY6iENQDpsAkJMeAxADZAwHXJCDEAabXmtncQLQLUiZfBPPAtA6zHAnkUBC0DDW5201LQKQPYodG2amApAUAxaXuDXCUC6xk/rW6EJQFxMtTAgbQlAJv4pg8VjCUDzP4xCiNgIQNKLh7OCyghAPymoI5drCEBdBNzdfNcHQOTqP77tbgdAnq9dxNwYB0CdGfBZbNoGQMk60V1bwQZAs5NvAxqJBkCS5E4NqV8GQF0o19KxNgZAbi9ulz8qBkBCPswKS88FQIkgVFPXkwVA5O3Fl5KNBUA24uv6rAYFQHNi7dEzogRAFp+8kryPBEBSiis6A0gEQP3sRRjrKgRAKAb4atzzA0DzVvHLX7QDQNpwxv+SYgNAAmxL7hg5A0CKYgtNZEADQIuRlkPuAQNAvoa/YMqRAkA9CQihSoMCQBf7YnyJLgJAadg2HPozAkCY+PspsfUBQJEstdH62wFAna4SyxvNAUCYMmmxlL8BQC8mdB5ytgFAjiHnonqfAUDjGleKUogBQDXmUb2teQFAav4MFI1sAUBuYNFdAVsBQI7L6I5aTwFAWDZSUdFIAUCjJ0Iyo9MAQGYT6ABmlABAXvMHXPCxAECztr0GJn8AQKMXCMN/TwBAooBqvyZFAED+i3/9XzgAQFfRSI0bMwBAy9ygOYb4/z+4sSj8bvX/Pzvzoke/9P8/evo7SknE/z+YOeYpjMD/P9PH8HUSqf8/22AOCwub/z8uoBLzVXL/Pw==",
          "dtype": "f8"
         }
        },
        {
         "mode": "lines",
         "name": "RLCGWO",
         "type": "scatter",
         "x": [
          0,
          1,
          2,
          3,
          4,
          5,
          6,
          7,
          8,
          9,
          10,
          11,
          12,
          13,
          14,
          15,
          16,
          17,
          18,
          19,
          20,
          21,
          22,
          23,
          24,
          25,
          26,
          27,
          28,
          29,
          30,
          31,
          32,
          33,
          34,
          35,
          36,
          37,
          38,
          39,
          40,
          41,
          42,
          43,
          44,
          45,
          46,
          47,
          48,
          49,
          50,
          51,
          52,
          53,
          54,
          55,
          56,
          57,
          58,
          59,
          60,
          61,
          62,
          63,
          64,
          65,
          66,
          67,
          68,
          69,
          70,
          71,
          72,
          73,
          74,
          75,
          76,
          77,
          78,
          79,
          80,
          81,
          82,
          83,
          84,
          85,
          86,
          87,
          88,
          89,
          90,
          91,
          92,
          93,
          94,
          95,
          96,
          97,
          98,
          99,
          100
         ],
         "y": {
          "bdata": "hoHjkU8VXUBNQdE8ylVEQOugQ3UmnDJApjFsiakFI0CbnLH+0yccQH0RVgmwZw9AJTaX3WR0BUCm6Q6pc9H5PyLCjD0J+/Q/lxoGC2hp8T9ggqsDWyTvPx3Xli4Gce8/TaiCqeP37z8uf0cBSiLtPxqKYX4EKew/ech5WNqd6D9DsaTQOMDmPz4HXEq/gOQ/b/V3jha+4D89CBcP0mfePxKuc0pas9k/SDhVBvlf1j8Av40yE0HXP9m+ZF+yP9g/broHtUiD1j+KnOjSiFXUPyiy/HnbQtQ/iBzoYKAI0T8xAOTw+FXTP8XPwRE4IdA/rZ8lXxJ00D9qLMECFCDRP6tAVRlhNc8/29b3UIujyz8tf3dyNOPTP16uKQl++sQ/yHvie4100T/wGNCaeVfNPw4+KLWnZdE/LERx+snIxz/iHgGu6TvSP4JMf4J3d8w/brBzVCIM0j/2dEOQ1pLOP7Y9VNyzWs0/Np5YEOBxzD9akiwXmjPKP8F3UzJLfMg/+rUEDsMIyj+p8Rk3r2jSP4VZkj6EVtE/ZkHco6Tryj/Hj6q503fQP73GP9BJRs8/x8TrR4iW1D8txi/B7SHNP+JLZN01K8c/cBBYdcCqzD8ClezgH2LGPx5CJqldTMw/2DMiNvmvxz/C5TgeLhTAP8YJuSOcjco/BSr+L6Su0z+NXUzbd3rCP9iivkjs2MQ/mlTbBBZOyD8uqzsy4NrHP7Y+cCtBnsM/qfMJ3DdNxD/61IhPHi/EP6qVNwT2hcI/6WgJjGyDwT+WVMzCRDHAP3Dd5gNsD7w/ZoyvEotqxD+r2XiOZbTBP6Ib3uTUfsA/rvTkawpExj9AHIDj/CfAP2P4IiOdTb4/hoJ2KBc9vj9doRuK3Hu7P6Z+i4s7MLY/aaY5HSYywD9W6GqN50zDP+jyhS5lu8Q/m17IY9dEvD+KLsWL6BW+P0I4RcTP7Lg/DjXbw4JHsT+V+eLyTyi1P8yabEEa+8Q/noFtaGeIsz9X9jAnjyzDP+jj2sh+ALQ/Hn8cwWV3wT9CPObUbLvDPxvdF7Z5KLw/btXKmGs5tz+a8wush361Pw==",
          "dtype": "f8"
         }
        },
        {
         "mode": "lines",
         "name": "EnhancedRLGWO",
         "type": "scatter",
         "x": [
          0,
          1,
          2,
          3,
          4,
          5,
          6,
          7,
          8,
          9,
          10,
          11,
          12,
          13,
          14,
          15,
          16,
          17,
          18,
          19,
          20,
          21,
          22,
          23,
          24,
          25,
          26,
          27,
          28,
          29,
          30,
          31,
          32,
          33,
          34,
          35,
          36,
          37,
          38,
          39,
          40,
          41,
          42,
          43,
          44,
          45,
          46,
          47,
          48,
          49,
          50,
          51,
          52,
          53,
          54,
          55,
          56,
          57,
          58,
          59,
          60,
          61,
          62,
          63,
          64,
          65,
          66,
          67,
          68,
          69,
          70,
          71,
          72,
          73,
          74,
          75,
          76,
          77,
          78,
          79,
          80,
          81,
          82,
          83,
          84,
          85,
          86,
          87,
          88,
          89,
          90,
          91,
          92,
          93,
          94,
          95,
          96,
          97,
          98,
          99,
          100
         ],
         "y": {
          "bdata": "MtuWZjWrXkC4rvZYs+VTQPb+tDzh2zFAFUnmkFXAJ0CkC/Ps+AwYQKqhGsFC2BRAkV+8sShYAkDyESgPZksAQOqPF8IOj/o/8fAs1QO2+D91mjaL88ryP5Kd2itTX+0/tpX1Gv3H6T/ijgjEtGnjP1KrOnrlmOA/HaImSsf/3j/+MYPSD43aP1bsddKDJNI/wnEqGNya0T9/kDenJp/GP/J5kg9CfMk/MQZk9dO+xj8QCzyPUj7EP+3ZFQUWArs/La/K0WBPuz84DyHFfrezP9MgqgqDmbM/lmW2PJAipj/akE+I3ImFPxrXvmSzVXk/ALShnpzzaT+aWVikqvdcPwAQX4ryklM/AJx4EWy9SD9mDglA6JZIPzNTkbo8FRM/AABvwmAZAD9m5t6hCWn2PpqZWyvDUNk+MzO3Sk4Nxz4zMzPhhfS5PjMzG4vQ+LM+AADgJWwWkz5mZmY2BEV/PpqZmYsOFnk+mpmZFpnTaj6amZl7d49ePpqZmakVm1I+AAAAuKTJST6amZn5EGZJPpqZmbn83C4+AAAAAObJFz4AAAAAvVsQPjMzM/PlRwc+zczMTEju/j0AAACAPCD3Pc3MzEyYmPQ9zczMzM0+7z2amZmZXRHnPQAAAABeNeM9MzMzMw4w4z1mZmZmgCjjPTMzMzPzub09MzMzMzNznD2amZmZGW19Pc3MzMzM23Q9mpmZmZlXbD0zMzMzMx1kPQAAAAAAtFc9mpmZmZlVTT2amZmZmR1CPQAAAAAAoDQ9mpmZmZnZKj0AAAAAABAkPc3MzMzMTBo9ZmZmZmamDz2amZmZmZkFPQAAAAAAgAA9AAAAAAAA9zzNzMzMzMzpPM3MzMzMzOk8ZmZmZmZmwjyamZmZmZm5PGZmZmZmZqY8mpmZmZmZmTyamZmZmZmZPDMzMzMzM5M8mpmZmZmZiTyamZmZmZmJPJqZmZmZmXk8mpmZmZmZeTyamZmZmZl5PAAAAAAAAAAAAAAAAAAAAAAAAAAAAAAAAAAAAAAAAAAAAAAAAAAAAAAAAAAAAAAAAAAAAAAAAAAAAAAAAAAAAAAAAAAAAAAAAA==",
          "dtype": "f8"
         }
        }
       ],
       "layout": {
        "legend": {
         "title": {
          "text": "Algorithm"
         }
        },
        "template": {
         "data": {
          "bar": [
           {
            "error_x": {
             "color": "#2a3f5f"
            },
            "error_y": {
             "color": "#2a3f5f"
            },
            "marker": {
             "line": {
              "color": "white",
              "width": 0.5
             },
             "pattern": {
              "fillmode": "overlay",
              "size": 10,
              "solidity": 0.2
             }
            },
            "type": "bar"
           }
          ],
          "barpolar": [
           {
            "marker": {
             "line": {
              "color": "white",
              "width": 0.5
             },
             "pattern": {
              "fillmode": "overlay",
              "size": 10,
              "solidity": 0.2
             }
            },
            "type": "barpolar"
           }
          ],
          "carpet": [
           {
            "aaxis": {
             "endlinecolor": "#2a3f5f",
             "gridcolor": "#C8D4E3",
             "linecolor": "#C8D4E3",
             "minorgridcolor": "#C8D4E3",
             "startlinecolor": "#2a3f5f"
            },
            "baxis": {
             "endlinecolor": "#2a3f5f",
             "gridcolor": "#C8D4E3",
             "linecolor": "#C8D4E3",
             "minorgridcolor": "#C8D4E3",
             "startlinecolor": "#2a3f5f"
            },
            "type": "carpet"
           }
          ],
          "choropleth": [
           {
            "colorbar": {
             "outlinewidth": 0,
             "ticks": ""
            },
            "type": "choropleth"
           }
          ],
          "contour": [
           {
            "colorbar": {
             "outlinewidth": 0,
             "ticks": ""
            },
            "colorscale": [
             [
              0,
              "#0d0887"
             ],
             [
              0.1111111111111111,
              "#46039f"
             ],
             [
              0.2222222222222222,
              "#7201a8"
             ],
             [
              0.3333333333333333,
              "#9c179e"
             ],
             [
              0.4444444444444444,
              "#bd3786"
             ],
             [
              0.5555555555555556,
              "#d8576b"
             ],
             [
              0.6666666666666666,
              "#ed7953"
             ],
             [
              0.7777777777777778,
              "#fb9f3a"
             ],
             [
              0.8888888888888888,
              "#fdca26"
             ],
             [
              1,
              "#f0f921"
             ]
            ],
            "type": "contour"
           }
          ],
          "contourcarpet": [
           {
            "colorbar": {
             "outlinewidth": 0,
             "ticks": ""
            },
            "type": "contourcarpet"
           }
          ],
          "heatmap": [
           {
            "colorbar": {
             "outlinewidth": 0,
             "ticks": ""
            },
            "colorscale": [
             [
              0,
              "#0d0887"
             ],
             [
              0.1111111111111111,
              "#46039f"
             ],
             [
              0.2222222222222222,
              "#7201a8"
             ],
             [
              0.3333333333333333,
              "#9c179e"
             ],
             [
              0.4444444444444444,
              "#bd3786"
             ],
             [
              0.5555555555555556,
              "#d8576b"
             ],
             [
              0.6666666666666666,
              "#ed7953"
             ],
             [
              0.7777777777777778,
              "#fb9f3a"
             ],
             [
              0.8888888888888888,
              "#fdca26"
             ],
             [
              1,
              "#f0f921"
             ]
            ],
            "type": "heatmap"
           }
          ],
          "histogram": [
           {
            "marker": {
             "pattern": {
              "fillmode": "overlay",
              "size": 10,
              "solidity": 0.2
             }
            },
            "type": "histogram"
           }
          ],
          "histogram2d": [
           {
            "colorbar": {
             "outlinewidth": 0,
             "ticks": ""
            },
            "colorscale": [
             [
              0,
              "#0d0887"
             ],
             [
              0.1111111111111111,
              "#46039f"
             ],
             [
              0.2222222222222222,
              "#7201a8"
             ],
             [
              0.3333333333333333,
              "#9c179e"
             ],
             [
              0.4444444444444444,
              "#bd3786"
             ],
             [
              0.5555555555555556,
              "#d8576b"
             ],
             [
              0.6666666666666666,
              "#ed7953"
             ],
             [
              0.7777777777777778,
              "#fb9f3a"
             ],
             [
              0.8888888888888888,
              "#fdca26"
             ],
             [
              1,
              "#f0f921"
             ]
            ],
            "type": "histogram2d"
           }
          ],
          "histogram2dcontour": [
           {
            "colorbar": {
             "outlinewidth": 0,
             "ticks": ""
            },
            "colorscale": [
             [
              0,
              "#0d0887"
             ],
             [
              0.1111111111111111,
              "#46039f"
             ],
             [
              0.2222222222222222,
              "#7201a8"
             ],
             [
              0.3333333333333333,
              "#9c179e"
             ],
             [
              0.4444444444444444,
              "#bd3786"
             ],
             [
              0.5555555555555556,
              "#d8576b"
             ],
             [
              0.6666666666666666,
              "#ed7953"
             ],
             [
              0.7777777777777778,
              "#fb9f3a"
             ],
             [
              0.8888888888888888,
              "#fdca26"
             ],
             [
              1,
              "#f0f921"
             ]
            ],
            "type": "histogram2dcontour"
           }
          ],
          "mesh3d": [
           {
            "colorbar": {
             "outlinewidth": 0,
             "ticks": ""
            },
            "type": "mesh3d"
           }
          ],
          "parcoords": [
           {
            "line": {
             "colorbar": {
              "outlinewidth": 0,
              "ticks": ""
             }
            },
            "type": "parcoords"
           }
          ],
          "pie": [
           {
            "automargin": true,
            "type": "pie"
           }
          ],
          "scatter": [
           {
            "fillpattern": {
             "fillmode": "overlay",
             "size": 10,
             "solidity": 0.2
            },
            "type": "scatter"
           }
          ],
          "scatter3d": [
           {
            "line": {
             "colorbar": {
              "outlinewidth": 0,
              "ticks": ""
             }
            },
            "marker": {
             "colorbar": {
              "outlinewidth": 0,
              "ticks": ""
             }
            },
            "type": "scatter3d"
           }
          ],
          "scattercarpet": [
           {
            "marker": {
             "colorbar": {
              "outlinewidth": 0,
              "ticks": ""
             }
            },
            "type": "scattercarpet"
           }
          ],
          "scattergeo": [
           {
            "marker": {
             "colorbar": {
              "outlinewidth": 0,
              "ticks": ""
             }
            },
            "type": "scattergeo"
           }
          ],
          "scattergl": [
           {
            "marker": {
             "colorbar": {
              "outlinewidth": 0,
              "ticks": ""
             }
            },
            "type": "scattergl"
           }
          ],
          "scattermap": [
           {
            "marker": {
             "colorbar": {
              "outlinewidth": 0,
              "ticks": ""
             }
            },
            "type": "scattermap"
           }
          ],
          "scattermapbox": [
           {
            "marker": {
             "colorbar": {
              "outlinewidth": 0,
              "ticks": ""
             }
            },
            "type": "scattermapbox"
           }
          ],
          "scatterpolar": [
           {
            "marker": {
             "colorbar": {
              "outlinewidth": 0,
              "ticks": ""
             }
            },
            "type": "scatterpolar"
           }
          ],
          "scatterpolargl": [
           {
            "marker": {
             "colorbar": {
              "outlinewidth": 0,
              "ticks": ""
             }
            },
            "type": "scatterpolargl"
           }
          ],
          "scatterternary": [
           {
            "marker": {
             "colorbar": {
              "outlinewidth": 0,
              "ticks": ""
             }
            },
            "type": "scatterternary"
           }
          ],
          "surface": [
           {
            "colorbar": {
             "outlinewidth": 0,
             "ticks": ""
            },
            "colorscale": [
             [
              0,
              "#0d0887"
             ],
             [
              0.1111111111111111,
              "#46039f"
             ],
             [
              0.2222222222222222,
              "#7201a8"
             ],
             [
              0.3333333333333333,
              "#9c179e"
             ],
             [
              0.4444444444444444,
              "#bd3786"
             ],
             [
              0.5555555555555556,
              "#d8576b"
             ],
             [
              0.6666666666666666,
              "#ed7953"
             ],
             [
              0.7777777777777778,
              "#fb9f3a"
             ],
             [
              0.8888888888888888,
              "#fdca26"
             ],
             [
              1,
              "#f0f921"
             ]
            ],
            "type": "surface"
           }
          ],
          "table": [
           {
            "cells": {
             "fill": {
              "color": "#EBF0F8"
             },
             "line": {
              "color": "white"
             }
            },
            "header": {
             "fill": {
              "color": "#C8D4E3"
             },
             "line": {
              "color": "white"
             }
            },
            "type": "table"
           }
          ]
         },
         "layout": {
          "annotationdefaults": {
           "arrowcolor": "#2a3f5f",
           "arrowhead": 0,
           "arrowwidth": 1
          },
          "autotypenumbers": "strict",
          "coloraxis": {
           "colorbar": {
            "outlinewidth": 0,
            "ticks": ""
           }
          },
          "colorscale": {
           "diverging": [
            [
             0,
             "#8e0152"
            ],
            [
             0.1,
             "#c51b7d"
            ],
            [
             0.2,
             "#de77ae"
            ],
            [
             0.3,
             "#f1b6da"
            ],
            [
             0.4,
             "#fde0ef"
            ],
            [
             0.5,
             "#f7f7f7"
            ],
            [
             0.6,
             "#e6f5d0"
            ],
            [
             0.7,
             "#b8e186"
            ],
            [
             0.8,
             "#7fbc41"
            ],
            [
             0.9,
             "#4d9221"
            ],
            [
             1,
             "#276419"
            ]
           ],
           "sequential": [
            [
             0,
             "#0d0887"
            ],
            [
             0.1111111111111111,
             "#46039f"
            ],
            [
             0.2222222222222222,
             "#7201a8"
            ],
            [
             0.3333333333333333,
             "#9c179e"
            ],
            [
             0.4444444444444444,
             "#bd3786"
            ],
            [
             0.5555555555555556,
             "#d8576b"
            ],
            [
             0.6666666666666666,
             "#ed7953"
            ],
            [
             0.7777777777777778,
             "#fb9f3a"
            ],
            [
             0.8888888888888888,
             "#fdca26"
            ],
            [
             1,
             "#f0f921"
            ]
           ],
           "sequentialminus": [
            [
             0,
             "#0d0887"
            ],
            [
             0.1111111111111111,
             "#46039f"
            ],
            [
             0.2222222222222222,
             "#7201a8"
            ],
            [
             0.3333333333333333,
             "#9c179e"
            ],
            [
             0.4444444444444444,
             "#bd3786"
            ],
            [
             0.5555555555555556,
             "#d8576b"
            ],
            [
             0.6666666666666666,
             "#ed7953"
            ],
            [
             0.7777777777777778,
             "#fb9f3a"
            ],
            [
             0.8888888888888888,
             "#fdca26"
            ],
            [
             1,
             "#f0f921"
            ]
           ]
          },
          "colorway": [
           "#636efa",
           "#EF553B",
           "#00cc96",
           "#ab63fa",
           "#FFA15A",
           "#19d3f3",
           "#FF6692",
           "#B6E880",
           "#FF97FF",
           "#FECB52"
          ],
          "font": {
           "color": "#2a3f5f"
          },
          "geo": {
           "bgcolor": "white",
           "lakecolor": "white",
           "landcolor": "white",
           "showlakes": true,
           "showland": true,
           "subunitcolor": "#C8D4E3"
          },
          "hoverlabel": {
           "align": "left"
          },
          "hovermode": "closest",
          "mapbox": {
           "style": "light"
          },
          "paper_bgcolor": "white",
          "plot_bgcolor": "white",
          "polar": {
           "angularaxis": {
            "gridcolor": "#EBF0F8",
            "linecolor": "#EBF0F8",
            "ticks": ""
           },
           "bgcolor": "white",
           "radialaxis": {
            "gridcolor": "#EBF0F8",
            "linecolor": "#EBF0F8",
            "ticks": ""
           }
          },
          "scene": {
           "xaxis": {
            "backgroundcolor": "white",
            "gridcolor": "#DFE8F3",
            "gridwidth": 2,
            "linecolor": "#EBF0F8",
            "showbackground": true,
            "ticks": "",
            "zerolinecolor": "#EBF0F8"
           },
           "yaxis": {
            "backgroundcolor": "white",
            "gridcolor": "#DFE8F3",
            "gridwidth": 2,
            "linecolor": "#EBF0F8",
            "showbackground": true,
            "ticks": "",
            "zerolinecolor": "#EBF0F8"
           },
           "zaxis": {
            "backgroundcolor": "white",
            "gridcolor": "#DFE8F3",
            "gridwidth": 2,
            "linecolor": "#EBF0F8",
            "showbackground": true,
            "ticks": "",
            "zerolinecolor": "#EBF0F8"
           }
          },
          "shapedefaults": {
           "line": {
            "color": "#2a3f5f"
           }
          },
          "ternary": {
           "aaxis": {
            "gridcolor": "#DFE8F3",
            "linecolor": "#A2B1C6",
            "ticks": ""
           },
           "baxis": {
            "gridcolor": "#DFE8F3",
            "linecolor": "#A2B1C6",
            "ticks": ""
           },
           "bgcolor": "white",
           "caxis": {
            "gridcolor": "#DFE8F3",
            "linecolor": "#A2B1C6",
            "ticks": ""
           }
          },
          "title": {
           "x": 0.05
          },
          "xaxis": {
           "automargin": true,
           "gridcolor": "#EBF0F8",
           "linecolor": "#EBF0F8",
           "ticks": "",
           "title": {
            "standoff": 15
           },
           "zerolinecolor": "#EBF0F8",
           "zerolinewidth": 2
          },
          "yaxis": {
           "automargin": true,
           "gridcolor": "#EBF0F8",
           "linecolor": "#EBF0F8",
           "ticks": "",
           "title": {
            "standoff": 15
           },
           "zerolinecolor": "#EBF0F8",
           "zerolinewidth": 2
          }
         }
        },
        "title": {
         "text": "<b>Average Convergence Plot for Griewank</b>"
        },
        "xaxis": {
         "title": {
          "text": "Generation"
         }
        },
        "yaxis": {
         "title": {
          "text": "Average Best Fitness (Lower is Better)"
         }
        }
       }
      }
     },
     "metadata": {},
     "output_type": "display_data"
    },
    {
     "data": {
      "application/vnd.plotly.v1+json": {
       "config": {
        "plotlyServerURL": "https://plot.ly"
       },
       "data": [
        {
         "mode": "lines",
         "name": "GA",
         "type": "scatter",
         "x": [
          0,
          1,
          2,
          3,
          4,
          5,
          6,
          7,
          8,
          9,
          10,
          11,
          12,
          13,
          14,
          15,
          16,
          17,
          18,
          19,
          20,
          21,
          22,
          23,
          24,
          25,
          26,
          27,
          28,
          29,
          30,
          31,
          32,
          33,
          34,
          35,
          36,
          37,
          38,
          39,
          40,
          41,
          42,
          43,
          44,
          45,
          46,
          47,
          48,
          49,
          50,
          51,
          52,
          53,
          54,
          55,
          56,
          57,
          58,
          59,
          60,
          61,
          62,
          63,
          64,
          65,
          66,
          67,
          68,
          69,
          70,
          71,
          72,
          73,
          74,
          75,
          76,
          77,
          78,
          79,
          80,
          81,
          82,
          83,
          84,
          85,
          86,
          87,
          88,
          89,
          90,
          91,
          92,
          93,
          94,
          95,
          96,
          97,
          98,
          99,
          100
         ],
         "y": {
          "bdata": "6Gf9CL8j/L+CrsxlNi0BwDlF8rX3QgDAvYJJ0lL7AcDBPrX022ECwAJXIbfLvAHAgu15/Hg7AsCoHi38OGkDwOtxGF19XwbAcg/y7QM3BMDOZxKEm0YFwMXm5oZY0gXANg07pF//CMBYVMLskT4KwB1Lz2IAswrAIFDa3tZ0DMA9ui2UiC8OwP3c8uACZwzAsMY2+zK7DcD1b3OVzEMNwLJMe7+4Iw/A4ro+++sZEMCpKGqVARQQwL0cBqYwhhHAg23wqRTOEcC1ZgM6JCcSwKvGpsCdUBLArt4gLxemEsATWLtV15cTwFybVAc4PxTAOsoVaQ0yFMDawsGobm0UwPItWViewhTAYOYHdHOcFMCGFwc9a6wVwHLxbg3w6RXAzrQusZyGFsDu3j/5PbIWwH+txUUhuhbATHKjWuOyF8DKnE4OwUYXwGjFo5cChxjA946XR/4jGMCdlbEW6kUZwEdbrUbgJRnANUvkKOYPGcDF/ZE4Y/4ZwEAmDzGBLhrAo6KSAlYWGsCzEB/jOjAawMMG151CjhrALSR6Za+yGsDGLiA3zOsawDgjvCJaOhvAyotUPDc9G8Aa/1LypBQcwBj41n9wwhzART68wpPvHMDD1UNo9iwdwPDHaSYKGh3A1k3EJ54cHcA9Wi5F9mIdwKDI1ioYiR3AhRLi9rCdHcA6w9AVQw0ewEOPuh8sOB7ANluDIRDDHsDgsNKWn/oewBgRMvddWR/A0iRKd/VfH8B9/MsB720fwFMWlEIlRB/AwPAM3EuAH8A18ZO6dQggwH4xsqZxCCDA0GeNNpMLIMA6KZlo9c0fwDo0OSKt7R/AomBh1AgPIMBCS8QfaA0gwL4llGAJHyDA7uCUSDdaIMBeZ550a3QgwInhmmbYbiDAgUWwjh1AIMA47xlL1l4gwD6kuBcDZyDATqWoIjORIMA19PmTabkgwOC57V60siDA7E0gFjTCIMB2LdaLhMMgwEJ7RkblwyDAjVFLMQXMIMDKtHj6acsgwFU7eS4hyCDAfOJCuLrLIMB3/gEbatIgwH4v9Jri0yDAFhmjpHnVIMCeOcB4mNcgwA==",
          "dtype": "f8"
         }
        },
        {
         "mode": "lines",
         "name": "PPS-GA",
         "type": "scatter",
         "x": [
          0,
          1,
          2,
          3,
          4,
          5,
          6,
          7,
          8,
          9,
          10,
          11,
          12,
          13,
          14,
          15,
          16,
          17,
          18,
          19,
          20,
          21,
          22,
          23,
          24,
          25,
          26,
          27,
          28,
          29,
          30,
          31,
          32,
          33,
          34,
          35,
          36,
          37,
          38,
          39,
          40,
          41,
          42,
          43,
          44,
          45,
          46,
          47,
          48,
          49,
          50,
          51,
          52,
          53,
          54,
          55,
          56,
          57,
          58,
          59,
          60,
          61,
          62,
          63,
          64,
          65,
          66,
          67,
          68,
          69,
          70,
          71,
          72,
          73,
          74,
          75,
          76,
          77,
          78,
          79,
          80,
          81,
          82,
          83,
          84,
          85,
          86,
          87,
          88,
          89,
          90,
          91,
          92,
          93,
          94,
          95,
          96,
          97,
          98,
          99,
          100
         ],
         "y": {
          "bdata": "9jPvPQzoB8BtHgQ/AJEJwOid1veB1grASg9t8WiaDcDwuEb6HdwOwFWry0XMfQ/AyoZX6lJGEcBTaz02o4QRwG0NxS0PrhHA+0sQCwqZEsB9TaqQ4M0TwDwqFK7TnRTAQCoUrtOdFMB9YMSFX/8UwP3B3exxmhXA/mO7nEPTF8BSHcVyHucXwIMW41erHBjABRI5iipZGcBNdcoZ19MZwHNylEARaRrAXa+u49OrGsAo5KWMht0awKCoFRqePRvAsyIqi9leG8AVfxcSEbMbwBV/FxIRsxvAao4d0ZDfG8AdJaYWNuUbwCp8ZzhN1xzAzex+zMfkHMCwG/DCfuscwH5SQsDDJh3AOP7hgP0tHcDCQxkHyVAdwBbA/8qBVx3Aeqj2aXNjHcDWdElwmukdwECBYfBv+B3AHqXS23gBHsAtEoMICNYdwJgO8osqAB7ALqXBFbcTHsDWOxXc/EIewIotsqzA/R7AS9BoYU3WHsAtL/hqYdYewIurWtByDR/Ai16lAF4OH8Bm7u94cFwfwBqqfVA+lR/A2ITmMqcYIMDyIB9gpBogwGTfzQB2IiDAoRVhUngkIMAAl69bwSUgwAXBIqGaQSDAMFJGydlCIMAxUkbJ2UIgwFR4UOv/QiDAODHqDDxDIMCdVnQN4kMgwCuh7SZLRCDAzyatkb1EIMDy8fU91UQgwLrDeZjzRCDAwKvA9PdEIMBpzwRYLkUgwBm0pYJPRSDAMuwj1AJdIMDhVLEWb0YgwOIY0VJFWCDAtlL2tEdYIMC7uhRPTlggwLKY65O2WCDAWBGvlhhgIMANiq8h1nUgwGU/xPGVdyDAdJKkqB9iIMCSnW28ZGIgwBF/sZ6MeiDADovJzYx6IMAKGz2rrHogwMccHSb/eiDAUi6pJQB7IMBq7cDQAXsgwMlrLWqOiCDA1v+kz/KHIMDmghDjFoggwElA8PQZiCDAQ6csnBqIIMBDyKyzLIggwHtdwOsyiCDA+6Wb7DKIIMD8pZvsMoggwB7G1+Y0iCDARGnURTqIIMBwRSDKQoggwD1X/WxFiCDAkpUKNoi3IMC3th42iLcgwA==",
          "dtype": "f8"
         }
        },
        {
         "mode": "lines",
         "name": "RLCGWO",
         "type": "scatter",
         "x": [
          0,
          1,
          2,
          3,
          4,
          5,
          6,
          7,
          8,
          9,
          10,
          11,
          12,
          13,
          14,
          15,
          16,
          17,
          18,
          19,
          20,
          21,
          22,
          23,
          24,
          25,
          26,
          27,
          28,
          29,
          30,
          31,
          32,
          33,
          34,
          35,
          36,
          37,
          38,
          39,
          40,
          41,
          42,
          43,
          44,
          45,
          46,
          47,
          48,
          49,
          50,
          51,
          52,
          53,
          54,
          55,
          56,
          57,
          58,
          59,
          60,
          61,
          62,
          63,
          64,
          65,
          66,
          67,
          68,
          69,
          70,
          71,
          72,
          73,
          74,
          75,
          76,
          77,
          78,
          79,
          80,
          81,
          82,
          83,
          84,
          85,
          86,
          87,
          88,
          89,
          90,
          91,
          92,
          93,
          94,
          95,
          96,
          97,
          98,
          99,
          100
         ],
         "y": {
          "bdata": "ABWppTjuB8DbQYlwB5UMwGOwhZiw9A3A6jpV4fOkDcAmBHdoZXcMwMKR+8AjEg3Aqjvuhn1xDsBjMSm7iQoNwGX6Y/otCQ3At8QutgQSEMDzrwPJs5cOwGapjeNXXwzAnV0Gq3ylCsDOQweT0SIIwKPXUjZNlwrAprvxALbrCsBTlaZjKEQLwA5VvPIGwwfAY7asFXw0D8DYKwj7sikLwJbyALoXrQvA2E7HTxE9CcBK7souXp4NwAZ4Mr4PnQnAJRc5DkePCsBDL8nnX7cJwAghbQETsAnAFfsMSjQNC8Bt10QtC1kLwPCbmH2NLwvAJoQA1HAwC8AffWNrl1gHwGVA+ewIHwjAMDrGrKUTB8DkCKMcQggIwAPVlI1gowvAazG/brgRCsDtkFJKgtMIwDD25Mf2XwnAWBjcMPbBCcDaFmCMxpcJwNPayPMmSgrAQ5WtAsaLCcAm3C9BiRwMwH4PauRmIQ7ABKfDRE6rB8C7qffW08UNwLvwLqkHvQ3AsFZDZ2jDCsC7JIW9z0UJwFO3eqaZIg3A62w/HKgMCsBNH6h7A6wLwE1iEEc9CwrAqm0j8L2QB8CKTd1Xi6oIwGD1269ToQbA0Jh0UjSWC8C6zX6yFKwKwOUZPA1ywgnAijlHl+uaCcAGS0SV718JwNmJaTqH5gbAhvQqlfzoCcDyubWJCL8JwPztKFH1SAnAstQsXKAXCcCAVQrvYogGwLB5+S4epQvAWLPUpzC3DMDm6hxJvLgIwDIEZCM65QbAtjr5VfZOCMBO4MC2m18JwHN7FO5CNgvAa41xk3RuCsA1AIIsw2kJwLYnNUKy7ArAUm6uogeICMAJiOIffewFwDAbDn/H5gfAGi4w259HCcD63Uv/yOYHwMUZ3vUrtwrAMXBAdGnHCMBjhLINVG0GwC2hzn5ofgfAnE3xDF2PBMDTXG0Gp9AGwE4Lh5s05gbAtVm+i3GFB8DoGxe7VYAIwJ2jyOoo8wbA6P5RNDzyB8ALoVHUjDUIwGjsErNHeAjAqgpgugcVCsCullAhI04IwLPhtCYXbAXA5ESAJY4HCMAirKhyhB0IwA==",
          "dtype": "f8"
         }
        },
        {
         "mode": "lines",
         "name": "EnhancedRLGWO",
         "type": "scatter",
         "x": [
          0,
          1,
          2,
          3,
          4,
          5,
          6,
          7,
          8,
          9,
          10,
          11,
          12,
          13,
          14,
          15,
          16,
          17,
          18,
          19,
          20,
          21,
          22,
          23,
          24,
          25,
          26,
          27,
          28,
          29,
          30,
          31,
          32,
          33,
          34,
          35,
          36,
          37,
          38,
          39,
          40,
          41,
          42,
          43,
          44,
          45,
          46,
          47,
          48,
          49,
          50,
          51,
          52,
          53,
          54,
          55,
          56,
          57,
          58,
          59,
          60,
          61,
          62,
          63,
          64,
          65,
          66,
          67,
          68,
          69,
          70,
          71,
          72,
          73,
          74,
          75,
          76,
          77,
          78,
          79,
          80,
          81,
          82,
          83,
          84,
          85,
          86,
          87,
          88,
          89,
          90,
          91,
          92,
          93,
          94,
          95,
          96,
          97,
          98,
          99,
          100
         ],
         "y": {
          "bdata": "znOwLWNIBsDgSBWCI3UOwIEcAjuNbRDAi1isJFumEMC57yRz/DkRwEMBiALyfQ7Ac0gVPn9CEMDFh/wtZvQOwPqCZC7fshHAjW6tRcSbDMBoH16CO0sRwCbnizDkWRLAtvmIYj5nEMAGZICAS/IQwOabaNT0Cg7AfhcRFmk6C8DuIO16cMcQwO4nheEFLhDA9j/KeUlrEMCAmWtTIVwRwMiaUKLyUxHAm2ttiMHJD8C+38LjZBERwIgL8CdYqBDAS0H9vLxKDcD0vc3DoIkQwK9zSi0cJxDAjErjKHHZEMD/lPfuff8QwHojU2BMChDAsCcQSPFEEcCuO4ybQoQPwK16or9aTxDAo/3H5PMBEsAdd5R89C0QwEs5yvLg5w7AgPcEubuZD8BNCuo8qZ0NwGIg6m19ZRDABRVgWbp4D8Dpsv7yyiMQwK+ve1Z3XxDABwrJEZt3EcC6BPDp+zcTwND/gZe6qBDAJYN6xTxvEsBjE4GxVckOwBCS3fIpCBDAFvUM8t0mDsAurj4ggWQOwPh81nEk/Q/AjnqiILwID8B4+Fri5BMOwJCqgM7Zyw3ADRTY9AokD8A6FqtqxgsNwC080y9Arw3AZlW6OrqKEMDykxx9c5QNwOzQonnYLxDAWsTWxZWfDsCIyORbwysQwDqIyaDnDw/AJpSRJU8OEcBO3T9Kf6APwGVqk05QPxHADpz9R9BdEMAdQYu7JTQOwIWN1x9BbBDAdug2NHg3EcAEXy6sbUARwFjlXKjCaBDAZuDHd24gDsAIGBdP1+8PwCCiEhJsbBDAkMUtejVNEMAysoRR0oQNwF227uQp6Q7AmnKbwT6hD8CgPE4Rs7gOwOYtz73w7BDAY5OmyOJsEcBNGmn86w0PwGZnu9Roig7Aa6nadMwdD8DTw2WnOisNwDh96qXP2g3ABtqDZQtTD8CGcyukq2QRwAaMqO4ZsBLAkkQCRAwcEcBcKarCM1wSwAM/WHZ/6hHAlr4BiB0kEsARi6s41YcQwNtU0QP4Ig/AOOsbkIktEcDwJb6KXW8QwLLyelrNDBHAI8d19OF3EMAKeZDSw3MTwA==",
          "dtype": "f8"
         }
        }
       ],
       "layout": {
        "legend": {
         "title": {
          "text": "Algorithm"
         }
        },
        "template": {
         "data": {
          "bar": [
           {
            "error_x": {
             "color": "#2a3f5f"
            },
            "error_y": {
             "color": "#2a3f5f"
            },
            "marker": {
             "line": {
              "color": "white",
              "width": 0.5
             },
             "pattern": {
              "fillmode": "overlay",
              "size": 10,
              "solidity": 0.2
             }
            },
            "type": "bar"
           }
          ],
          "barpolar": [
           {
            "marker": {
             "line": {
              "color": "white",
              "width": 0.5
             },
             "pattern": {
              "fillmode": "overlay",
              "size": 10,
              "solidity": 0.2
             }
            },
            "type": "barpolar"
           }
          ],
          "carpet": [
           {
            "aaxis": {
             "endlinecolor": "#2a3f5f",
             "gridcolor": "#C8D4E3",
             "linecolor": "#C8D4E3",
             "minorgridcolor": "#C8D4E3",
             "startlinecolor": "#2a3f5f"
            },
            "baxis": {
             "endlinecolor": "#2a3f5f",
             "gridcolor": "#C8D4E3",
             "linecolor": "#C8D4E3",
             "minorgridcolor": "#C8D4E3",
             "startlinecolor": "#2a3f5f"
            },
            "type": "carpet"
           }
          ],
          "choropleth": [
           {
            "colorbar": {
             "outlinewidth": 0,
             "ticks": ""
            },
            "type": "choropleth"
           }
          ],
          "contour": [
           {
            "colorbar": {
             "outlinewidth": 0,
             "ticks": ""
            },
            "colorscale": [
             [
              0,
              "#0d0887"
             ],
             [
              0.1111111111111111,
              "#46039f"
             ],
             [
              0.2222222222222222,
              "#7201a8"
             ],
             [
              0.3333333333333333,
              "#9c179e"
             ],
             [
              0.4444444444444444,
              "#bd3786"
             ],
             [
              0.5555555555555556,
              "#d8576b"
             ],
             [
              0.6666666666666666,
              "#ed7953"
             ],
             [
              0.7777777777777778,
              "#fb9f3a"
             ],
             [
              0.8888888888888888,
              "#fdca26"
             ],
             [
              1,
              "#f0f921"
             ]
            ],
            "type": "contour"
           }
          ],
          "contourcarpet": [
           {
            "colorbar": {
             "outlinewidth": 0,
             "ticks": ""
            },
            "type": "contourcarpet"
           }
          ],
          "heatmap": [
           {
            "colorbar": {
             "outlinewidth": 0,
             "ticks": ""
            },
            "colorscale": [
             [
              0,
              "#0d0887"
             ],
             [
              0.1111111111111111,
              "#46039f"
             ],
             [
              0.2222222222222222,
              "#7201a8"
             ],
             [
              0.3333333333333333,
              "#9c179e"
             ],
             [
              0.4444444444444444,
              "#bd3786"
             ],
             [
              0.5555555555555556,
              "#d8576b"
             ],
             [
              0.6666666666666666,
              "#ed7953"
             ],
             [
              0.7777777777777778,
              "#fb9f3a"
             ],
             [
              0.8888888888888888,
              "#fdca26"
             ],
             [
              1,
              "#f0f921"
             ]
            ],
            "type": "heatmap"
           }
          ],
          "histogram": [
           {
            "marker": {
             "pattern": {
              "fillmode": "overlay",
              "size": 10,
              "solidity": 0.2
             }
            },
            "type": "histogram"
           }
          ],
          "histogram2d": [
           {
            "colorbar": {
             "outlinewidth": 0,
             "ticks": ""
            },
            "colorscale": [
             [
              0,
              "#0d0887"
             ],
             [
              0.1111111111111111,
              "#46039f"
             ],
             [
              0.2222222222222222,
              "#7201a8"
             ],
             [
              0.3333333333333333,
              "#9c179e"
             ],
             [
              0.4444444444444444,
              "#bd3786"
             ],
             [
              0.5555555555555556,
              "#d8576b"
             ],
             [
              0.6666666666666666,
              "#ed7953"
             ],
             [
              0.7777777777777778,
              "#fb9f3a"
             ],
             [
              0.8888888888888888,
              "#fdca26"
             ],
             [
              1,
              "#f0f921"
             ]
            ],
            "type": "histogram2d"
           }
          ],
          "histogram2dcontour": [
           {
            "colorbar": {
             "outlinewidth": 0,
             "ticks": ""
            },
            "colorscale": [
             [
              0,
              "#0d0887"
             ],
             [
              0.1111111111111111,
              "#46039f"
             ],
             [
              0.2222222222222222,
              "#7201a8"
             ],
             [
              0.3333333333333333,
              "#9c179e"
             ],
             [
              0.4444444444444444,
              "#bd3786"
             ],
             [
              0.5555555555555556,
              "#d8576b"
             ],
             [
              0.6666666666666666,
              "#ed7953"
             ],
             [
              0.7777777777777778,
              "#fb9f3a"
             ],
             [
              0.8888888888888888,
              "#fdca26"
             ],
             [
              1,
              "#f0f921"
             ]
            ],
            "type": "histogram2dcontour"
           }
          ],
          "mesh3d": [
           {
            "colorbar": {
             "outlinewidth": 0,
             "ticks": ""
            },
            "type": "mesh3d"
           }
          ],
          "parcoords": [
           {
            "line": {
             "colorbar": {
              "outlinewidth": 0,
              "ticks": ""
             }
            },
            "type": "parcoords"
           }
          ],
          "pie": [
           {
            "automargin": true,
            "type": "pie"
           }
          ],
          "scatter": [
           {
            "fillpattern": {
             "fillmode": "overlay",
             "size": 10,
             "solidity": 0.2
            },
            "type": "scatter"
           }
          ],
          "scatter3d": [
           {
            "line": {
             "colorbar": {
              "outlinewidth": 0,
              "ticks": ""
             }
            },
            "marker": {
             "colorbar": {
              "outlinewidth": 0,
              "ticks": ""
             }
            },
            "type": "scatter3d"
           }
          ],
          "scattercarpet": [
           {
            "marker": {
             "colorbar": {
              "outlinewidth": 0,
              "ticks": ""
             }
            },
            "type": "scattercarpet"
           }
          ],
          "scattergeo": [
           {
            "marker": {
             "colorbar": {
              "outlinewidth": 0,
              "ticks": ""
             }
            },
            "type": "scattergeo"
           }
          ],
          "scattergl": [
           {
            "marker": {
             "colorbar": {
              "outlinewidth": 0,
              "ticks": ""
             }
            },
            "type": "scattergl"
           }
          ],
          "scattermap": [
           {
            "marker": {
             "colorbar": {
              "outlinewidth": 0,
              "ticks": ""
             }
            },
            "type": "scattermap"
           }
          ],
          "scattermapbox": [
           {
            "marker": {
             "colorbar": {
              "outlinewidth": 0,
              "ticks": ""
             }
            },
            "type": "scattermapbox"
           }
          ],
          "scatterpolar": [
           {
            "marker": {
             "colorbar": {
              "outlinewidth": 0,
              "ticks": ""
             }
            },
            "type": "scatterpolar"
           }
          ],
          "scatterpolargl": [
           {
            "marker": {
             "colorbar": {
              "outlinewidth": 0,
              "ticks": ""
             }
            },
            "type": "scatterpolargl"
           }
          ],
          "scatterternary": [
           {
            "marker": {
             "colorbar": {
              "outlinewidth": 0,
              "ticks": ""
             }
            },
            "type": "scatterternary"
           }
          ],
          "surface": [
           {
            "colorbar": {
             "outlinewidth": 0,
             "ticks": ""
            },
            "colorscale": [
             [
              0,
              "#0d0887"
             ],
             [
              0.1111111111111111,
              "#46039f"
             ],
             [
              0.2222222222222222,
              "#7201a8"
             ],
             [
              0.3333333333333333,
              "#9c179e"
             ],
             [
              0.4444444444444444,
              "#bd3786"
             ],
             [
              0.5555555555555556,
              "#d8576b"
             ],
             [
              0.6666666666666666,
              "#ed7953"
             ],
             [
              0.7777777777777778,
              "#fb9f3a"
             ],
             [
              0.8888888888888888,
              "#fdca26"
             ],
             [
              1,
              "#f0f921"
             ]
            ],
            "type": "surface"
           }
          ],
          "table": [
           {
            "cells": {
             "fill": {
              "color": "#EBF0F8"
             },
             "line": {
              "color": "white"
             }
            },
            "header": {
             "fill": {
              "color": "#C8D4E3"
             },
             "line": {
              "color": "white"
             }
            },
            "type": "table"
           }
          ]
         },
         "layout": {
          "annotationdefaults": {
           "arrowcolor": "#2a3f5f",
           "arrowhead": 0,
           "arrowwidth": 1
          },
          "autotypenumbers": "strict",
          "coloraxis": {
           "colorbar": {
            "outlinewidth": 0,
            "ticks": ""
           }
          },
          "colorscale": {
           "diverging": [
            [
             0,
             "#8e0152"
            ],
            [
             0.1,
             "#c51b7d"
            ],
            [
             0.2,
             "#de77ae"
            ],
            [
             0.3,
             "#f1b6da"
            ],
            [
             0.4,
             "#fde0ef"
            ],
            [
             0.5,
             "#f7f7f7"
            ],
            [
             0.6,
             "#e6f5d0"
            ],
            [
             0.7,
             "#b8e186"
            ],
            [
             0.8,
             "#7fbc41"
            ],
            [
             0.9,
             "#4d9221"
            ],
            [
             1,
             "#276419"
            ]
           ],
           "sequential": [
            [
             0,
             "#0d0887"
            ],
            [
             0.1111111111111111,
             "#46039f"
            ],
            [
             0.2222222222222222,
             "#7201a8"
            ],
            [
             0.3333333333333333,
             "#9c179e"
            ],
            [
             0.4444444444444444,
             "#bd3786"
            ],
            [
             0.5555555555555556,
             "#d8576b"
            ],
            [
             0.6666666666666666,
             "#ed7953"
            ],
            [
             0.7777777777777778,
             "#fb9f3a"
            ],
            [
             0.8888888888888888,
             "#fdca26"
            ],
            [
             1,
             "#f0f921"
            ]
           ],
           "sequentialminus": [
            [
             0,
             "#0d0887"
            ],
            [
             0.1111111111111111,
             "#46039f"
            ],
            [
             0.2222222222222222,
             "#7201a8"
            ],
            [
             0.3333333333333333,
             "#9c179e"
            ],
            [
             0.4444444444444444,
             "#bd3786"
            ],
            [
             0.5555555555555556,
             "#d8576b"
            ],
            [
             0.6666666666666666,
             "#ed7953"
            ],
            [
             0.7777777777777778,
             "#fb9f3a"
            ],
            [
             0.8888888888888888,
             "#fdca26"
            ],
            [
             1,
             "#f0f921"
            ]
           ]
          },
          "colorway": [
           "#636efa",
           "#EF553B",
           "#00cc96",
           "#ab63fa",
           "#FFA15A",
           "#19d3f3",
           "#FF6692",
           "#B6E880",
           "#FF97FF",
           "#FECB52"
          ],
          "font": {
           "color": "#2a3f5f"
          },
          "geo": {
           "bgcolor": "white",
           "lakecolor": "white",
           "landcolor": "white",
           "showlakes": true,
           "showland": true,
           "subunitcolor": "#C8D4E3"
          },
          "hoverlabel": {
           "align": "left"
          },
          "hovermode": "closest",
          "mapbox": {
           "style": "light"
          },
          "paper_bgcolor": "white",
          "plot_bgcolor": "white",
          "polar": {
           "angularaxis": {
            "gridcolor": "#EBF0F8",
            "linecolor": "#EBF0F8",
            "ticks": ""
           },
           "bgcolor": "white",
           "radialaxis": {
            "gridcolor": "#EBF0F8",
            "linecolor": "#EBF0F8",
            "ticks": ""
           }
          },
          "scene": {
           "xaxis": {
            "backgroundcolor": "white",
            "gridcolor": "#DFE8F3",
            "gridwidth": 2,
            "linecolor": "#EBF0F8",
            "showbackground": true,
            "ticks": "",
            "zerolinecolor": "#EBF0F8"
           },
           "yaxis": {
            "backgroundcolor": "white",
            "gridcolor": "#DFE8F3",
            "gridwidth": 2,
            "linecolor": "#EBF0F8",
            "showbackground": true,
            "ticks": "",
            "zerolinecolor": "#EBF0F8"
           },
           "zaxis": {
            "backgroundcolor": "white",
            "gridcolor": "#DFE8F3",
            "gridwidth": 2,
            "linecolor": "#EBF0F8",
            "showbackground": true,
            "ticks": "",
            "zerolinecolor": "#EBF0F8"
           }
          },
          "shapedefaults": {
           "line": {
            "color": "#2a3f5f"
           }
          },
          "ternary": {
           "aaxis": {
            "gridcolor": "#DFE8F3",
            "linecolor": "#A2B1C6",
            "ticks": ""
           },
           "baxis": {
            "gridcolor": "#DFE8F3",
            "linecolor": "#A2B1C6",
            "ticks": ""
           },
           "bgcolor": "white",
           "caxis": {
            "gridcolor": "#DFE8F3",
            "linecolor": "#A2B1C6",
            "ticks": ""
           }
          },
          "title": {
           "x": 0.05
          },
          "xaxis": {
           "automargin": true,
           "gridcolor": "#EBF0F8",
           "linecolor": "#EBF0F8",
           "ticks": "",
           "title": {
            "standoff": 15
           },
           "zerolinecolor": "#EBF0F8",
           "zerolinewidth": 2
          },
          "yaxis": {
           "automargin": true,
           "gridcolor": "#EBF0F8",
           "linecolor": "#EBF0F8",
           "ticks": "",
           "title": {
            "standoff": 15
           },
           "zerolinecolor": "#EBF0F8",
           "zerolinewidth": 2
          }
         }
        },
        "title": {
         "text": "<b>Average Convergence Plot for Michalewicz</b>"
        },
        "xaxis": {
         "title": {
          "text": "Generation"
         }
        },
        "yaxis": {
         "title": {
          "text": "Average Best Fitness (Lower is Better)"
         }
        }
       }
      }
     },
     "metadata": {},
     "output_type": "display_data"
    },
    {
     "name": "stdout",
     "output_type": "stream",
     "text": [
      "\n",
      "--- Results DataFrame ---\n",
      "      Function  GA Mean Fitness  GA Std Fitness  GA Mean Time (s)  \\\n",
      "0       Sphere        2.321e-03       2.510e-03         4.003e-02   \n",
      "1    Rastrigin        9.200e+00       2.814e+00         5.594e-02   \n",
      "2   Rosenbrock        5.120e+01       2.478e+01         4.417e-02   \n",
      "3       Ackley        2.131e-02       1.320e-02         7.476e-02   \n",
      "4     Griewank        3.650e-02       3.512e-02         7.989e-02   \n",
      "5  Michalewicz       -8.454e+00       5.524e-01         6.613e-02   \n",
      "\n",
      "   PPS-GA Mean Fitness  PPS-GA Std Fitness  PPS-GA Mean Time (s)  \\\n",
      "0            1.491e-02           1.321e-02             6.966e-02   \n",
      "1            1.043e+01           2.967e+00             1.014e-01   \n",
      "2            8.359e+01           9.978e+01             1.032e-01   \n",
      "3            7.828e-02           4.642e-02             8.914e-02   \n",
      "4            1.965e+00           2.710e+00             1.466e-01   \n",
      "5           -8.360e+00           4.226e-01             1.179e-01   \n",
      "\n",
      "   RLCGWO Mean Fitness  RLCGWO Std Fitness  RLCGWO Mean Time (s)  \\\n",
      "0            2.778e-10           4.485e-10             2.584e-01   \n",
      "1            2.812e+00           4.341e+00             2.933e-01   \n",
      "2            7.511e+00           3.868e-01             3.315e-01   \n",
      "3            6.554e-07           7.405e-07             3.173e-01   \n",
      "4            8.396e-02           8.037e-02             4.718e-01   \n",
      "5           -3.014e+00           5.575e-01             3.757e-01   \n",
      "\n",
      "   EnhancedRLGWO Mean Fitness  EnhancedRLGWO Std Fitness  \\\n",
      "0                   4.657e-30                  9.255e-30   \n",
      "1                   0.000e+00                  0.000e+00   \n",
      "2                   8.119e+00                  4.029e-01   \n",
      "3                   1.608e-14                  1.396e-14   \n",
      "4                   0.000e+00                  0.000e+00   \n",
      "5                  -4.863e+00                  1.421e+00   \n",
      "\n",
      "   EnhancedRLGWO Mean Time (s)  DE Mean Fitness  DE Std Fitness  \\\n",
      "0                    2.461e-01        6.688e+00       2.896e+00   \n",
      "1                    2.591e-01        6.559e+01       7.316e+00   \n",
      "2                    2.892e-01        3.874e+03       3.092e+03   \n",
      "3                    2.618e-01        1.458e+01       1.150e+00   \n",
      "4                    3.587e-01        2.717e+01       5.093e+00   \n",
      "5                    3.361e-01       -4.777e+00       5.631e-01   \n",
      "\n",
      "   DE Mean Time (s)  PSO Mean Fitness  PSO Std Fitness  PSO Mean Time (s)  \n",
      "0         1.403e-02         2.434e-02        2.296e-02          4.039e-02  \n",
      "1         1.725e-02         1.630e+01        7.014e+00          6.785e-02  \n",
      "2         1.583e-02         6.848e+01        3.304e+01          6.501e-02  \n",
      "3         1.883e-02         4.972e+00        2.070e+00          8.782e-02  \n",
      "4         4.130e-02         2.316e-01        1.081e-01          1.000e-01  \n",
      "5         2.069e-02        -7.584e+00        1.102e+00          8.399e-02  \n"
     ]
    },
    {
     "data": {
      "application/vnd.plotly.v1+json": {
       "config": {
        "plotlyServerURL": "https://plot.ly"
       },
       "data": [
        {
         "error_y": {
          "array": {
           "bdata": "KXN5EQuPZD8sUtzrS4MGQMLurUWKyDhAK3faPk8Jiz/Ol88YrfuhP35kpzx9reE/",
           "dtype": "f8"
          },
          "type": "data"
         },
         "name": "GA",
         "type": "bar",
         "x": [
          "Sphere",
          "Rastrigin",
          "Rosenbrock",
          "Ackley",
          "Griewank",
          "Michalewicz"
         ],
         "y": {
          "bdata": "8oovk68DYz9SuakMPmYiQF0LzGcBmUlAgFz/dxXSlT8QAUxDS7CiP88tD1WK6CDA",
          "dtype": "f8"
         }
        },
        {
         "error_y": {
          "array": {
           "bdata": "mKBbB24Piz977uT6XbwHQGHdeFUP8lhAfFB5S73Dpz8JfwV3k64FQLoqvX5CDNs/",
           "dtype": "f8"
          },
          "type": "data"
         },
         "name": "PPS-GA",
         "type": "bar",
         "x": [
          "Sphere",
          "Rastrigin",
          "Rosenbrock",
          "Ackley",
          "Griewank",
          "Michalewicz"
         ],
         "y": {
          "bdata": "5tMmCc+Hjj/CiJsrTtwkQECw6i7u5VRAhjOyVdkJtD8uoBLzVXL/P5yhgqo4uCDA",
          "dtype": "f8"
         }
        },
        {
         "error_y": {
          "array": {
           "bdata": "K4oVGJfS/j3LrcnGml0RQKvdmz3Wwdg/tlxXgrLYqD6vMKW5a5O0P3pNzsm01uE/",
           "dtype": "f8"
          },
          "type": "data"
         },
         "name": "RLCGWO",
         "type": "bar",
         "x": [
          "Sphere",
          "Rastrigin",
          "Rosenbrock",
          "Ackley",
          "Griewank",
          "Michalewicz"
         ],
         "y": {
          "bdata": "xs+84IUX8z3mzKr4On4GQIp1/8gcCx5AzcwMN//9pT6a8wush361PyKsqHKEHQjA",
          "dtype": "f8"
         }
        },
        {
         "error_y": {
          "array": {
           "bdata": "7RMGVrp25zkAAAAAAAAAABdC7raWydk/JurF91xvDz0AAAAAAAAAAEHIUidKvvY/",
           "dtype": "f8"
          },
          "type": "data"
         },
         "name": "EnhancedRLGWO",
         "type": "bar",
         "x": [
          "Sphere",
          "Rastrigin",
          "Rosenbrock",
          "Ackley",
          "Griewank",
          "Michalewicz"
         ],
         "y": {
          "bdata": "JHr3kPmc1zkAAAAAAAAAANUJxNTBPCBAmpmZmZkZEj0AAAAAAAAAAAp5kNLDcxPA",
          "dtype": "f8"
         }
        },
        {
         "error_y": {
          "array": {
           "bdata": "2zzbxTcqB0AFzSuWQ0MdQBWc6ZhfJ6hAEAPV5h5m8j+xyDXE2V4UQPP/yioNBeI/",
           "dtype": "f8"
          },
          "type": "data"
         },
         "name": "DE",
         "type": "bar",
         "x": [
          "Sphere",
          "Rastrigin",
          "Rosenbrock",
          "Ackley",
          "Griewank",
          "Michalewicz"
         ],
         "y": {
          "bdata": "QmDV8CTAGkBb9SoyjWVQQEj8MBqFQ65Ae4wVot8nLUDiaGvuSSo7QITuNbCPGxPA",
          "dtype": "f8"
         }
        },
        {
         "error_y": {
          "array": {
           "bdata": "FwG8ezqClz8q5QKBog4cQErnfjmFhUBA3BklarKOAEDhGt+nY6q7P0c1haPVo/E/",
           "dtype": "f8"
          },
          "type": "data"
         },
         "name": "PSO",
         "type": "bar",
         "x": [
          "Sphere",
          "Rastrigin",
          "Rosenbrock",
          "Ackley",
          "Griewank",
          "Michalewicz"
         ],
         "y": {
          "bdata": "E8S7eTntmD+7gBerzEswQLoNEhDCHlFASAzgpw7jE0DTheBdB6bNP0gyHlriVR7A",
          "dtype": "f8"
         }
        }
       ],
       "layout": {
        "barmode": "group",
        "legend": {
         "title": {
          "text": "Algorithm"
         }
        },
        "template": {
         "data": {
          "bar": [
           {
            "error_x": {
             "color": "#2a3f5f"
            },
            "error_y": {
             "color": "#2a3f5f"
            },
            "marker": {
             "line": {
              "color": "white",
              "width": 0.5
             },
             "pattern": {
              "fillmode": "overlay",
              "size": 10,
              "solidity": 0.2
             }
            },
            "type": "bar"
           }
          ],
          "barpolar": [
           {
            "marker": {
             "line": {
              "color": "white",
              "width": 0.5
             },
             "pattern": {
              "fillmode": "overlay",
              "size": 10,
              "solidity": 0.2
             }
            },
            "type": "barpolar"
           }
          ],
          "carpet": [
           {
            "aaxis": {
             "endlinecolor": "#2a3f5f",
             "gridcolor": "#C8D4E3",
             "linecolor": "#C8D4E3",
             "minorgridcolor": "#C8D4E3",
             "startlinecolor": "#2a3f5f"
            },
            "baxis": {
             "endlinecolor": "#2a3f5f",
             "gridcolor": "#C8D4E3",
             "linecolor": "#C8D4E3",
             "minorgridcolor": "#C8D4E3",
             "startlinecolor": "#2a3f5f"
            },
            "type": "carpet"
           }
          ],
          "choropleth": [
           {
            "colorbar": {
             "outlinewidth": 0,
             "ticks": ""
            },
            "type": "choropleth"
           }
          ],
          "contour": [
           {
            "colorbar": {
             "outlinewidth": 0,
             "ticks": ""
            },
            "colorscale": [
             [
              0,
              "#0d0887"
             ],
             [
              0.1111111111111111,
              "#46039f"
             ],
             [
              0.2222222222222222,
              "#7201a8"
             ],
             [
              0.3333333333333333,
              "#9c179e"
             ],
             [
              0.4444444444444444,
              "#bd3786"
             ],
             [
              0.5555555555555556,
              "#d8576b"
             ],
             [
              0.6666666666666666,
              "#ed7953"
             ],
             [
              0.7777777777777778,
              "#fb9f3a"
             ],
             [
              0.8888888888888888,
              "#fdca26"
             ],
             [
              1,
              "#f0f921"
             ]
            ],
            "type": "contour"
           }
          ],
          "contourcarpet": [
           {
            "colorbar": {
             "outlinewidth": 0,
             "ticks": ""
            },
            "type": "contourcarpet"
           }
          ],
          "heatmap": [
           {
            "colorbar": {
             "outlinewidth": 0,
             "ticks": ""
            },
            "colorscale": [
             [
              0,
              "#0d0887"
             ],
             [
              0.1111111111111111,
              "#46039f"
             ],
             [
              0.2222222222222222,
              "#7201a8"
             ],
             [
              0.3333333333333333,
              "#9c179e"
             ],
             [
              0.4444444444444444,
              "#bd3786"
             ],
             [
              0.5555555555555556,
              "#d8576b"
             ],
             [
              0.6666666666666666,
              "#ed7953"
             ],
             [
              0.7777777777777778,
              "#fb9f3a"
             ],
             [
              0.8888888888888888,
              "#fdca26"
             ],
             [
              1,
              "#f0f921"
             ]
            ],
            "type": "heatmap"
           }
          ],
          "histogram": [
           {
            "marker": {
             "pattern": {
              "fillmode": "overlay",
              "size": 10,
              "solidity": 0.2
             }
            },
            "type": "histogram"
           }
          ],
          "histogram2d": [
           {
            "colorbar": {
             "outlinewidth": 0,
             "ticks": ""
            },
            "colorscale": [
             [
              0,
              "#0d0887"
             ],
             [
              0.1111111111111111,
              "#46039f"
             ],
             [
              0.2222222222222222,
              "#7201a8"
             ],
             [
              0.3333333333333333,
              "#9c179e"
             ],
             [
              0.4444444444444444,
              "#bd3786"
             ],
             [
              0.5555555555555556,
              "#d8576b"
             ],
             [
              0.6666666666666666,
              "#ed7953"
             ],
             [
              0.7777777777777778,
              "#fb9f3a"
             ],
             [
              0.8888888888888888,
              "#fdca26"
             ],
             [
              1,
              "#f0f921"
             ]
            ],
            "type": "histogram2d"
           }
          ],
          "histogram2dcontour": [
           {
            "colorbar": {
             "outlinewidth": 0,
             "ticks": ""
            },
            "colorscale": [
             [
              0,
              "#0d0887"
             ],
             [
              0.1111111111111111,
              "#46039f"
             ],
             [
              0.2222222222222222,
              "#7201a8"
             ],
             [
              0.3333333333333333,
              "#9c179e"
             ],
             [
              0.4444444444444444,
              "#bd3786"
             ],
             [
              0.5555555555555556,
              "#d8576b"
             ],
             [
              0.6666666666666666,
              "#ed7953"
             ],
             [
              0.7777777777777778,
              "#fb9f3a"
             ],
             [
              0.8888888888888888,
              "#fdca26"
             ],
             [
              1,
              "#f0f921"
             ]
            ],
            "type": "histogram2dcontour"
           }
          ],
          "mesh3d": [
           {
            "colorbar": {
             "outlinewidth": 0,
             "ticks": ""
            },
            "type": "mesh3d"
           }
          ],
          "parcoords": [
           {
            "line": {
             "colorbar": {
              "outlinewidth": 0,
              "ticks": ""
             }
            },
            "type": "parcoords"
           }
          ],
          "pie": [
           {
            "automargin": true,
            "type": "pie"
           }
          ],
          "scatter": [
           {
            "fillpattern": {
             "fillmode": "overlay",
             "size": 10,
             "solidity": 0.2
            },
            "type": "scatter"
           }
          ],
          "scatter3d": [
           {
            "line": {
             "colorbar": {
              "outlinewidth": 0,
              "ticks": ""
             }
            },
            "marker": {
             "colorbar": {
              "outlinewidth": 0,
              "ticks": ""
             }
            },
            "type": "scatter3d"
           }
          ],
          "scattercarpet": [
           {
            "marker": {
             "colorbar": {
              "outlinewidth": 0,
              "ticks": ""
             }
            },
            "type": "scattercarpet"
           }
          ],
          "scattergeo": [
           {
            "marker": {
             "colorbar": {
              "outlinewidth": 0,
              "ticks": ""
             }
            },
            "type": "scattergeo"
           }
          ],
          "scattergl": [
           {
            "marker": {
             "colorbar": {
              "outlinewidth": 0,
              "ticks": ""
             }
            },
            "type": "scattergl"
           }
          ],
          "scattermap": [
           {
            "marker": {
             "colorbar": {
              "outlinewidth": 0,
              "ticks": ""
             }
            },
            "type": "scattermap"
           }
          ],
          "scattermapbox": [
           {
            "marker": {
             "colorbar": {
              "outlinewidth": 0,
              "ticks": ""
             }
            },
            "type": "scattermapbox"
           }
          ],
          "scatterpolar": [
           {
            "marker": {
             "colorbar": {
              "outlinewidth": 0,
              "ticks": ""
             }
            },
            "type": "scatterpolar"
           }
          ],
          "scatterpolargl": [
           {
            "marker": {
             "colorbar": {
              "outlinewidth": 0,
              "ticks": ""
             }
            },
            "type": "scatterpolargl"
           }
          ],
          "scatterternary": [
           {
            "marker": {
             "colorbar": {
              "outlinewidth": 0,
              "ticks": ""
             }
            },
            "type": "scatterternary"
           }
          ],
          "surface": [
           {
            "colorbar": {
             "outlinewidth": 0,
             "ticks": ""
            },
            "colorscale": [
             [
              0,
              "#0d0887"
             ],
             [
              0.1111111111111111,
              "#46039f"
             ],
             [
              0.2222222222222222,
              "#7201a8"
             ],
             [
              0.3333333333333333,
              "#9c179e"
             ],
             [
              0.4444444444444444,
              "#bd3786"
             ],
             [
              0.5555555555555556,
              "#d8576b"
             ],
             [
              0.6666666666666666,
              "#ed7953"
             ],
             [
              0.7777777777777778,
              "#fb9f3a"
             ],
             [
              0.8888888888888888,
              "#fdca26"
             ],
             [
              1,
              "#f0f921"
             ]
            ],
            "type": "surface"
           }
          ],
          "table": [
           {
            "cells": {
             "fill": {
              "color": "#EBF0F8"
             },
             "line": {
              "color": "white"
             }
            },
            "header": {
             "fill": {
              "color": "#C8D4E3"
             },
             "line": {
              "color": "white"
             }
            },
            "type": "table"
           }
          ]
         },
         "layout": {
          "annotationdefaults": {
           "arrowcolor": "#2a3f5f",
           "arrowhead": 0,
           "arrowwidth": 1
          },
          "autotypenumbers": "strict",
          "coloraxis": {
           "colorbar": {
            "outlinewidth": 0,
            "ticks": ""
           }
          },
          "colorscale": {
           "diverging": [
            [
             0,
             "#8e0152"
            ],
            [
             0.1,
             "#c51b7d"
            ],
            [
             0.2,
             "#de77ae"
            ],
            [
             0.3,
             "#f1b6da"
            ],
            [
             0.4,
             "#fde0ef"
            ],
            [
             0.5,
             "#f7f7f7"
            ],
            [
             0.6,
             "#e6f5d0"
            ],
            [
             0.7,
             "#b8e186"
            ],
            [
             0.8,
             "#7fbc41"
            ],
            [
             0.9,
             "#4d9221"
            ],
            [
             1,
             "#276419"
            ]
           ],
           "sequential": [
            [
             0,
             "#0d0887"
            ],
            [
             0.1111111111111111,
             "#46039f"
            ],
            [
             0.2222222222222222,
             "#7201a8"
            ],
            [
             0.3333333333333333,
             "#9c179e"
            ],
            [
             0.4444444444444444,
             "#bd3786"
            ],
            [
             0.5555555555555556,
             "#d8576b"
            ],
            [
             0.6666666666666666,
             "#ed7953"
            ],
            [
             0.7777777777777778,
             "#fb9f3a"
            ],
            [
             0.8888888888888888,
             "#fdca26"
            ],
            [
             1,
             "#f0f921"
            ]
           ],
           "sequentialminus": [
            [
             0,
             "#0d0887"
            ],
            [
             0.1111111111111111,
             "#46039f"
            ],
            [
             0.2222222222222222,
             "#7201a8"
            ],
            [
             0.3333333333333333,
             "#9c179e"
            ],
            [
             0.4444444444444444,
             "#bd3786"
            ],
            [
             0.5555555555555556,
             "#d8576b"
            ],
            [
             0.6666666666666666,
             "#ed7953"
            ],
            [
             0.7777777777777778,
             "#fb9f3a"
            ],
            [
             0.8888888888888888,
             "#fdca26"
            ],
            [
             1,
             "#f0f921"
            ]
           ]
          },
          "colorway": [
           "#636efa",
           "#EF553B",
           "#00cc96",
           "#ab63fa",
           "#FFA15A",
           "#19d3f3",
           "#FF6692",
           "#B6E880",
           "#FF97FF",
           "#FECB52"
          ],
          "font": {
           "color": "#2a3f5f"
          },
          "geo": {
           "bgcolor": "white",
           "lakecolor": "white",
           "landcolor": "white",
           "showlakes": true,
           "showland": true,
           "subunitcolor": "#C8D4E3"
          },
          "hoverlabel": {
           "align": "left"
          },
          "hovermode": "closest",
          "mapbox": {
           "style": "light"
          },
          "paper_bgcolor": "white",
          "plot_bgcolor": "white",
          "polar": {
           "angularaxis": {
            "gridcolor": "#EBF0F8",
            "linecolor": "#EBF0F8",
            "ticks": ""
           },
           "bgcolor": "white",
           "radialaxis": {
            "gridcolor": "#EBF0F8",
            "linecolor": "#EBF0F8",
            "ticks": ""
           }
          },
          "scene": {
           "xaxis": {
            "backgroundcolor": "white",
            "gridcolor": "#DFE8F3",
            "gridwidth": 2,
            "linecolor": "#EBF0F8",
            "showbackground": true,
            "ticks": "",
            "zerolinecolor": "#EBF0F8"
           },
           "yaxis": {
            "backgroundcolor": "white",
            "gridcolor": "#DFE8F3",
            "gridwidth": 2,
            "linecolor": "#EBF0F8",
            "showbackground": true,
            "ticks": "",
            "zerolinecolor": "#EBF0F8"
           },
           "zaxis": {
            "backgroundcolor": "white",
            "gridcolor": "#DFE8F3",
            "gridwidth": 2,
            "linecolor": "#EBF0F8",
            "showbackground": true,
            "ticks": "",
            "zerolinecolor": "#EBF0F8"
           }
          },
          "shapedefaults": {
           "line": {
            "color": "#2a3f5f"
           }
          },
          "ternary": {
           "aaxis": {
            "gridcolor": "#DFE8F3",
            "linecolor": "#A2B1C6",
            "ticks": ""
           },
           "baxis": {
            "gridcolor": "#DFE8F3",
            "linecolor": "#A2B1C6",
            "ticks": ""
           },
           "bgcolor": "white",
           "caxis": {
            "gridcolor": "#DFE8F3",
            "linecolor": "#A2B1C6",
            "ticks": ""
           }
          },
          "title": {
           "x": 0.05
          },
          "xaxis": {
           "automargin": true,
           "gridcolor": "#EBF0F8",
           "linecolor": "#EBF0F8",
           "ticks": "",
           "title": {
            "standoff": 15
           },
           "zerolinecolor": "#EBF0F8",
           "zerolinewidth": 2
          },
          "yaxis": {
           "automargin": true,
           "gridcolor": "#EBF0F8",
           "linecolor": "#EBF0F8",
           "ticks": "",
           "title": {
            "standoff": 15
           },
           "zerolinecolor": "#EBF0F8",
           "zerolinewidth": 2
          }
         }
        },
        "title": {
         "text": "<b>Mean Fitness Comparison Across Algorithms</b>"
        },
        "xaxis": {
         "title": {
          "text": "Benchmark Function"
         }
        },
        "yaxis": {
         "title": {
          "text": "Mean Best Fitness (Log Scale)"
         },
         "type": "log"
        }
       }
      }
     },
     "metadata": {},
     "output_type": "display_data"
    },
    {
     "data": {
      "application/vnd.plotly.v1+json": {
       "config": {
        "plotlyServerURL": "https://plot.ly"
       },
       "data": [
        {
         "name": "GA",
         "type": "bar",
         "x": [
          "Sphere",
          "Rastrigin",
          "Rosenbrock",
          "Ackley",
          "Griewank",
          "Michalewicz"
         ],
         "y": {
          "bdata": "AAAgHAh/pD8zM9NwnKSsP5qZidTcnKY/mplBXrQjsz8zM8vXr3O0PwAAYLwf7rA/",
          "dtype": "f8"
         }
        },
        {
         "name": "PPS-GA",
         "type": "bar",
         "x": [
          "Sphere",
          "Rastrigin",
          "Rosenbrock",
          "Ackley",
          "Griewank",
          "Michalewicz"
         ],
         "y": {
          "bdata": "AACI2jbVsT+ameGRP/O5P2Zm3nKraLo/Zma+DwfStj8zMxOfKsPCP5qZ6YNULr4/",
          "dtype": "f8"
         }
        },
        {
         "name": "RLCGWO",
         "type": "bar",
         "x": [
          "Sphere",
          "Rastrigin",
          "Rosenbrock",
          "Ackley",
          "Griewank",
          "Michalewicz"
         ],
         "y": {
          "bdata": "ZmYe88uJ0D/NzFTe88TSP5qZM/wnN9U/mpnpuzZO1D9mZpR8RzHeP83MSCIgDNg/",
          "dtype": "f8"
         }
        },
        {
         "name": "EnhancedRLGWO",
         "type": "bar",
         "x": [
          "Sphere",
          "Rastrigin",
          "Rosenbrock",
          "Ackley",
          "Griewank",
          "Michalewicz"
         ],
         "y": {
          "bdata": "ZmZK9cKBzz9mZrTSGpXQPwAAuBShgtI/MzN1qrzB0D9mZiqXvPTWP2ZmFKggg9U/",
          "dtype": "f8"
         }
        },
        {
         "name": "DE",
         "type": "bar",
         "x": [
          "Sphere",
          "Rastrigin",
          "Rosenbrock",
          "Ackley",
          "Griewank",
          "Michalewicz"
         ],
         "y": {
          "bdata": "MzPzBY66jD/NzIx8uaqRP2ZmJn/VNpA/mpk59wJHkz+ameljSSWlP5qZOSrnLpU/",
          "dtype": "f8"
         }
        },
        {
         "name": "PSO",
         "type": "bar",
         "x": [
          "Sphere",
          "Rastrigin",
          "Rosenbrock",
          "Ackley",
          "Griewank",
          "Michalewicz"
         ],
         "y": {
          "bdata": "zcycrMOtpD/NzOxRTF6xP2ZmjlAzpLA/mpn5RoV7tj9mZo7BL5q5PwAAcOahgLU/",
          "dtype": "f8"
         }
        }
       ],
       "layout": {
        "barmode": "group",
        "legend": {
         "title": {
          "text": "Algorithm"
         }
        },
        "template": {
         "data": {
          "bar": [
           {
            "error_x": {
             "color": "#2a3f5f"
            },
            "error_y": {
             "color": "#2a3f5f"
            },
            "marker": {
             "line": {
              "color": "white",
              "width": 0.5
             },
             "pattern": {
              "fillmode": "overlay",
              "size": 10,
              "solidity": 0.2
             }
            },
            "type": "bar"
           }
          ],
          "barpolar": [
           {
            "marker": {
             "line": {
              "color": "white",
              "width": 0.5
             },
             "pattern": {
              "fillmode": "overlay",
              "size": 10,
              "solidity": 0.2
             }
            },
            "type": "barpolar"
           }
          ],
          "carpet": [
           {
            "aaxis": {
             "endlinecolor": "#2a3f5f",
             "gridcolor": "#C8D4E3",
             "linecolor": "#C8D4E3",
             "minorgridcolor": "#C8D4E3",
             "startlinecolor": "#2a3f5f"
            },
            "baxis": {
             "endlinecolor": "#2a3f5f",
             "gridcolor": "#C8D4E3",
             "linecolor": "#C8D4E3",
             "minorgridcolor": "#C8D4E3",
             "startlinecolor": "#2a3f5f"
            },
            "type": "carpet"
           }
          ],
          "choropleth": [
           {
            "colorbar": {
             "outlinewidth": 0,
             "ticks": ""
            },
            "type": "choropleth"
           }
          ],
          "contour": [
           {
            "colorbar": {
             "outlinewidth": 0,
             "ticks": ""
            },
            "colorscale": [
             [
              0,
              "#0d0887"
             ],
             [
              0.1111111111111111,
              "#46039f"
             ],
             [
              0.2222222222222222,
              "#7201a8"
             ],
             [
              0.3333333333333333,
              "#9c179e"
             ],
             [
              0.4444444444444444,
              "#bd3786"
             ],
             [
              0.5555555555555556,
              "#d8576b"
             ],
             [
              0.6666666666666666,
              "#ed7953"
             ],
             [
              0.7777777777777778,
              "#fb9f3a"
             ],
             [
              0.8888888888888888,
              "#fdca26"
             ],
             [
              1,
              "#f0f921"
             ]
            ],
            "type": "contour"
           }
          ],
          "contourcarpet": [
           {
            "colorbar": {
             "outlinewidth": 0,
             "ticks": ""
            },
            "type": "contourcarpet"
           }
          ],
          "heatmap": [
           {
            "colorbar": {
             "outlinewidth": 0,
             "ticks": ""
            },
            "colorscale": [
             [
              0,
              "#0d0887"
             ],
             [
              0.1111111111111111,
              "#46039f"
             ],
             [
              0.2222222222222222,
              "#7201a8"
             ],
             [
              0.3333333333333333,
              "#9c179e"
             ],
             [
              0.4444444444444444,
              "#bd3786"
             ],
             [
              0.5555555555555556,
              "#d8576b"
             ],
             [
              0.6666666666666666,
              "#ed7953"
             ],
             [
              0.7777777777777778,
              "#fb9f3a"
             ],
             [
              0.8888888888888888,
              "#fdca26"
             ],
             [
              1,
              "#f0f921"
             ]
            ],
            "type": "heatmap"
           }
          ],
          "histogram": [
           {
            "marker": {
             "pattern": {
              "fillmode": "overlay",
              "size": 10,
              "solidity": 0.2
             }
            },
            "type": "histogram"
           }
          ],
          "histogram2d": [
           {
            "colorbar": {
             "outlinewidth": 0,
             "ticks": ""
            },
            "colorscale": [
             [
              0,
              "#0d0887"
             ],
             [
              0.1111111111111111,
              "#46039f"
             ],
             [
              0.2222222222222222,
              "#7201a8"
             ],
             [
              0.3333333333333333,
              "#9c179e"
             ],
             [
              0.4444444444444444,
              "#bd3786"
             ],
             [
              0.5555555555555556,
              "#d8576b"
             ],
             [
              0.6666666666666666,
              "#ed7953"
             ],
             [
              0.7777777777777778,
              "#fb9f3a"
             ],
             [
              0.8888888888888888,
              "#fdca26"
             ],
             [
              1,
              "#f0f921"
             ]
            ],
            "type": "histogram2d"
           }
          ],
          "histogram2dcontour": [
           {
            "colorbar": {
             "outlinewidth": 0,
             "ticks": ""
            },
            "colorscale": [
             [
              0,
              "#0d0887"
             ],
             [
              0.1111111111111111,
              "#46039f"
             ],
             [
              0.2222222222222222,
              "#7201a8"
             ],
             [
              0.3333333333333333,
              "#9c179e"
             ],
             [
              0.4444444444444444,
              "#bd3786"
             ],
             [
              0.5555555555555556,
              "#d8576b"
             ],
             [
              0.6666666666666666,
              "#ed7953"
             ],
             [
              0.7777777777777778,
              "#fb9f3a"
             ],
             [
              0.8888888888888888,
              "#fdca26"
             ],
             [
              1,
              "#f0f921"
             ]
            ],
            "type": "histogram2dcontour"
           }
          ],
          "mesh3d": [
           {
            "colorbar": {
             "outlinewidth": 0,
             "ticks": ""
            },
            "type": "mesh3d"
           }
          ],
          "parcoords": [
           {
            "line": {
             "colorbar": {
              "outlinewidth": 0,
              "ticks": ""
             }
            },
            "type": "parcoords"
           }
          ],
          "pie": [
           {
            "automargin": true,
            "type": "pie"
           }
          ],
          "scatter": [
           {
            "fillpattern": {
             "fillmode": "overlay",
             "size": 10,
             "solidity": 0.2
            },
            "type": "scatter"
           }
          ],
          "scatter3d": [
           {
            "line": {
             "colorbar": {
              "outlinewidth": 0,
              "ticks": ""
             }
            },
            "marker": {
             "colorbar": {
              "outlinewidth": 0,
              "ticks": ""
             }
            },
            "type": "scatter3d"
           }
          ],
          "scattercarpet": [
           {
            "marker": {
             "colorbar": {
              "outlinewidth": 0,
              "ticks": ""
             }
            },
            "type": "scattercarpet"
           }
          ],
          "scattergeo": [
           {
            "marker": {
             "colorbar": {
              "outlinewidth": 0,
              "ticks": ""
             }
            },
            "type": "scattergeo"
           }
          ],
          "scattergl": [
           {
            "marker": {
             "colorbar": {
              "outlinewidth": 0,
              "ticks": ""
             }
            },
            "type": "scattergl"
           }
          ],
          "scattermap": [
           {
            "marker": {
             "colorbar": {
              "outlinewidth": 0,
              "ticks": ""
             }
            },
            "type": "scattermap"
           }
          ],
          "scattermapbox": [
           {
            "marker": {
             "colorbar": {
              "outlinewidth": 0,
              "ticks": ""
             }
            },
            "type": "scattermapbox"
           }
          ],
          "scatterpolar": [
           {
            "marker": {
             "colorbar": {
              "outlinewidth": 0,
              "ticks": ""
             }
            },
            "type": "scatterpolar"
           }
          ],
          "scatterpolargl": [
           {
            "marker": {
             "colorbar": {
              "outlinewidth": 0,
              "ticks": ""
             }
            },
            "type": "scatterpolargl"
           }
          ],
          "scatterternary": [
           {
            "marker": {
             "colorbar": {
              "outlinewidth": 0,
              "ticks": ""
             }
            },
            "type": "scatterternary"
           }
          ],
          "surface": [
           {
            "colorbar": {
             "outlinewidth": 0,
             "ticks": ""
            },
            "colorscale": [
             [
              0,
              "#0d0887"
             ],
             [
              0.1111111111111111,
              "#46039f"
             ],
             [
              0.2222222222222222,
              "#7201a8"
             ],
             [
              0.3333333333333333,
              "#9c179e"
             ],
             [
              0.4444444444444444,
              "#bd3786"
             ],
             [
              0.5555555555555556,
              "#d8576b"
             ],
             [
              0.6666666666666666,
              "#ed7953"
             ],
             [
              0.7777777777777778,
              "#fb9f3a"
             ],
             [
              0.8888888888888888,
              "#fdca26"
             ],
             [
              1,
              "#f0f921"
             ]
            ],
            "type": "surface"
           }
          ],
          "table": [
           {
            "cells": {
             "fill": {
              "color": "#EBF0F8"
             },
             "line": {
              "color": "white"
             }
            },
            "header": {
             "fill": {
              "color": "#C8D4E3"
             },
             "line": {
              "color": "white"
             }
            },
            "type": "table"
           }
          ]
         },
         "layout": {
          "annotationdefaults": {
           "arrowcolor": "#2a3f5f",
           "arrowhead": 0,
           "arrowwidth": 1
          },
          "autotypenumbers": "strict",
          "coloraxis": {
           "colorbar": {
            "outlinewidth": 0,
            "ticks": ""
           }
          },
          "colorscale": {
           "diverging": [
            [
             0,
             "#8e0152"
            ],
            [
             0.1,
             "#c51b7d"
            ],
            [
             0.2,
             "#de77ae"
            ],
            [
             0.3,
             "#f1b6da"
            ],
            [
             0.4,
             "#fde0ef"
            ],
            [
             0.5,
             "#f7f7f7"
            ],
            [
             0.6,
             "#e6f5d0"
            ],
            [
             0.7,
             "#b8e186"
            ],
            [
             0.8,
             "#7fbc41"
            ],
            [
             0.9,
             "#4d9221"
            ],
            [
             1,
             "#276419"
            ]
           ],
           "sequential": [
            [
             0,
             "#0d0887"
            ],
            [
             0.1111111111111111,
             "#46039f"
            ],
            [
             0.2222222222222222,
             "#7201a8"
            ],
            [
             0.3333333333333333,
             "#9c179e"
            ],
            [
             0.4444444444444444,
             "#bd3786"
            ],
            [
             0.5555555555555556,
             "#d8576b"
            ],
            [
             0.6666666666666666,
             "#ed7953"
            ],
            [
             0.7777777777777778,
             "#fb9f3a"
            ],
            [
             0.8888888888888888,
             "#fdca26"
            ],
            [
             1,
             "#f0f921"
            ]
           ],
           "sequentialminus": [
            [
             0,
             "#0d0887"
            ],
            [
             0.1111111111111111,
             "#46039f"
            ],
            [
             0.2222222222222222,
             "#7201a8"
            ],
            [
             0.3333333333333333,
             "#9c179e"
            ],
            [
             0.4444444444444444,
             "#bd3786"
            ],
            [
             0.5555555555555556,
             "#d8576b"
            ],
            [
             0.6666666666666666,
             "#ed7953"
            ],
            [
             0.7777777777777778,
             "#fb9f3a"
            ],
            [
             0.8888888888888888,
             "#fdca26"
            ],
            [
             1,
             "#f0f921"
            ]
           ]
          },
          "colorway": [
           "#636efa",
           "#EF553B",
           "#00cc96",
           "#ab63fa",
           "#FFA15A",
           "#19d3f3",
           "#FF6692",
           "#B6E880",
           "#FF97FF",
           "#FECB52"
          ],
          "font": {
           "color": "#2a3f5f"
          },
          "geo": {
           "bgcolor": "white",
           "lakecolor": "white",
           "landcolor": "white",
           "showlakes": true,
           "showland": true,
           "subunitcolor": "#C8D4E3"
          },
          "hoverlabel": {
           "align": "left"
          },
          "hovermode": "closest",
          "mapbox": {
           "style": "light"
          },
          "paper_bgcolor": "white",
          "plot_bgcolor": "white",
          "polar": {
           "angularaxis": {
            "gridcolor": "#EBF0F8",
            "linecolor": "#EBF0F8",
            "ticks": ""
           },
           "bgcolor": "white",
           "radialaxis": {
            "gridcolor": "#EBF0F8",
            "linecolor": "#EBF0F8",
            "ticks": ""
           }
          },
          "scene": {
           "xaxis": {
            "backgroundcolor": "white",
            "gridcolor": "#DFE8F3",
            "gridwidth": 2,
            "linecolor": "#EBF0F8",
            "showbackground": true,
            "ticks": "",
            "zerolinecolor": "#EBF0F8"
           },
           "yaxis": {
            "backgroundcolor": "white",
            "gridcolor": "#DFE8F3",
            "gridwidth": 2,
            "linecolor": "#EBF0F8",
            "showbackground": true,
            "ticks": "",
            "zerolinecolor": "#EBF0F8"
           },
           "zaxis": {
            "backgroundcolor": "white",
            "gridcolor": "#DFE8F3",
            "gridwidth": 2,
            "linecolor": "#EBF0F8",
            "showbackground": true,
            "ticks": "",
            "zerolinecolor": "#EBF0F8"
           }
          },
          "shapedefaults": {
           "line": {
            "color": "#2a3f5f"
           }
          },
          "ternary": {
           "aaxis": {
            "gridcolor": "#DFE8F3",
            "linecolor": "#A2B1C6",
            "ticks": ""
           },
           "baxis": {
            "gridcolor": "#DFE8F3",
            "linecolor": "#A2B1C6",
            "ticks": ""
           },
           "bgcolor": "white",
           "caxis": {
            "gridcolor": "#DFE8F3",
            "linecolor": "#A2B1C6",
            "ticks": ""
           }
          },
          "title": {
           "x": 0.05
          },
          "xaxis": {
           "automargin": true,
           "gridcolor": "#EBF0F8",
           "linecolor": "#EBF0F8",
           "ticks": "",
           "title": {
            "standoff": 15
           },
           "zerolinecolor": "#EBF0F8",
           "zerolinewidth": 2
          },
          "yaxis": {
           "automargin": true,
           "gridcolor": "#EBF0F8",
           "linecolor": "#EBF0F8",
           "ticks": "",
           "title": {
            "standoff": 15
           },
           "zerolinecolor": "#EBF0F8",
           "zerolinewidth": 2
          }
         }
        },
        "title": {
         "text": "<b>Mean Execution Time Comparison</b>"
        },
        "xaxis": {
         "title": {
          "text": "Benchmark Function"
         }
        },
        "yaxis": {
         "title": {
          "text": "Mean Execution Time (seconds)"
         }
        }
       }
      }
     },
     "metadata": {},
     "output_type": "display_data"
    },
    {
     "name": "stdout",
     "output_type": "stream",
     "text": [
      "\n",
      "Computational Complexity (G=Generations, P=Population, D=Dimensions, RL=RL update cost):\n",
      "- GA: O(G*P*D)\n",
      "- PPS-GA: O(G*P*(D+P))\n",
      "- RLCGWO: O(G*P*(D+P))\n",
      "- EnhancedRLGWO: O(G*P*(D+P) + G*RL)\n",
      "- DE: O(G*P*D)\n",
      "- PSO: O(G*P*D)\n"
     ]
    }
   ],
   "source": [
    "import random\n",
    "import time\n",
    "import numpy as np\n",
    "from deap import base, creator, tools, algorithms\n",
    "import plotly.graph_objects as go\n",
    "import pandas as pd\n",
    "from scipy.stats import ttest_rel\n",
    "from scipy.optimize import differential_evolution\n",
    "from pyswarm import pso\n",
    "from collections import defaultdict\n",
    "import torch\n",
    "import torch.nn as nn\n",
    "import torch.optim as optim\n",
    "\n",
    "# --- Benchmark Functions ---\n",
    "def sphere(individual):\n",
    "    return sum(x**2 for x in individual),\n",
    "\n",
    "def rastrigin(individual):\n",
    "    return 10 * len(individual) + sum(x**2 - 10 * np.cos(2 * np.pi * x) for x in individual),\n",
    "\n",
    "def rosenbrock(individual):\n",
    "    return sum(100 * (individual[i+1] - individual[i]**2)**2 + (individual[i] - 1)**2 for i in range(len(individual) - 1)),\n",
    "\n",
    "def ackley(individual):\n",
    "    n = len(individual)\n",
    "    sum_sq_term = -0.2 * np.sqrt(sum(x**2 for x in individual) / n)\n",
    "    cos_term = sum(np.cos(2 * np.pi * x) for x in individual) / n\n",
    "    return -20 * np.exp(sum_sq_term) - np.exp(cos_term) + 20 + np.e,\n",
    "\n",
    "def griewank(individual):\n",
    "    sum_part = sum(x**2 / 4000 for x in individual)\n",
    "    prod_part = np.prod([np.cos(x / np.sqrt(i + 1)) for i, x in enumerate(individual)])\n",
    "    return sum_part - prod_part + 1,\n",
    "\n",
    "def michalewicz(individual):\n",
    "    m = 10\n",
    "    total = 0\n",
    "    for i, x in enumerate(individual):\n",
    "        total += np.sin(x) * (np.sin((i + 1) * x**2 / np.pi))**(2 * m)\n",
    "    return -total,\n",
    "\n",
    "def schwefel(individual):\n",
    "    n = len(individual)\n",
    "    return 418.9829 * n - sum(x * np.sin(np.sqrt(np.abs(x))) for x in individual),\n",
    "\n",
    "def zakharov(individual):\n",
    "    sum1 = sum(x**2 for x in individual)\n",
    "    sum2 = sum(0.5 * (i + 1) * x for i, x in enumerate(individual))\n",
    "    return sum1 + sum2**2 + sum2**4,\n",
    "\n",
    "# --- Adaptive Penalty Function ---\n",
    "# Reference: \"A Review on Constraint Handling Techniques for Population-based Algorithms\" (2022)\n",
    "# https://link.springer.com/article/10.1007/s11831-022-09859-9\n",
    "def adaptive_penalty(individual, population, bounds):\n",
    "    if not population:\n",
    "        return 0\n",
    "    total_violations = sum(sum(1 for x in ind if not (bounds[0] <= x <= bounds[1])) for ind in population)\n",
    "    avg_violation = total_violations / len(population)\n",
    "    penalty_strength = 1e6 * (1 + avg_violation)\n",
    "    return sum(penalty_strength for x in individual if not (bounds[0] <= x <= bounds[1]))\n",
    "\n",
    "# --- Repair Operator ---\n",
    "# Reference: \"A Review on Constraint Handling Techniques for Population-based Algorithms\" (2022)\n",
    "# https://link.springer.com/article/10.1007/s11831-022-09859-9\n",
    "def repair_individual(individual, bounds):\n",
    "    return [max(bounds[0], min(bounds[1], x)) for x in individual]\n",
    "\n",
    "# --- GA Setup ---\n",
    "def setup_ga(bounds, n_dimensions):\n",
    "    # Use existing classes if they are already created to avoid errors on re-runs\n",
    "    if not hasattr(creator, \"FitnessMin\"):\n",
    "        creator.create(\"FitnessMin\", base.Fitness, weights=(-1.0,))\n",
    "    if not hasattr(creator, \"Individual\"):\n",
    "        creator.create(\"Individual\", list, fitness=creator.FitnessMin)\n",
    "    toolbox = base.Toolbox()\n",
    "    toolbox.register(\"attr_float\", random.uniform, *bounds)\n",
    "    toolbox.register(\"individual\", tools.initRepeat, creator.Individual, toolbox.attr_float, n=n_dimensions)\n",
    "    toolbox.register(\"population\", tools.initRepeat, list, toolbox.individual)\n",
    "    toolbox.register(\"select\", tools.selTournament, tournsize=3)\n",
    "    return toolbox\n",
    "\n",
    "# --- Standard GA ---\n",
    "def run_standard_ga(toolbox, evaluate_func, n_population, n_generations):\n",
    "    start_time = time.perf_counter()\n",
    "    toolbox.register(\"evaluate\", evaluate_func)\n",
    "    toolbox.register(\"mate\", tools.cxBlend, alpha=0.5)\n",
    "    toolbox.register(\"mutate\", tools.mutGaussian, mu=0, sigma=1, indpb=0.2)\n",
    "    population = toolbox.population(n=n_population)\n",
    "    hof = tools.HallOfFame(1)\n",
    "    stats = tools.Statistics(lambda ind: ind.fitness.values)\n",
    "    stats.register(\"min\", np.min)\n",
    "    stats.register(\"avg\", np.mean)\n",
    "    _, logbook = algorithms.eaSimple(\n",
    "        population, toolbox, cxpb=0.7, mutpb=0.2, ngen=n_generations,\n",
    "        stats=stats, halloffame=hof, verbose=False\n",
    "    )\n",
    "    end_time = time.perf_counter()\n",
    "    return hof[0].fitness.values[0], logbook, end_time - start_time\n",
    "\n",
    "# --- Push-Pull Strategy GA (PPS-GA) ---\n",
    "# Reference: Inspired by push-pull strategy in \"Evolutionary constrained multi-objective optimization\" (2024)\n",
    "# https://link.springer.com/article/10.1007/s11831-023-10033-0\n",
    "class PPSGA:\n",
    "    def __init__(self, bounds, n_dimensions, population_size, generations):\n",
    "        self.bounds = bounds\n",
    "        self.n_dimensions = n_dimensions\n",
    "        self.population_size = population_size\n",
    "        self.generations = generations\n",
    "        self.push_phase = generations // 2\n",
    "        self.toolbox = setup_ga(bounds, n_dimensions)\n",
    "        self.toolbox.register(\"mate\", tools.cxBlend, alpha=0.5)\n",
    "        self.toolbox.register(\"mutate\", tools.mutGaussian, mu=0, sigma=1, indpb=0.2)\n",
    "        self.current_population = []\n",
    "\n",
    "    def evaluate(self, individual, evaluate_func, gen):\n",
    "        base_fitness = evaluate_func(individual)[0]\n",
    "        if gen < self.push_phase:\n",
    "            return base_fitness,\n",
    "        penalty = adaptive_penalty(individual, self.current_population, self.bounds)\n",
    "        return base_fitness + penalty,\n",
    "\n",
    "    def run(self, evaluate_func):\n",
    "        start_time = time.perf_counter()\n",
    "        population = self.toolbox.population(n=self.population_size)\n",
    "        self.current_population = population\n",
    "\n",
    "        hof = tools.HallOfFame(1)\n",
    "        stats = tools.Statistics(lambda ind: ind.fitness.values)\n",
    "        stats.register(\"min\", np.min)\n",
    "        stats.register(\"avg\", np.mean)\n",
    "        logbook = tools.Logbook()\n",
    "        logbook.header = [\"gen\", \"min\", \"avg\"]\n",
    "\n",
    "        # Initial evaluation without penalty\n",
    "        for ind in population:\n",
    "            ind.fitness.values = (evaluate_func(ind)[0],)\n",
    "        record = stats.compile(population)\n",
    "        logbook.record(gen=0, **record)\n",
    "        hof.update(population)\n",
    "\n",
    "        for gen in range(1, self.generations + 1):\n",
    "            self.toolbox.register(\"evaluate\", self.evaluate, evaluate_func=evaluate_func, gen=gen)\n",
    "            offspring = algorithms.varAnd(population, self.toolbox, cxpb=0.7, mutpb=0.2)\n",
    "            \n",
    "            invalid_ind = [ind for ind in offspring if not ind.fitness.valid]\n",
    "            fitnesses = self.toolbox.map(self.toolbox.evaluate, invalid_ind)\n",
    "            for ind, fit in zip(invalid_ind, fitnesses):\n",
    "                ind.fitness.values = fit\n",
    "\n",
    "            population = self.toolbox.select(population + offspring, k=self.population_size)\n",
    "            self.current_population = population\n",
    "            \n",
    "            record = stats.compile(population)\n",
    "            logbook.record(gen=gen, **record)\n",
    "            hof.update(population)\n",
    "\n",
    "        end_time = time.perf_counter()\n",
    "        final_fitnesses = [self.evaluate(ind, evaluate_func, self.generations)[0] for ind in hof]\n",
    "        return min(final_fitnesses), logbook, end_time - start_time\n",
    "\n",
    "# --- RL-Guided Grey Wolf Optimizer (RLCGWO) ---\n",
    "class RLCGWO:\n",
    "    \"\"\"A Reinforcement Learning-Guided Grey Wolf Optimizer (RLCGWO).\n",
    "\n",
    "    This algorithm enhances the standard Grey Wolf Optimizer (GWO) by using a\n",
    "    simple, tabular Q-learning agent to dynamically control the exploration and\n",
    "    exploitation balance. The agent chooses between \"exploration\" and \"exploitation\"\n",
    "    modes, which adjusts a key parameter in the GWO update equations.\n",
    "\n",
    "    The state for the Q-learning agent is a discretized string representation of the\n",
    "    population's minimum fitness and diversity.\n",
    "\n",
    "    Reference:\n",
    "        The concept is adapted from the paper \"RL-GA: A Reinforcement\n",
    "        Learning-based Genetic Algorithm\" (2023), applying the RL control\n",
    "        mechanism to the GWO framework.\n",
    "        https://www.frontiersin.org/journals/artificial-intelligence/articles/10.3389/frai.2023.1227843/full\n",
    "\n",
    "    Args:\n",
    "        bounds (tuple): A tuple (min_bound, max_bound) for the search space.\n",
    "        n_dimensions (int): The number of dimensions of the problem.\n",
    "        population_size (int): The number of wolves in the population.\n",
    "        generations (int): The number of iterations to run the algorithm.\n",
    "    \"\"\"\n",
    "    def __init__(self, bounds, n_dimensions, population_size, generations):\n",
    "        self.bounds = bounds\n",
    "        self.n_dimensions = n_dimensions\n",
    "        self.population_size = population_size\n",
    "        self.generations = generations\n",
    "        self.a = 2.0\n",
    "        self.actions = [\"exploration\", \"exploitation\"]\n",
    "        self.epsilon, self.alpha, self.gamma = 0.2, 0.1, 0.9\n",
    "        self.current_action = \"balanced\"\n",
    "        self.q_table = defaultdict(lambda: 0)\n",
    "        self.current_population = []\n",
    "\n",
    "    def choose_action(self, state):\n",
    "        if random.random() < self.epsilon:\n",
    "            return random.choice(self.actions)\n",
    "        q_values = [self.q_table[(state, action)] for action in self.actions]\n",
    "        return self.actions[np.argmax(q_values)]\n",
    "\n",
    "    def update_q_table(self, state, action, reward, next_state):\n",
    "        max_next_q = max(self.q_table.get((next_state, a), 0) for a in self.actions)\n",
    "        self.q_table[(state, action)] += self.alpha * (reward + self.gamma * max_next_q - self.q_table[(state, action)])\n",
    "\n",
    "    def evaluate(self, individual, evaluate_func):\n",
    "        base_fitness = evaluate_func(individual)[0]\n",
    "        penalty = adaptive_penalty(individual, self.current_population, self.bounds)\n",
    "        return base_fitness + penalty\n",
    "\n",
    "    def run(self, evaluate_func):\n",
    "        start_time = time.perf_counter()\n",
    "        population = [repair_individual([random.uniform(self.bounds[0], self.bounds[1]) for _ in range(self.n_dimensions)], self.bounds) for _ in range(self.population_size)]\n",
    "        self.current_population = population\n",
    "\n",
    "        stats = tools.Statistics(key=lambda ind: self.evaluate(ind, evaluate_func))\n",
    "        stats.register(\"min\", np.min)\n",
    "        stats.register(\"avg\", np.mean)\n",
    "        stats.register(\"diversity\", np.std)\n",
    "        logbook = tools.Logbook()\n",
    "        logbook.header = [\"gen\", \"min\", \"avg\", \"diversity\"]\n",
    "        \n",
    "        record = stats.compile(population)\n",
    "        logbook.record(gen=0, **record)\n",
    "        state = f\"{record['min']:.2f}_{record['diversity']:.2f}\"\n",
    "\n",
    "        for gen in range(1, self.generations + 1):\n",
    "            self.a = 2 * (1 - gen / self.generations)\n",
    "            self.current_action = self.choose_action(state)\n",
    "            a_factor = 1.5 if self.current_action == \"exploration\" else 0.5\n",
    "            \n",
    "            sorted_pop = sorted(population, key=lambda ind: self.evaluate(ind, evaluate_func))\n",
    "            alpha, beta, delta = sorted_pop[0], sorted_pop[1], sorted_pop[2]\n",
    "            \n",
    "            new_population = []\n",
    "            for i in range(self.population_size):\n",
    "                A1 = a_factor * (2 * np.random.random(self.n_dimensions) - 1)\n",
    "                A2 = a_factor * (2 * np.random.random(self.n_dimensions) - 1)\n",
    "                A3 = a_factor * (2 * np.random.random(self.n_dimensions) - 1)\n",
    "                C1, C2, C3 = 2 * np.random.random(self.n_dimensions), 2 * np.random.random(self.n_dimensions), 2 * np.random.random(self.n_dimensions)\n",
    "\n",
    "                D_alpha = np.abs(C1 * np.array(alpha) - np.array(population[i]))\n",
    "                D_beta = np.abs(C2 * np.array(beta) - np.array(population[i]))\n",
    "                D_delta = np.abs(C3 * np.array(delta) - np.array(population[i]))\n",
    "                \n",
    "                X1 = np.array(alpha) - A1 * D_alpha\n",
    "                X2 = np.array(beta) - A2 * D_beta\n",
    "                X3 = np.array(delta) - A3 * D_delta\n",
    "                \n",
    "                new_individual = (X1 + X2 + X3) / 3.0\n",
    "                new_population.append(repair_individual(new_individual.tolist(), self.bounds))\n",
    "            \n",
    "            population = new_population\n",
    "            self.current_population = population\n",
    "            \n",
    "            record = stats.compile(population)\n",
    "            logbook.record(gen=gen, **record)\n",
    "            reward = -record[\"min\"] + 0.1 * record[\"diversity\"]\n",
    "            next_state = f\"{record['min']:.2f}_{record['diversity']:.2f}\"\n",
    "            self.update_q_table(state, self.current_action, reward, next_state)\n",
    "            state = next_state\n",
    "\n",
    "        end_time = time.perf_counter()\n",
    "        final_fitnesses = [self.evaluate(ind, evaluate_func) for ind in population]\n",
    "        return min(final_fitnesses), logbook, end_time - start_time\n",
    "\n",
    "# --- Opposition-Based Learning Function ---\n",
    "def opposition_based_learning(population, bounds):\n",
    "    opposite_population = []\n",
    "    for individual in population:\n",
    "        opposite_individual = []\n",
    "        for i, dim in enumerate(individual):\n",
    "            opposite_dim = (bounds[0] + bounds[1]) - dim\n",
    "            opposite_individual.append(opposite_dim)\n",
    "        opposite_population.append(repair_individual(opposite_individual, bounds))\n",
    "    return opposite_population\n",
    "\n",
    "# --- Dueling Deep Q-Network Architecture ---\n",
    "class DuelingDQN(nn.Module):\n",
    "    def __init__(self, state_size, action_size):\n",
    "        super(DuelingDQN, self).__init__()\n",
    "        self.feature_layer = nn.Sequential(\n",
    "            nn.Linear(state_size, 64),\n",
    "            nn.ReLU()\n",
    "        )\n",
    "        self.value_stream = nn.Sequential(\n",
    "            nn.Linear(64, 64),\n",
    "            nn.ReLU(),\n",
    "            nn.Linear(64, 1)\n",
    "        )\n",
    "        self.advantage_stream = nn.Sequential(\n",
    "            nn.Linear(64, 64),\n",
    "            nn.ReLU(),\n",
    "            nn.Linear(64, action_size)\n",
    "        )\n",
    "\n",
    "    def forward(self, state):\n",
    "        features = self.feature_layer(state)\n",
    "        value = self.value_stream(features)\n",
    "        advantages = self.advantage_stream(features)\n",
    "        q_values = value + (advantages - advantages.mean(dim=1, keepdim=True))\n",
    "        return q_values\n",
    "\n",
    "# --- Enhanced RL-Guided Grey Wolf Optimizer (RLCGWO) ---\n",
    "\n",
    "class EnhancedRLGWO:\n",
    "    \"\"\"An Enhanced Reinforcement Learning-Guided Grey Wolf Optimizer (EnhancedRLGWO).\n",
    "\n",
    "This class implements a state-of-the-art hybrid metaheuristic that combines the\n",
    "Grey Wolf Optimizer (GWO) with a sophisticated Deep Q-Network (DQN) agent.\n",
    "The agent learns a policy to dynamically control the GWO's search behavior,\n",
    "intelligently deciding when to exploit known solutions versus when to explore\n",
    "new regions of the search space.\n",
    "\n",
    "Key Enhancements:\n",
    "- **Dueling DQN Architecture**: Utilizes a neural network with separate streams\n",
    "  for state-value and action-advantage functions for more robust learning.\n",
    "- **Prioritized Experience Replay (PER)**: Employs a memory buffer that\n",
    "  prioritizes replaying more informative experiences, accelerating learning.\n",
    "- **Target Network**: Uses a second, slow-updating network to provide stable\n",
    "  targets for the Q-learning updates.\n",
    "- **Strategic Operator Selection**: The DQN agent's primary role is to choose\n",
    "  between standard GWO update modes and a powerful strategic escape maneuver.\n",
    "- **Opposition-Based Learning (OBL)**: The agent can trigger an OBL phase,\n",
    "  creating a mirror-image population to escape local optima and perform\n",
    "  a large-scale jump in the search space.\n",
    "- **Adaptive Exploration**: Uses an epsilon-decay schedule to transition\n",
    "  smoothly from an initial exploratory phase to a final exploitative phase.\n",
    "\n",
    "Args:\n",
    "    bounds (tuple): A tuple (min_bound, max_bound) for the search space.\n",
    "    n_dimensions (int): The number of dimensions of the problem.\n",
    "    population_size (int): The number of wolves in the population.\n",
    "    generations (int): The number of iterations to run the algorithm.\n",
    "\"\"\"\n",
    "    def __init__(self, bounds, n_dimensions, population_size, generations):\n",
    "        self.bounds = bounds\n",
    "        self.n_dimensions = n_dimensions\n",
    "        self.population_size = population_size\n",
    "        self.generations = generations\n",
    "        \n",
    "        self.actions = [\n",
    "            (\"set_a\", 0.5),   # Strong exploitation\n",
    "            (\"set_a\", 1.0),   # Balanced\n",
    "            (\"set_a\", 1.5),   # Strong exploration\n",
    "            (\"activate_obl\", None) # Strategic jump\n",
    "        ]\n",
    "        \n",
    "        self.epsilon_start, self.epsilon_end, self.epsilon_decay = 1.0, 0.01, 0.995\n",
    "        self.epsilon = self.epsilon_start\n",
    "        self.gamma = 0.99\n",
    "        self.initial_optimizer_lr = 0.001\n",
    "        self.lr_decay_rate = 0.01\n",
    "        self.replay_buffer_size = 2000\n",
    "        self.batch_size = 64\n",
    "        self.beta = 0.4\n",
    "        self.priority_epsilon = 1e-6\n",
    "        self.tau = 0.005\n",
    "        self.replay_buffer = []\n",
    "        self.current_population = []\n",
    "        \n",
    "        self.device = torch.device(\"cuda\" if torch.cuda.is_available() else \"cpu\")\n",
    "        state_size = 3\n",
    "        action_size = len(self.actions)\n",
    "        \n",
    "        self.q_network = DuelingDQN(state_size, action_size).to(self.device)\n",
    "        self.target_q_network = DuelingDQN(state_size, action_size).to(self.device)\n",
    "        self.target_q_network.load_state_dict(self.q_network.state_dict())\n",
    "        self.optimizer = optim.Adam(self.q_network.parameters(), lr=self.initial_optimizer_lr)\n",
    "\n",
    "    def add_to_buffer(self, experience):\n",
    "        max_priority = max([p for p, _ in self.replay_buffer]) if self.replay_buffer else 1.0\n",
    "        self.replay_buffer.append((max_priority, experience))\n",
    "        if len(self.replay_buffer) > self.replay_buffer_size:\n",
    "            self.replay_buffer.pop(0)\n",
    "\n",
    "    def replay(self):\n",
    "        if len(self.replay_buffer) < self.batch_size:\n",
    "            return\n",
    "\n",
    "        priorities = np.array([p for p, _ in self.replay_buffer])\n",
    "        probs = priorities ** self.beta\n",
    "        probs /= probs.sum()\n",
    "\n",
    "        indices = np.random.choice(len(self.replay_buffer), self.batch_size, p=probs)\n",
    "        batch = [self.replay_buffer[i][1] for i in indices]\n",
    "\n",
    "        total = len(self.replay_buffer)\n",
    "        weights = (total * probs[indices]) ** (-self.beta)\n",
    "        weights /= weights.max()\n",
    "        weights = torch.tensor(weights, dtype=torch.float32).to(self.device)\n",
    "\n",
    "        states, actions, rewards, next_states = zip(*batch)\n",
    "\n",
    "        states = torch.tensor(np.array(states), dtype=torch.float32).to(self.device)\n",
    "        next_states = torch.tensor(np.array(next_states), dtype=torch.float32).to(self.device)\n",
    "        rewards = torch.tensor(rewards, dtype=torch.float32).to(self.device)\n",
    "        action_indices = torch.tensor(actions, dtype=torch.int64).to(self.device)\n",
    "\n",
    "        q_values = self.q_network(states)\n",
    "        predicted_q = q_values.gather(1, action_indices.unsqueeze(1)).squeeze(1)\n",
    "\n",
    "        with torch.no_grad():\n",
    "            next_q_values = self.target_q_network(next_states).max(1)[0]\n",
    "        \n",
    "        target_q = rewards + self.gamma * next_q_values\n",
    "        td_errors = torch.abs(target_q - predicted_q).detach()\n",
    "        loss = (weights * nn.MSELoss(reduction='none')(predicted_q, target_q)).mean()\n",
    "        \n",
    "        self.optimizer.zero_grad()\n",
    "        loss.backward()\n",
    "        self.optimizer.step()\n",
    "        self.soft_update_target_network()\n",
    "\n",
    "        for i, idx in enumerate(indices):\n",
    "            priority = td_errors[i].item() + self.priority_epsilon\n",
    "            self.replay_buffer[idx] = (priority, self.replay_buffer[idx][1])\n",
    "\n",
    "    def soft_update_target_network(self):\n",
    "        for target_param, local_param in zip(self.target_q_network.parameters(), self.q_network.parameters()):\n",
    "            target_param.data.copy_(self.tau*local_param.data + (1.0-self.tau)*target_param.data)\n",
    "\n",
    "    def choose_action_index(self, state):\n",
    "        if random.random() < self.epsilon:\n",
    "            return random.randrange(len(self.actions))\n",
    "        state_tensor = torch.tensor(state, dtype=torch.float32).to(self.device).unsqueeze(0)\n",
    "        with torch.no_grad():\n",
    "            q_values = self.q_network(state_tensor)\n",
    "        return torch.argmax(q_values).item()\n",
    "\n",
    "    def evaluate(self, individual, evaluate_func):\n",
    "        base_fitness = evaluate_func(individual)[0]\n",
    "        penalty = adaptive_penalty(individual, self.current_population, self.bounds)\n",
    "        return base_fitness + penalty\n",
    "\n",
    "    def run(self, evaluate_func):\n",
    "        start_time = time.perf_counter()\n",
    "        population = [repair_individual([random.uniform(self.bounds[0], self.bounds[1]) for _ in range(self.n_dimensions)], self.bounds) for _ in range(self.population_size)]\n",
    "        self.current_population = population\n",
    "\n",
    "        logbook = tools.Logbook()\n",
    "        logbook.header = [\"gen\", \"min\", \"avg\", \"diversity\"]\n",
    "        \n",
    "        fitnesses = [self.evaluate(ind, evaluate_func) for ind in population]\n",
    "        min_fit, avg_fit, std_fit = np.min(fitnesses), np.mean(fitnesses), np.std(fitnesses)\n",
    "        logbook.record(gen=0, min=min_fit, avg=avg_fit, diversity=std_fit)\n",
    "        state = [min_fit, avg_fit, std_fit]\n",
    "\n",
    "        for gen in range(1, self.generations + 1):\n",
    "            new_optimizer_lr = self.initial_optimizer_lr * np.exp(-self.lr_decay_rate * gen)\n",
    "            for param_group in self.optimizer.param_groups:\n",
    "                param_group['lr'] = new_optimizer_lr\n",
    "            self.beta = min(1.0, self.beta + 0.001)\n",
    "\n",
    "            action_index = self.choose_action_index(state)\n",
    "            action_type, action_value = self.actions[action_index]\n",
    "\n",
    "            if action_type == \"activate_obl\":\n",
    "                opposite_pop = opposition_based_learning(population, self.bounds)\n",
    "                combined_pop = population + opposite_pop\n",
    "                \n",
    "                combined_fitnesses = [self.evaluate(ind, evaluate_func) for ind in combined_pop]\n",
    "                sorted_combined = sorted(zip(combined_pop, combined_fitnesses), key=lambda x: x[1])\n",
    "                \n",
    "                population = [ind for ind, fit in sorted_combined[:self.population_size]]\n",
    "                fitnesses = [fit for ind, fit in sorted_combined[:self.population_size]]\n",
    "            else: # action_type == \"set_a\"\n",
    "                a_factor = action_value\n",
    "                pop_with_fitness = list(zip(population, fitnesses))\n",
    "                sorted_pop_with_fitness = sorted(pop_with_fitness, key=lambda x: x[1])\n",
    "                sorted_pop = [ind for ind, fit in sorted_pop_with_fitness]\n",
    "                alpha_wolf, beta_wolf, delta_wolf = sorted_pop[0], sorted_pop[1], sorted_pop[2]\n",
    "                \n",
    "                new_population = []\n",
    "                for i in range(self.population_size):\n",
    "                    A1,A2,A3 = a_factor*(2*np.random.random(self.n_dimensions)-1), a_factor*(2*np.random.random(self.n_dimensions)-1), a_factor*(2*np.random.random(self.n_dimensions)-1)\n",
    "                    C1,C2,C3 = 2*np.random.random(self.n_dimensions), 2*np.random.random(self.n_dimensions), 2*np.random.random(self.n_dimensions)\n",
    "\n",
    "                    D_alpha = np.abs(C1*np.array(alpha_wolf) - np.array(population[i]))\n",
    "                    D_beta = np.abs(C2*np.array(beta_wolf) - np.array(population[i]))\n",
    "                    D_delta = np.abs(C3*np.array(delta_wolf) - np.array(population[i]))\n",
    "                    \n",
    "                    X1,X2,X3 = np.array(alpha_wolf)-A1*D_alpha, np.array(beta_wolf)-A2*D_beta, np.array(delta_wolf)-A3*D_delta\n",
    "                    \n",
    "                    new_individual = (X1 + X2 + X3) / 3.0\n",
    "                    new_population.append(repair_individual(new_individual.tolist(), self.bounds))\n",
    "                population = new_population\n",
    "\n",
    "            self.current_population = population\n",
    "            fitnesses = [self.evaluate(ind, evaluate_func) for ind in population]\n",
    "            min_fit, avg_fit, std_fit = np.min(fitnesses), np.mean(fitnesses), np.std(fitnesses)\n",
    "            logbook.record(gen=gen, min=min_fit, avg=avg_fit, diversity=std_fit)\n",
    "            \n",
    "            reward = -min_fit + 0.1 * std_fit\n",
    "            next_state = [min_fit, avg_fit, std_fit]\n",
    "\n",
    "            self.add_to_buffer((state, action_index, reward, next_state))\n",
    "            self.replay()\n",
    "            state = next_state\n",
    "            \n",
    "            self.epsilon = max(self.epsilon_end, self.epsilon_decay * self.epsilon)\n",
    "\n",
    "        end_time = time.perf_counter()\n",
    "        return min(fitnesses), logbook, end_time - start_time\n",
    "\n",
    "# --- Other Optimization Algorithms ---\n",
    "def run_de(evaluate_func, bounds, n_dimensions, n_generations):\n",
    "    start_time = time.perf_counter()\n",
    "    bounds_list = [(bounds[0], bounds[1])] * n_dimensions\n",
    "    result = differential_evolution(\n",
    "        lambda x: evaluate_func(x)[0], bounds_list, maxiter=n_generations, popsize=15, polish=False\n",
    "    )\n",
    "    end_time = time.perf_counter()\n",
    "    return result.fun, None, end_time - start_time\n",
    "\n",
    "def run_pso(evaluate_func, bounds, n_dimensions, n_generations):\n",
    "    start_time = time.perf_counter()\n",
    "    lb = [bounds[0]] * n_dimensions\n",
    "    ub = [bounds[1]] * n_dimensions\n",
    "    xopt, fopt = pso(lambda x: evaluate_func(x)[0], lb, ub, maxiter=n_generations*2, swarmsize=50) # PSO often needs more evaluations\n",
    "    end_time = time.perf_counter()\n",
    "    return fopt, None, end_time - start_time\n",
    "\n",
    "# --- Statistical Analysis and Visualization ---\n",
    "def create_plots_and_stats(results, functions, algorithms, complexity_data):\n",
    "    summary_data = []\n",
    "    for func_name in functions:\n",
    "        row = {\"Function\": func_name}\n",
    "        for algo_name in algorithms:\n",
    "            fitnesses = results[algo_name][func_name][\"fitness\"]\n",
    "            times = results[algo_name][func_name][\"time\"]\n",
    "            row.update({\n",
    "                f\"{algo_name} Mean Fitness\": np.mean(fitnesses),\n",
    "                f\"{algo_name} Std Fitness\": np.std(fitnesses),\n",
    "                f\"{algo_name} Mean Time (s)\": np.mean(times)\n",
    "            })\n",
    "        \n",
    "        # Perform t-tests against a baseline algorithm if it exists\n",
    "        base_algo = \"GA\" \n",
    "        if base_algo in results and base_algo in results[list(results.keys())[0]]:\n",
    "            base_fitnesses = results[base_algo][func_name][\"fitness\"]\n",
    "            for algo_name in algorithms:\n",
    "                if algo_name != base_algo and algo_name in results and func_name in results[algo_name]:\n",
    "                    other_fitnesses = results[algo_name][func_name][\"fitness\"]\n",
    "                    try:\n",
    "                        t_stat, p_value = ttest_rel(base_fitnesses, other_fitnesses)\n",
    "                        significant = p_value < 0.05\n",
    "                    except ValueError:\n",
    "                        p_value = 1.0\n",
    "                        significant = False\n",
    "                    row.update({\n",
    "                        f\"P-Value ({base_algo} vs {algo_name})\": p_value,\n",
    "                        f\"Significant ({base_algo} vs {algo_name})\": significant\n",
    "                    })\n",
    "        \n",
    "        summary_data.append(row)\n",
    "\n",
    "        # Plot convergence for each function\n",
    "        fig = go.Figure()\n",
    "        for algo_name in algorithms:\n",
    "            if algo_name not in [\"DE\", \"PSO\"]:\n",
    "                if algo_name in results and func_name in results[algo_name]:\n",
    "                    logbooks = results[algo_name][func_name][\"logbook\"]\n",
    "                    if logbooks:\n",
    "                        min_fitness_runs = []\n",
    "                        max_len = 0\n",
    "                        for logbook in logbooks:\n",
    "                            if logbook:\n",
    "                                min_fitness_runs.append(logbook.select(\"min\"))\n",
    "                                max_len = max(max_len, len(logbook.select(\"gen\")))\n",
    "                        \n",
    "                        if min_fitness_runs:\n",
    "                            avg_fitness = np.full(max_len, np.nan)\n",
    "                            for i in range(max_len):\n",
    "                                vals = [run[i] for run in min_fitness_runs if i < len(run)]\n",
    "                                if vals:\n",
    "                                    avg_fitness[i] = np.mean(vals)\n",
    "\n",
    "                            gens = list(range(max_len))\n",
    "                            fig.add_trace(go.Scatter(x=gens, y=avg_fitness, mode=\"lines\", name=algo_name))\n",
    "\n",
    "        fig.update_layout(\n",
    "            title=f\"<b>Average Convergence Plot for {func_name}</b>\",\n",
    "            xaxis_title=\"Generation\",\n",
    "            yaxis_title=\"Average Best Fitness (Lower is Better)\",\n",
    "            template=\"plotly_white\",\n",
    "            legend_title=\"Algorithm\"\n",
    "        )\n",
    "        fig.show()\n",
    "\n",
    "\n",
    "    # Create and print summary DataFrame\n",
    "    results_df = pd.DataFrame(summary_data)\n",
    "    print(\"\\n--- Results DataFrame ---\")\n",
    "    pd.set_option('display.float_format', lambda x: '%.3e' % x)\n",
    "    print(results_df)\n",
    "\n",
    "    # Save summary to CSV\n",
    "    results_df.to_csv(\"optimization_results.csv\", index=False)\n",
    "\n",
    "    # Fitness Bar Chart\n",
    "    fig_fitness = go.Figure()\n",
    "    for algo_name in algorithms:\n",
    "        fig_fitness.add_trace(go.Bar(\n",
    "            name=algo_name,\n",
    "            x=results_df[\"Function\"],\n",
    "            y=results_df[f\"{algo_name} Mean Fitness\"],\n",
    "            error_y=dict(type=\"data\", array=results_df[f\"{algo_name} Std Fitness\"])\n",
    "        ))\n",
    "    fig_fitness.update_layout(\n",
    "        barmode=\"group\",\n",
    "        title_text=\"<b>Mean Fitness Comparison Across Algorithms</b>\",\n",
    "        xaxis_title=\"Benchmark Function\",\n",
    "        yaxis_title=\"Mean Best Fitness (Log Scale)\",\n",
    "        yaxis_type=\"log\",\n",
    "        legend_title=\"Algorithm\",\n",
    "        template=\"plotly_white\"\n",
    "    )\n",
    "    fig_fitness.show()\n",
    "\n",
    "    # Time Bar Chart\n",
    "    fig_time = go.Figure()\n",
    "    for algo_name in algorithms:\n",
    "        fig_time.add_trace(go.Bar(\n",
    "            name=algo_name,\n",
    "            x=results_df[\"Function\"],\n",
    "            y=results_df[f\"{algo_name} Mean Time (s)\"]\n",
    "        ))\n",
    "    fig_time.update_layout(\n",
    "        barmode=\"group\",\n",
    "        title_text=\"<b>Mean Execution Time Comparison</b>\",\n",
    "        xaxis_title=\"Benchmark Function\",\n",
    "        yaxis_title=\"Mean Execution Time (seconds)\",\n",
    "        legend_title=\"Algorithm\",\n",
    "        template=\"plotly_white\"\n",
    "    )\n",
    "    fig_time.show()\n",
    "\n",
    "# --- Main Execution Block ---\n",
    "def main():\n",
    "    # --- Experiment Setup ---\n",
    "    N_DIMENSIONS = 10\n",
    "    N_POPULATION = 50\n",
    "    N_GENERATIONS = 100\n",
    "    N_RUNS = 5\n",
    "\n",
    "    FUNCTIONS = {\n",
    "        \"Sphere\": (sphere, (-5.12, 5.12)),\n",
    "        \"Rastrigin\": (rastrigin, (-5.12, 5.12)),\n",
    "        \"Rosenbrock\": (rosenbrock, (-5, 10)),\n",
    "        \"Ackley\": (ackley, (-32.768, 32.768)),\n",
    "        \"Griewank\": (griewank, (-600, 600)),\n",
    "        \"Michalewicz\": (michalewicz, (0, np.pi)),\n",
    "    }\n",
    "\n",
    "    ALGORITHMS = {\n",
    "        \"GA\": lambda toolbox, func: run_standard_ga(toolbox, FUNCTIONS[func][0], N_POPULATION, N_GENERATIONS),\n",
    "        \"PPS-GA\": lambda toolbox, func: PPSGA(FUNCTIONS[func][1], N_DIMENSIONS, N_POPULATION, N_GENERATIONS).run(FUNCTIONS[func][0]),\n",
    "        \"RLCGWO\": lambda toolbox, func: RLCGWO(FUNCTIONS[func][1], N_DIMENSIONS, N_POPULATION, N_GENERATIONS).run(FUNCTIONS[func][0]),\n",
    "        \"EnhancedRLGWO\": lambda toolbox, func: EnhancedRLGWO(FUNCTIONS[func][1], N_DIMENSIONS, N_POPULATION, N_GENERATIONS).run(FUNCTIONS[func][0]),\n",
    "        \"DE\": lambda toolbox, func: run_de(FUNCTIONS[func][0], FUNCTIONS[func][1], N_DIMENSIONS, N_GENERATIONS // 15),\n",
    "        \"PSO\": lambda toolbox, func: run_pso(FUNCTIONS[func][0], FUNCTIONS[func][1], N_DIMENSIONS, N_GENERATIONS // 2),\n",
    "    }\n",
    "\n",
    "    COMPLEXITY = {\n",
    "        \"GA\": \"O(G*P*D)\",\n",
    "        \"PPS-GA\": \"O(G*P*(D+P))\",\n",
    "        \"RLCGWO\": \"O(G*P*(D+P))\",\n",
    "        \"EnhancedRLGWO\": \"O(G*P*(D+P) + G*RL)\",\n",
    "        \"DE\": \"O(G*P*D)\",\n",
    "        \"PSO\": \"O(G*P*D)\",\n",
    "    }\n",
    "\n",
    "    # --- Run Experiments ---\n",
    "    results = {algo: {func: {\"fitness\": [], \"time\": [], \"logbook\": []} for func in FUNCTIONS} for algo in ALGORITHMS}\n",
    "    toolbox = setup_ga((-10, 10), N_DIMENSIONS)  # Default bounds for GA setup\n",
    "\n",
    "    for func_name in FUNCTIONS:\n",
    "        print(f\"🧪 Running experiments for {func_name}...\")\n",
    "        for algo_name in ALGORITHMS:\n",
    "            print(f\"  -> Algorithm: {algo_name}\")\n",
    "            for i in range(N_RUNS):\n",
    "                fitness, logbook, time_taken = ALGORITHMS[algo_name](toolbox, func_name)\n",
    "                results[algo_name][func_name][\"fitness\"].append(fitness)\n",
    "                results[algo_name][func_name][\"time\"].append(time_taken)\n",
    "                results[algo_name][func_name][\"logbook\"].append(logbook)\n",
    "\n",
    "    # --- Analysis and Visualization ---\n",
    "    create_plots_and_stats(results, FUNCTIONS.keys(), ALGORITHMS.keys(), COMPLEXITY)\n",
    "\n",
    "    print(\"\\nComputational Complexity (G=Generations, P=Population, D=Dimensions, RL=RL update cost):\")\n",
    "    for algo, complexity in COMPLEXITY.items():\n",
    "        print(f\"- {algo}: {complexity}\")\n",
    "\n",
    "if __name__ == \"__main__\":\n",
    "    main()"
   ]
  }
 ],
 "metadata": {
  "colab": {
   "provenance": []
  },
  "kernelspec": {
   "display_name": ".venv",
   "language": "python",
   "name": "python3"
  },
  "language_info": {
   "codemirror_mode": {
    "name": "ipython",
    "version": 3
   },
   "file_extension": ".py",
   "mimetype": "text/x-python",
   "name": "python",
   "nbconvert_exporter": "python",
   "pygments_lexer": "ipython3",
   "version": "3.11.12"
  }
 },
 "nbformat": 4,
 "nbformat_minor": 5
}
